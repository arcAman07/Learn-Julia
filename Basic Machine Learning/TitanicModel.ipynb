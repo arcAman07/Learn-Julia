{
 "cells": [
  {
   "cell_type": "code",
   "execution_count": 1,
   "id": "3b5973ad",
   "metadata": {},
   "outputs": [],
   "source": [
    "using Pkg"
   ]
  },
  {
   "cell_type": "code",
   "execution_count": 2,
   "id": "58939060",
   "metadata": {},
   "outputs": [
    {
     "name": "stderr",
     "output_type": "stream",
     "text": [
      "\u001b[32m\u001b[1m    Updating\u001b[22m\u001b[39m registry at `C:\\Users\\amans\\.julia\\registries\\General.toml`\n",
      "\u001b[32m\u001b[1m   Resolving\u001b[22m\u001b[39m package versions...\n",
      "\u001b[32m\u001b[1m  No Changes\u001b[22m\u001b[39m to `C:\\Users\\amans\\.julia\\environments\\v1.7\\Project.toml`\n",
      "\u001b[32m\u001b[1m  No Changes\u001b[22m\u001b[39m to `C:\\Users\\amans\\.julia\\environments\\v1.7\\Manifest.toml`\n"
     ]
    }
   ],
   "source": [
    "Pkg.add(\"StatsBase\")"
   ]
  },
  {
   "cell_type": "code",
   "execution_count": 3,
   "id": "e15504fd",
   "metadata": {},
   "outputs": [
    {
     "name": "stderr",
     "output_type": "stream",
     "text": [
      "\u001b[32m\u001b[1m   Resolving\u001b[22m\u001b[39m package versions...\n",
      "\u001b[32m\u001b[1m  No Changes\u001b[22m\u001b[39m to `C:\\Users\\amans\\.julia\\environments\\v1.7\\Project.toml`\n",
      "\u001b[32m\u001b[1m  No Changes\u001b[22m\u001b[39m to `C:\\Users\\amans\\.julia\\environments\\v1.7\\Manifest.toml`\n"
     ]
    }
   ],
   "source": [
    "Pkg.add(\"NNlib\")"
   ]
  },
  {
   "cell_type": "code",
   "execution_count": 4,
   "id": "34d3a339",
   "metadata": {},
   "outputs": [
    {
     "name": "stderr",
     "output_type": "stream",
     "text": [
      "\u001b[32m\u001b[1m   Resolving\u001b[22m\u001b[39m package versions...\n",
      "\u001b[32m\u001b[1m  No Changes\u001b[22m\u001b[39m to `C:\\Users\\amans\\.julia\\environments\\v1.7\\Project.toml`\n",
      "\u001b[32m\u001b[1m  No Changes\u001b[22m\u001b[39m to `C:\\Users\\amans\\.julia\\environments\\v1.7\\Manifest.toml`\n"
     ]
    }
   ],
   "source": [
    "Pkg.add(\"Missings\")"
   ]
  },
  {
   "cell_type": "code",
   "execution_count": 5,
   "id": "9813c516",
   "metadata": {},
   "outputs": [
    {
     "name": "stderr",
     "output_type": "stream",
     "text": [
      "\u001b[32m\u001b[1m   Resolving\u001b[22m\u001b[39m package versions...\n",
      "\u001b[32m\u001b[1m  No Changes\u001b[22m\u001b[39m to `C:\\Users\\amans\\.julia\\environments\\v1.7\\Project.toml`\n",
      "\u001b[32m\u001b[1m  No Changes\u001b[22m\u001b[39m to `C:\\Users\\amans\\.julia\\environments\\v1.7\\Manifest.toml`\n"
     ]
    }
   ],
   "source": [
    "Pkg.add(\"CSV\")"
   ]
  },
  {
   "cell_type": "code",
   "execution_count": 6,
   "id": "a7a5c9e8",
   "metadata": {},
   "outputs": [
    {
     "name": "stderr",
     "output_type": "stream",
     "text": [
      "\u001b[32m\u001b[1m   Resolving\u001b[22m\u001b[39m package versions...\n",
      "\u001b[32m\u001b[1m  No Changes\u001b[22m\u001b[39m to `C:\\Users\\amans\\.julia\\environments\\v1.7\\Project.toml`\n",
      "\u001b[32m\u001b[1m  No Changes\u001b[22m\u001b[39m to `C:\\Users\\amans\\.julia\\environments\\v1.7\\Manifest.toml`\n"
     ]
    }
   ],
   "source": [
    "Pkg.add(\"MLDatasets\")"
   ]
  },
  {
   "cell_type": "code",
   "execution_count": 7,
   "id": "a7ab5757",
   "metadata": {},
   "outputs": [
    {
     "name": "stderr",
     "output_type": "stream",
     "text": [
      "\u001b[32m\u001b[1m   Resolving\u001b[22m\u001b[39m package versions...\n",
      "\u001b[32m\u001b[1m  No Changes\u001b[22m\u001b[39m to `C:\\Users\\amans\\.julia\\environments\\v1.7\\Project.toml`\n",
      "\u001b[32m\u001b[1m  No Changes\u001b[22m\u001b[39m to `C:\\Users\\amans\\.julia\\environments\\v1.7\\Manifest.toml`\n"
     ]
    }
   ],
   "source": [
    "Pkg.add(\"Flux\")"
   ]
  },
  {
   "cell_type": "code",
   "execution_count": 8,
   "id": "c1be7f21",
   "metadata": {},
   "outputs": [
    {
     "name": "stderr",
     "output_type": "stream",
     "text": [
      "\u001b[32m\u001b[1m   Resolving\u001b[22m\u001b[39m package versions...\n",
      "\u001b[32m\u001b[1m  No Changes\u001b[22m\u001b[39m to `C:\\Users\\amans\\.julia\\environments\\v1.7\\Project.toml`\n",
      "\u001b[32m\u001b[1m  No Changes\u001b[22m\u001b[39m to `C:\\Users\\amans\\.julia\\environments\\v1.7\\Manifest.toml`\n"
     ]
    }
   ],
   "source": [
    "Pkg.add(\"DataFrames\")"
   ]
  },
  {
   "cell_type": "code",
   "execution_count": 9,
   "id": "4b827329",
   "metadata": {},
   "outputs": [
    {
     "name": "stderr",
     "output_type": "stream",
     "text": [
      "\u001b[32m\u001b[1m   Resolving\u001b[22m\u001b[39m package versions...\n",
      "\u001b[32m\u001b[1m  No Changes\u001b[22m\u001b[39m to `C:\\Users\\amans\\.julia\\environments\\v1.7\\Project.toml`\n",
      "\u001b[32m\u001b[1m  No Changes\u001b[22m\u001b[39m to `C:\\Users\\amans\\.julia\\environments\\v1.7\\Manifest.toml`\n"
     ]
    }
   ],
   "source": [
    "Pkg.add(\"Parameters\")"
   ]
  },
  {
   "cell_type": "code",
   "execution_count": 1,
   "id": "a2db6a35",
   "metadata": {},
   "outputs": [],
   "source": [
    "using Parameters: @with_kw"
   ]
  },
  {
   "cell_type": "code",
   "execution_count": 2,
   "id": "0a3fe446",
   "metadata": {},
   "outputs": [],
   "source": [
    "using CSV"
   ]
  },
  {
   "cell_type": "code",
   "execution_count": 3,
   "id": "eb061366",
   "metadata": {},
   "outputs": [],
   "source": [
    "using NNlib"
   ]
  },
  {
   "cell_type": "code",
   "execution_count": 4,
   "id": "7620013e",
   "metadata": {},
   "outputs": [],
   "source": [
    "using Flux"
   ]
  },
  {
   "cell_type": "code",
   "execution_count": 5,
   "id": "3c09b4e2",
   "metadata": {},
   "outputs": [],
   "source": [
    "using Flux: logitcrossentropy, normalise, onecold, onehotbatch, onehot"
   ]
  },
  {
   "cell_type": "code",
   "execution_count": 6,
   "id": "fe5cc573",
   "metadata": {},
   "outputs": [],
   "source": [
    "using MLDatasets:Titanic"
   ]
  },
  {
   "cell_type": "code",
   "execution_count": 7,
   "id": "801558e1",
   "metadata": {},
   "outputs": [],
   "source": [
    "using StatsBase"
   ]
  },
  {
   "cell_type": "code",
   "execution_count": 8,
   "id": "84aaa2d1",
   "metadata": {},
   "outputs": [],
   "source": [
    "using DataFrames"
   ]
  },
  {
   "cell_type": "code",
   "execution_count": 9,
   "id": "3645fa91",
   "metadata": {},
   "outputs": [],
   "source": [
    "using Missings"
   ]
  },
  {
   "cell_type": "code",
   "execution_count": 10,
   "id": "18010685",
   "metadata": {},
   "outputs": [],
   "source": [
    "# Cleaning the data => Removing the \"Name\", \"Ticket\", \"Cabin\", \"PassengerId\""
   ]
  },
  {
   "cell_type": "code",
   "execution_count": 11,
   "id": "d1f20fd9",
   "metadata": {},
   "outputs": [
    {
     "data": {
      "text/html": [
       "<div class=\"data-frame\"><p>891 rows × 12 columns (omitted printing of 8 columns)</p><table class=\"data-frame\"><thead><tr><th></th><th>PassengerId</th><th>Survived</th><th>Pclass</th><th>Name</th></tr><tr><th></th><th title=\"Int64\">Int64</th><th title=\"Int64\">Int64</th><th title=\"Int64\">Int64</th><th title=\"String\">String</th></tr></thead><tbody><tr><th>1</th><td>1</td><td>0</td><td>3</td><td>Braund, Mr. Owen Harris</td></tr><tr><th>2</th><td>2</td><td>1</td><td>1</td><td>Cumings, Mrs. John Bradley (Florence Briggs Thayer)</td></tr><tr><th>3</th><td>3</td><td>1</td><td>3</td><td>Heikkinen, Miss. Laina</td></tr><tr><th>4</th><td>4</td><td>1</td><td>1</td><td>Futrelle, Mrs. Jacques Heath (Lily May Peel)</td></tr><tr><th>5</th><td>5</td><td>0</td><td>3</td><td>Allen, Mr. William Henry</td></tr><tr><th>6</th><td>6</td><td>0</td><td>3</td><td>Moran, Mr. James</td></tr><tr><th>7</th><td>7</td><td>0</td><td>1</td><td>McCarthy, Mr. Timothy J</td></tr><tr><th>8</th><td>8</td><td>0</td><td>3</td><td>Palsson, Master. Gosta Leonard</td></tr><tr><th>9</th><td>9</td><td>1</td><td>3</td><td>Johnson, Mrs. Oscar W (Elisabeth Vilhelmina Berg)</td></tr><tr><th>10</th><td>10</td><td>1</td><td>2</td><td>Nasser, Mrs. Nicholas (Adele Achem)</td></tr><tr><th>11</th><td>11</td><td>1</td><td>3</td><td>Sandstrom, Miss. Marguerite Rut</td></tr><tr><th>12</th><td>12</td><td>1</td><td>1</td><td>Bonnell, Miss. Elizabeth</td></tr><tr><th>13</th><td>13</td><td>0</td><td>3</td><td>Saundercock, Mr. William Henry</td></tr><tr><th>14</th><td>14</td><td>0</td><td>3</td><td>Andersson, Mr. Anders Johan</td></tr><tr><th>15</th><td>15</td><td>0</td><td>3</td><td>Vestrom, Miss. Hulda Amanda Adolfina</td></tr><tr><th>16</th><td>16</td><td>1</td><td>2</td><td>Hewlett, Mrs. (Mary D Kingcome) </td></tr><tr><th>17</th><td>17</td><td>0</td><td>3</td><td>Rice, Master. Eugene</td></tr><tr><th>18</th><td>18</td><td>1</td><td>2</td><td>Williams, Mr. Charles Eugene</td></tr><tr><th>19</th><td>19</td><td>0</td><td>3</td><td>Vander Planke, Mrs. Julius (Emelia Maria Vandemoortele)</td></tr><tr><th>20</th><td>20</td><td>1</td><td>3</td><td>Masselmani, Mrs. Fatima</td></tr><tr><th>21</th><td>21</td><td>0</td><td>2</td><td>Fynney, Mr. Joseph J</td></tr><tr><th>22</th><td>22</td><td>1</td><td>2</td><td>Beesley, Mr. Lawrence</td></tr><tr><th>23</th><td>23</td><td>1</td><td>3</td><td>McGowan, Miss. Anna &quot;Annie&quot;</td></tr><tr><th>24</th><td>24</td><td>1</td><td>1</td><td>Sloper, Mr. William Thompson</td></tr><tr><th>25</th><td>25</td><td>0</td><td>3</td><td>Palsson, Miss. Torborg Danira</td></tr><tr><th>26</th><td>26</td><td>1</td><td>3</td><td>Asplund, Mrs. Carl Oscar (Selma Augusta Emilia Johansson)</td></tr><tr><th>27</th><td>27</td><td>0</td><td>3</td><td>Emir, Mr. Farred Chehab</td></tr><tr><th>28</th><td>28</td><td>0</td><td>1</td><td>Fortune, Mr. Charles Alexander</td></tr><tr><th>29</th><td>29</td><td>1</td><td>3</td><td>O&apos;Dwyer, Miss. Ellen &quot;Nellie&quot;</td></tr><tr><th>30</th><td>30</td><td>0</td><td>3</td><td>Todoroff, Mr. Lalio</td></tr><tr><th>&vellip;</th><td>&vellip;</td><td>&vellip;</td><td>&vellip;</td><td>&vellip;</td></tr></tbody></table></div>"
      ],
      "text/latex": [
       "\\begin{tabular}{r|ccccc}\n",
       "\t& PassengerId & Survived & Pclass & Name & \\\\\n",
       "\t\\hline\n",
       "\t& Int64 & Int64 & Int64 & String & \\\\\n",
       "\t\\hline\n",
       "\t1 & 1 & 0 & 3 & Braund, Mr. Owen Harris & $\\dots$ \\\\\n",
       "\t2 & 2 & 1 & 1 & Cumings, Mrs. John Bradley (Florence Briggs Thayer) & $\\dots$ \\\\\n",
       "\t3 & 3 & 1 & 3 & Heikkinen, Miss. Laina & $\\dots$ \\\\\n",
       "\t4 & 4 & 1 & 1 & Futrelle, Mrs. Jacques Heath (Lily May Peel) & $\\dots$ \\\\\n",
       "\t5 & 5 & 0 & 3 & Allen, Mr. William Henry & $\\dots$ \\\\\n",
       "\t6 & 6 & 0 & 3 & Moran, Mr. James & $\\dots$ \\\\\n",
       "\t7 & 7 & 0 & 1 & McCarthy, Mr. Timothy J & $\\dots$ \\\\\n",
       "\t8 & 8 & 0 & 3 & Palsson, Master. Gosta Leonard & $\\dots$ \\\\\n",
       "\t9 & 9 & 1 & 3 & Johnson, Mrs. Oscar W (Elisabeth Vilhelmina Berg) & $\\dots$ \\\\\n",
       "\t10 & 10 & 1 & 2 & Nasser, Mrs. Nicholas (Adele Achem) & $\\dots$ \\\\\n",
       "\t11 & 11 & 1 & 3 & Sandstrom, Miss. Marguerite Rut & $\\dots$ \\\\\n",
       "\t12 & 12 & 1 & 1 & Bonnell, Miss. Elizabeth & $\\dots$ \\\\\n",
       "\t13 & 13 & 0 & 3 & Saundercock, Mr. William Henry & $\\dots$ \\\\\n",
       "\t14 & 14 & 0 & 3 & Andersson, Mr. Anders Johan & $\\dots$ \\\\\n",
       "\t15 & 15 & 0 & 3 & Vestrom, Miss. Hulda Amanda Adolfina & $\\dots$ \\\\\n",
       "\t16 & 16 & 1 & 2 & Hewlett, Mrs. (Mary D Kingcome)  & $\\dots$ \\\\\n",
       "\t17 & 17 & 0 & 3 & Rice, Master. Eugene & $\\dots$ \\\\\n",
       "\t18 & 18 & 1 & 2 & Williams, Mr. Charles Eugene & $\\dots$ \\\\\n",
       "\t19 & 19 & 0 & 3 & Vander Planke, Mrs. Julius (Emelia Maria Vandemoortele) & $\\dots$ \\\\\n",
       "\t20 & 20 & 1 & 3 & Masselmani, Mrs. Fatima & $\\dots$ \\\\\n",
       "\t21 & 21 & 0 & 2 & Fynney, Mr. Joseph J & $\\dots$ \\\\\n",
       "\t22 & 22 & 1 & 2 & Beesley, Mr. Lawrence & $\\dots$ \\\\\n",
       "\t23 & 23 & 1 & 3 & McGowan, Miss. Anna \"Annie\" & $\\dots$ \\\\\n",
       "\t24 & 24 & 1 & 1 & Sloper, Mr. William Thompson & $\\dots$ \\\\\n",
       "\t25 & 25 & 0 & 3 & Palsson, Miss. Torborg Danira & $\\dots$ \\\\\n",
       "\t26 & 26 & 1 & 3 & Asplund, Mrs. Carl Oscar (Selma Augusta Emilia Johansson) & $\\dots$ \\\\\n",
       "\t27 & 27 & 0 & 3 & Emir, Mr. Farred Chehab & $\\dots$ \\\\\n",
       "\t28 & 28 & 0 & 1 & Fortune, Mr. Charles Alexander & $\\dots$ \\\\\n",
       "\t29 & 29 & 1 & 3 & O'Dwyer, Miss. Ellen \"Nellie\" & $\\dots$ \\\\\n",
       "\t30 & 30 & 0 & 3 & Todoroff, Mr. Lalio & $\\dots$ \\\\\n",
       "\t$\\dots$ & $\\dots$ & $\\dots$ & $\\dots$ & $\\dots$ &  \\\\\n",
       "\\end{tabular}\n"
      ],
      "text/plain": [
       "\u001b[1m891×12 DataFrame\u001b[0m\n",
       "\u001b[1m Row \u001b[0m│\u001b[1m PassengerId \u001b[0m\u001b[1m Survived \u001b[0m\u001b[1m Pclass \u001b[0m\u001b[1m Name                              \u001b[0m\u001b[1m Sex  \u001b[0m ⋯\n",
       "\u001b[1m     \u001b[0m│\u001b[90m Int64       \u001b[0m\u001b[90m Int64    \u001b[0m\u001b[90m Int64  \u001b[0m\u001b[90m String                            \u001b[0m\u001b[90m Strin\u001b[0m ⋯\n",
       "─────┼──────────────────────────────────────────────────────────────────────────\n",
       "   1 │           1         0       3  Braund, Mr. Owen Harris            male  ⋯\n",
       "   2 │           2         1       1  Cumings, Mrs. John Bradley (Flor…  femal\n",
       "   3 │           3         1       3  Heikkinen, Miss. Laina             femal\n",
       "   4 │           4         1       1  Futrelle, Mrs. Jacques Heath (Li…  femal\n",
       "   5 │           5         0       3  Allen, Mr. William Henry           male  ⋯\n",
       "   6 │           6         0       3  Moran, Mr. James                   male\n",
       "   7 │           7         0       1  McCarthy, Mr. Timothy J            male\n",
       "   8 │           8         0       3  Palsson, Master. Gosta Leonard     male\n",
       "   9 │           9         1       3  Johnson, Mrs. Oscar W (Elisabeth…  femal ⋯\n",
       "  10 │          10         1       2  Nasser, Mrs. Nicholas (Adele Ach…  femal\n",
       "  11 │          11         1       3  Sandstrom, Miss. Marguerite Rut    femal\n",
       "  ⋮  │      ⋮          ⋮        ⋮                     ⋮                     ⋮  ⋱\n",
       " 882 │         882         0       3  Markun, Mr. Johann                 male\n",
       " 883 │         883         0       3  Dahlberg, Miss. Gerda Ulrika       femal ⋯\n",
       " 884 │         884         0       2  Banfield, Mr. Frederick James      male\n",
       " 885 │         885         0       3  Sutehall, Mr. Henry Jr             male\n",
       " 886 │         886         0       3  Rice, Mrs. William (Margaret Nor…  femal\n",
       " 887 │         887         0       2  Montvila, Rev. Juozas              male  ⋯\n",
       " 888 │         888         1       1  Graham, Miss. Margaret Edith       femal\n",
       " 889 │         889         0       3  Johnston, Miss. Catherine Helen …  femal\n",
       " 890 │         890         1       1  Behr, Mr. Karl Howell              male\n",
       " 891 │         891         0       3  Dooley, Mr. Patrick                male  ⋯\n",
       "\u001b[36m                                                  8 columns and 870 rows omitted\u001b[0m"
      ]
     },
     "execution_count": 11,
     "metadata": {},
     "output_type": "execute_result"
    }
   ],
   "source": [
    "train_data = CSV.read(\"D:/Julia/TitanicML/train.csv\",DataFrame)"
   ]
  },
  {
   "cell_type": "code",
   "execution_count": 12,
   "id": "78864b9c",
   "metadata": {},
   "outputs": [
    {
     "data": {
      "text/html": [
       "<div class=\"data-frame\"><p>12 rows × 7 columns (omitted printing of 2 columns)</p><table class=\"data-frame\"><thead><tr><th></th><th>variable</th><th>mean</th><th>min</th><th>median</th><th>max</th></tr><tr><th></th><th title=\"Symbol\">Symbol</th><th title=\"Union{Nothing, Float64}\">Union…</th><th title=\"Any\">Any</th><th title=\"Union{Nothing, Float64}\">Union…</th><th title=\"Any\">Any</th></tr></thead><tbody><tr><th>1</th><td>PassengerId</td><td>446.0</td><td>1</td><td>446.0</td><td>891</td></tr><tr><th>2</th><td>Survived</td><td>0.383838</td><td>0</td><td>0.0</td><td>1</td></tr><tr><th>3</th><td>Pclass</td><td>2.30864</td><td>1</td><td>3.0</td><td>3</td></tr><tr><th>4</th><td>Name</td><td></td><td>Abbing, Mr. Anthony</td><td></td><td>van Melkebeke, Mr. Philemon</td></tr><tr><th>5</th><td>Sex</td><td></td><td>female</td><td></td><td>male</td></tr><tr><th>6</th><td>Age</td><td>29.6991</td><td>0.42</td><td>28.0</td><td>80.0</td></tr><tr><th>7</th><td>SibSp</td><td>0.523008</td><td>0</td><td>0.0</td><td>8</td></tr><tr><th>8</th><td>Parch</td><td>0.381594</td><td>0</td><td>0.0</td><td>6</td></tr><tr><th>9</th><td>Ticket</td><td></td><td>110152</td><td></td><td>WE/P 5735</td></tr><tr><th>10</th><td>Fare</td><td>32.2042</td><td>0.0</td><td>14.4542</td><td>512.329</td></tr><tr><th>11</th><td>Cabin</td><td></td><td>A10</td><td></td><td>T</td></tr><tr><th>12</th><td>Embarked</td><td></td><td>C</td><td></td><td>S</td></tr></tbody></table></div>"
      ],
      "text/latex": [
       "\\begin{tabular}{r|cccccc}\n",
       "\t& variable & mean & min & median & max & \\\\\n",
       "\t\\hline\n",
       "\t& Symbol & Union… & Any & Union… & Any & \\\\\n",
       "\t\\hline\n",
       "\t1 & PassengerId & 446.0 & 1 & 446.0 & 891 & $\\dots$ \\\\\n",
       "\t2 & Survived & 0.383838 & 0 & 0.0 & 1 & $\\dots$ \\\\\n",
       "\t3 & Pclass & 2.30864 & 1 & 3.0 & 3 & $\\dots$ \\\\\n",
       "\t4 & Name &  & Abbing, Mr. Anthony &  & van Melkebeke, Mr. Philemon & $\\dots$ \\\\\n",
       "\t5 & Sex &  & female &  & male & $\\dots$ \\\\\n",
       "\t6 & Age & 29.6991 & 0.42 & 28.0 & 80.0 & $\\dots$ \\\\\n",
       "\t7 & SibSp & 0.523008 & 0 & 0.0 & 8 & $\\dots$ \\\\\n",
       "\t8 & Parch & 0.381594 & 0 & 0.0 & 6 & $\\dots$ \\\\\n",
       "\t9 & Ticket &  & 110152 &  & WE/P 5735 & $\\dots$ \\\\\n",
       "\t10 & Fare & 32.2042 & 0.0 & 14.4542 & 512.329 & $\\dots$ \\\\\n",
       "\t11 & Cabin &  & A10 &  & T & $\\dots$ \\\\\n",
       "\t12 & Embarked &  & C &  & S & $\\dots$ \\\\\n",
       "\\end{tabular}\n"
      ],
      "text/plain": [
       "\u001b[1m12×7 DataFrame\u001b[0m\n",
       "\u001b[1m Row \u001b[0m│\u001b[1m variable    \u001b[0m\u001b[1m mean     \u001b[0m\u001b[1m min                 \u001b[0m\u001b[1m median  \u001b[0m\u001b[1m max               \u001b[0m ⋯\n",
       "\u001b[1m     \u001b[0m│\u001b[90m Symbol      \u001b[0m\u001b[90m Union…   \u001b[0m\u001b[90m Any                 \u001b[0m\u001b[90m Union…  \u001b[0m\u001b[90m Any               \u001b[0m ⋯\n",
       "─────┼──────────────────────────────────────────────────────────────────────────\n",
       "   1 │ PassengerId  446.0     1                    446.0    891                ⋯\n",
       "   2 │ Survived     0.383838  0                    0.0      1\n",
       "   3 │ Pclass       2.30864   1                    3.0      3\n",
       "   4 │ Name        \u001b[90m          \u001b[0m Abbing, Mr. Anthony \u001b[90m         \u001b[0m van Melkebeke, Mr.\n",
       "   5 │ Sex         \u001b[90m          \u001b[0m female              \u001b[90m         \u001b[0m male               ⋯\n",
       "   6 │ Age          29.6991   0.42                 28.0     80.0\n",
       "   7 │ SibSp        0.523008  0                    0.0      8\n",
       "   8 │ Parch        0.381594  0                    0.0      6\n",
       "   9 │ Ticket      \u001b[90m          \u001b[0m 110152              \u001b[90m         \u001b[0m WE/P 5735          ⋯\n",
       "  10 │ Fare         32.2042   0.0                  14.4542  512.329\n",
       "  11 │ Cabin       \u001b[90m          \u001b[0m A10                 \u001b[90m         \u001b[0m T\n",
       "  12 │ Embarked    \u001b[90m          \u001b[0m C                   \u001b[90m         \u001b[0m S\n",
       "\u001b[36m                                                               3 columns omitted\u001b[0m"
      ]
     },
     "execution_count": 12,
     "metadata": {},
     "output_type": "execute_result"
    }
   ],
   "source": [
    "describe(train_data)"
   ]
  },
  {
   "cell_type": "code",
   "execution_count": 13,
   "id": "e30c72c6",
   "metadata": {},
   "outputs": [],
   "source": [
    "# Cleaning the data => Removing the \"Name\", \"Ticket\", \"Cabin\""
   ]
  },
  {
   "cell_type": "code",
   "execution_count": 14,
   "id": "3f90baf4",
   "metadata": {},
   "outputs": [
    {
     "data": {
      "text/html": [
       "<div class=\"data-frame\"><p>891 rows × 11 columns (omitted printing of 3 columns)</p><table class=\"data-frame\"><thead><tr><th></th><th>PassengerId</th><th>Survived</th><th>Pclass</th><th>Sex</th><th>Age</th><th>SibSp</th><th>Parch</th><th>Ticket</th></tr><tr><th></th><th title=\"Int64\">Int64</th><th title=\"Int64\">Int64</th><th title=\"Int64\">Int64</th><th title=\"String7\">String7</th><th title=\"Union{Missing, Float64}\">Float64?</th><th title=\"Int64\">Int64</th><th title=\"Int64\">Int64</th><th title=\"String31\">String31</th></tr></thead><tbody><tr><th>1</th><td>1</td><td>0</td><td>3</td><td>male</td><td>22.0</td><td>1</td><td>0</td><td>A/5 21171</td></tr><tr><th>2</th><td>2</td><td>1</td><td>1</td><td>female</td><td>38.0</td><td>1</td><td>0</td><td>PC 17599</td></tr><tr><th>3</th><td>3</td><td>1</td><td>3</td><td>female</td><td>26.0</td><td>0</td><td>0</td><td>STON/O2. 3101282</td></tr><tr><th>4</th><td>4</td><td>1</td><td>1</td><td>female</td><td>35.0</td><td>1</td><td>0</td><td>113803</td></tr><tr><th>5</th><td>5</td><td>0</td><td>3</td><td>male</td><td>35.0</td><td>0</td><td>0</td><td>373450</td></tr><tr><th>6</th><td>6</td><td>0</td><td>3</td><td>male</td><td><em>missing</em></td><td>0</td><td>0</td><td>330877</td></tr><tr><th>7</th><td>7</td><td>0</td><td>1</td><td>male</td><td>54.0</td><td>0</td><td>0</td><td>17463</td></tr><tr><th>8</th><td>8</td><td>0</td><td>3</td><td>male</td><td>2.0</td><td>3</td><td>1</td><td>349909</td></tr><tr><th>9</th><td>9</td><td>1</td><td>3</td><td>female</td><td>27.0</td><td>0</td><td>2</td><td>347742</td></tr><tr><th>10</th><td>10</td><td>1</td><td>2</td><td>female</td><td>14.0</td><td>1</td><td>0</td><td>237736</td></tr><tr><th>11</th><td>11</td><td>1</td><td>3</td><td>female</td><td>4.0</td><td>1</td><td>1</td><td>PP 9549</td></tr><tr><th>12</th><td>12</td><td>1</td><td>1</td><td>female</td><td>58.0</td><td>0</td><td>0</td><td>113783</td></tr><tr><th>13</th><td>13</td><td>0</td><td>3</td><td>male</td><td>20.0</td><td>0</td><td>0</td><td>A/5. 2151</td></tr><tr><th>14</th><td>14</td><td>0</td><td>3</td><td>male</td><td>39.0</td><td>1</td><td>5</td><td>347082</td></tr><tr><th>15</th><td>15</td><td>0</td><td>3</td><td>female</td><td>14.0</td><td>0</td><td>0</td><td>350406</td></tr><tr><th>16</th><td>16</td><td>1</td><td>2</td><td>female</td><td>55.0</td><td>0</td><td>0</td><td>248706</td></tr><tr><th>17</th><td>17</td><td>0</td><td>3</td><td>male</td><td>2.0</td><td>4</td><td>1</td><td>382652</td></tr><tr><th>18</th><td>18</td><td>1</td><td>2</td><td>male</td><td><em>missing</em></td><td>0</td><td>0</td><td>244373</td></tr><tr><th>19</th><td>19</td><td>0</td><td>3</td><td>female</td><td>31.0</td><td>1</td><td>0</td><td>345763</td></tr><tr><th>20</th><td>20</td><td>1</td><td>3</td><td>female</td><td><em>missing</em></td><td>0</td><td>0</td><td>2649</td></tr><tr><th>21</th><td>21</td><td>0</td><td>2</td><td>male</td><td>35.0</td><td>0</td><td>0</td><td>239865</td></tr><tr><th>22</th><td>22</td><td>1</td><td>2</td><td>male</td><td>34.0</td><td>0</td><td>0</td><td>248698</td></tr><tr><th>23</th><td>23</td><td>1</td><td>3</td><td>female</td><td>15.0</td><td>0</td><td>0</td><td>330923</td></tr><tr><th>24</th><td>24</td><td>1</td><td>1</td><td>male</td><td>28.0</td><td>0</td><td>0</td><td>113788</td></tr><tr><th>25</th><td>25</td><td>0</td><td>3</td><td>female</td><td>8.0</td><td>3</td><td>1</td><td>349909</td></tr><tr><th>26</th><td>26</td><td>1</td><td>3</td><td>female</td><td>38.0</td><td>1</td><td>5</td><td>347077</td></tr><tr><th>27</th><td>27</td><td>0</td><td>3</td><td>male</td><td><em>missing</em></td><td>0</td><td>0</td><td>2631</td></tr><tr><th>28</th><td>28</td><td>0</td><td>1</td><td>male</td><td>19.0</td><td>3</td><td>2</td><td>19950</td></tr><tr><th>29</th><td>29</td><td>1</td><td>3</td><td>female</td><td><em>missing</em></td><td>0</td><td>0</td><td>330959</td></tr><tr><th>30</th><td>30</td><td>0</td><td>3</td><td>male</td><td><em>missing</em></td><td>0</td><td>0</td><td>349216</td></tr><tr><th>&vellip;</th><td>&vellip;</td><td>&vellip;</td><td>&vellip;</td><td>&vellip;</td><td>&vellip;</td><td>&vellip;</td><td>&vellip;</td><td>&vellip;</td></tr></tbody></table></div>"
      ],
      "text/latex": [
       "\\begin{tabular}{r|ccccccccc}\n",
       "\t& PassengerId & Survived & Pclass & Sex & Age & SibSp & Parch & Ticket & \\\\\n",
       "\t\\hline\n",
       "\t& Int64 & Int64 & Int64 & String7 & Float64? & Int64 & Int64 & String31 & \\\\\n",
       "\t\\hline\n",
       "\t1 & 1 & 0 & 3 & male & 22.0 & 1 & 0 & A/5 21171 & $\\dots$ \\\\\n",
       "\t2 & 2 & 1 & 1 & female & 38.0 & 1 & 0 & PC 17599 & $\\dots$ \\\\\n",
       "\t3 & 3 & 1 & 3 & female & 26.0 & 0 & 0 & STON/O2. 3101282 & $\\dots$ \\\\\n",
       "\t4 & 4 & 1 & 1 & female & 35.0 & 1 & 0 & 113803 & $\\dots$ \\\\\n",
       "\t5 & 5 & 0 & 3 & male & 35.0 & 0 & 0 & 373450 & $\\dots$ \\\\\n",
       "\t6 & 6 & 0 & 3 & male & \\emph{missing} & 0 & 0 & 330877 & $\\dots$ \\\\\n",
       "\t7 & 7 & 0 & 1 & male & 54.0 & 0 & 0 & 17463 & $\\dots$ \\\\\n",
       "\t8 & 8 & 0 & 3 & male & 2.0 & 3 & 1 & 349909 & $\\dots$ \\\\\n",
       "\t9 & 9 & 1 & 3 & female & 27.0 & 0 & 2 & 347742 & $\\dots$ \\\\\n",
       "\t10 & 10 & 1 & 2 & female & 14.0 & 1 & 0 & 237736 & $\\dots$ \\\\\n",
       "\t11 & 11 & 1 & 3 & female & 4.0 & 1 & 1 & PP 9549 & $\\dots$ \\\\\n",
       "\t12 & 12 & 1 & 1 & female & 58.0 & 0 & 0 & 113783 & $\\dots$ \\\\\n",
       "\t13 & 13 & 0 & 3 & male & 20.0 & 0 & 0 & A/5. 2151 & $\\dots$ \\\\\n",
       "\t14 & 14 & 0 & 3 & male & 39.0 & 1 & 5 & 347082 & $\\dots$ \\\\\n",
       "\t15 & 15 & 0 & 3 & female & 14.0 & 0 & 0 & 350406 & $\\dots$ \\\\\n",
       "\t16 & 16 & 1 & 2 & female & 55.0 & 0 & 0 & 248706 & $\\dots$ \\\\\n",
       "\t17 & 17 & 0 & 3 & male & 2.0 & 4 & 1 & 382652 & $\\dots$ \\\\\n",
       "\t18 & 18 & 1 & 2 & male & \\emph{missing} & 0 & 0 & 244373 & $\\dots$ \\\\\n",
       "\t19 & 19 & 0 & 3 & female & 31.0 & 1 & 0 & 345763 & $\\dots$ \\\\\n",
       "\t20 & 20 & 1 & 3 & female & \\emph{missing} & 0 & 0 & 2649 & $\\dots$ \\\\\n",
       "\t21 & 21 & 0 & 2 & male & 35.0 & 0 & 0 & 239865 & $\\dots$ \\\\\n",
       "\t22 & 22 & 1 & 2 & male & 34.0 & 0 & 0 & 248698 & $\\dots$ \\\\\n",
       "\t23 & 23 & 1 & 3 & female & 15.0 & 0 & 0 & 330923 & $\\dots$ \\\\\n",
       "\t24 & 24 & 1 & 1 & male & 28.0 & 0 & 0 & 113788 & $\\dots$ \\\\\n",
       "\t25 & 25 & 0 & 3 & female & 8.0 & 3 & 1 & 349909 & $\\dots$ \\\\\n",
       "\t26 & 26 & 1 & 3 & female & 38.0 & 1 & 5 & 347077 & $\\dots$ \\\\\n",
       "\t27 & 27 & 0 & 3 & male & \\emph{missing} & 0 & 0 & 2631 & $\\dots$ \\\\\n",
       "\t28 & 28 & 0 & 1 & male & 19.0 & 3 & 2 & 19950 & $\\dots$ \\\\\n",
       "\t29 & 29 & 1 & 3 & female & \\emph{missing} & 0 & 0 & 330959 & $\\dots$ \\\\\n",
       "\t30 & 30 & 0 & 3 & male & \\emph{missing} & 0 & 0 & 349216 & $\\dots$ \\\\\n",
       "\t$\\dots$ & $\\dots$ & $\\dots$ & $\\dots$ & $\\dots$ & $\\dots$ & $\\dots$ & $\\dots$ & $\\dots$ &  \\\\\n",
       "\\end{tabular}\n"
      ],
      "text/plain": [
       "\u001b[1m891×11 DataFrame\u001b[0m\n",
       "\u001b[1m Row \u001b[0m│\u001b[1m PassengerId \u001b[0m\u001b[1m Survived \u001b[0m\u001b[1m Pclass \u001b[0m\u001b[1m Sex     \u001b[0m\u001b[1m Age       \u001b[0m\u001b[1m SibSp \u001b[0m\u001b[1m Parch \u001b[0m\u001b[1m Ticket\u001b[0m ⋯\n",
       "\u001b[1m     \u001b[0m│\u001b[90m Int64       \u001b[0m\u001b[90m Int64    \u001b[0m\u001b[90m Int64  \u001b[0m\u001b[90m String7 \u001b[0m\u001b[90m Float64?  \u001b[0m\u001b[90m Int64 \u001b[0m\u001b[90m Int64 \u001b[0m\u001b[90m String\u001b[0m ⋯\n",
       "─────┼──────────────────────────────────────────────────────────────────────────\n",
       "   1 │           1         0       3  male          22.0      1      0  A/5 21 ⋯\n",
       "   2 │           2         1       1  female        38.0      1      0  PC 175\n",
       "   3 │           3         1       3  female        26.0      0      0  STON/O\n",
       "   4 │           4         1       1  female        35.0      1      0  113803\n",
       "   5 │           5         0       3  male          35.0      0      0  373450 ⋯\n",
       "   6 │           6         0       3  male    \u001b[90m missing   \u001b[0m     0      0  330877\n",
       "   7 │           7         0       1  male          54.0      0      0  17463\n",
       "   8 │           8         0       3  male           2.0      3      1  349909\n",
       "   9 │           9         1       3  female        27.0      0      2  347742 ⋯\n",
       "  10 │          10         1       2  female        14.0      1      0  237736\n",
       "  11 │          11         1       3  female         4.0      1      1  PP 954\n",
       "  ⋮  │      ⋮          ⋮        ⋮        ⋮         ⋮        ⋮      ⋮           ⋱\n",
       " 882 │         882         0       3  male          33.0      0      0  349257\n",
       " 883 │         883         0       3  female        22.0      0      0  7552   ⋯\n",
       " 884 │         884         0       2  male          28.0      0      0  C.A./S\n",
       " 885 │         885         0       3  male          25.0      0      0  SOTON/\n",
       " 886 │         886         0       3  female        39.0      0      5  382652\n",
       " 887 │         887         0       2  male          27.0      0      0  211536 ⋯\n",
       " 888 │         888         1       1  female        19.0      0      0  112053\n",
       " 889 │         889         0       3  female  \u001b[90m missing   \u001b[0m     1      2  W./C.\n",
       " 890 │         890         1       1  male          26.0      0      0  111369\n",
       " 891 │         891         0       3  male          32.0      0      0  370376 ⋯\n",
       "\u001b[36m                                                  4 columns and 870 rows omitted\u001b[0m"
      ]
     },
     "execution_count": 14,
     "metadata": {},
     "output_type": "execute_result"
    }
   ],
   "source": [
    "train_data = select(train_data, Not(:\"Name\"))"
   ]
  },
  {
   "cell_type": "code",
   "execution_count": 15,
   "id": "ff9544f7",
   "metadata": {},
   "outputs": [
    {
     "data": {
      "text/html": [
       "<div class=\"data-frame\"><p>891 rows × 10 columns (omitted printing of 1 columns)</p><table class=\"data-frame\"><thead><tr><th></th><th>Survived</th><th>Pclass</th><th>Sex</th><th>Age</th><th>SibSp</th><th>Parch</th><th>Ticket</th><th>Fare</th><th>Cabin</th></tr><tr><th></th><th title=\"Int64\">Int64</th><th title=\"Int64\">Int64</th><th title=\"String7\">String7</th><th title=\"Union{Missing, Float64}\">Float64?</th><th title=\"Int64\">Int64</th><th title=\"Int64\">Int64</th><th title=\"String31\">String31</th><th title=\"Float64\">Float64</th><th title=\"Union{Missing, String15}\">String15?</th></tr></thead><tbody><tr><th>1</th><td>0</td><td>3</td><td>male</td><td>22.0</td><td>1</td><td>0</td><td>A/5 21171</td><td>7.25</td><td><em>missing</em></td></tr><tr><th>2</th><td>1</td><td>1</td><td>female</td><td>38.0</td><td>1</td><td>0</td><td>PC 17599</td><td>71.2833</td><td>C85</td></tr><tr><th>3</th><td>1</td><td>3</td><td>female</td><td>26.0</td><td>0</td><td>0</td><td>STON/O2. 3101282</td><td>7.925</td><td><em>missing</em></td></tr><tr><th>4</th><td>1</td><td>1</td><td>female</td><td>35.0</td><td>1</td><td>0</td><td>113803</td><td>53.1</td><td>C123</td></tr><tr><th>5</th><td>0</td><td>3</td><td>male</td><td>35.0</td><td>0</td><td>0</td><td>373450</td><td>8.05</td><td><em>missing</em></td></tr><tr><th>6</th><td>0</td><td>3</td><td>male</td><td><em>missing</em></td><td>0</td><td>0</td><td>330877</td><td>8.4583</td><td><em>missing</em></td></tr><tr><th>7</th><td>0</td><td>1</td><td>male</td><td>54.0</td><td>0</td><td>0</td><td>17463</td><td>51.8625</td><td>E46</td></tr><tr><th>8</th><td>0</td><td>3</td><td>male</td><td>2.0</td><td>3</td><td>1</td><td>349909</td><td>21.075</td><td><em>missing</em></td></tr><tr><th>9</th><td>1</td><td>3</td><td>female</td><td>27.0</td><td>0</td><td>2</td><td>347742</td><td>11.1333</td><td><em>missing</em></td></tr><tr><th>10</th><td>1</td><td>2</td><td>female</td><td>14.0</td><td>1</td><td>0</td><td>237736</td><td>30.0708</td><td><em>missing</em></td></tr><tr><th>11</th><td>1</td><td>3</td><td>female</td><td>4.0</td><td>1</td><td>1</td><td>PP 9549</td><td>16.7</td><td>G6</td></tr><tr><th>12</th><td>1</td><td>1</td><td>female</td><td>58.0</td><td>0</td><td>0</td><td>113783</td><td>26.55</td><td>C103</td></tr><tr><th>13</th><td>0</td><td>3</td><td>male</td><td>20.0</td><td>0</td><td>0</td><td>A/5. 2151</td><td>8.05</td><td><em>missing</em></td></tr><tr><th>14</th><td>0</td><td>3</td><td>male</td><td>39.0</td><td>1</td><td>5</td><td>347082</td><td>31.275</td><td><em>missing</em></td></tr><tr><th>15</th><td>0</td><td>3</td><td>female</td><td>14.0</td><td>0</td><td>0</td><td>350406</td><td>7.8542</td><td><em>missing</em></td></tr><tr><th>16</th><td>1</td><td>2</td><td>female</td><td>55.0</td><td>0</td><td>0</td><td>248706</td><td>16.0</td><td><em>missing</em></td></tr><tr><th>17</th><td>0</td><td>3</td><td>male</td><td>2.0</td><td>4</td><td>1</td><td>382652</td><td>29.125</td><td><em>missing</em></td></tr><tr><th>18</th><td>1</td><td>2</td><td>male</td><td><em>missing</em></td><td>0</td><td>0</td><td>244373</td><td>13.0</td><td><em>missing</em></td></tr><tr><th>19</th><td>0</td><td>3</td><td>female</td><td>31.0</td><td>1</td><td>0</td><td>345763</td><td>18.0</td><td><em>missing</em></td></tr><tr><th>20</th><td>1</td><td>3</td><td>female</td><td><em>missing</em></td><td>0</td><td>0</td><td>2649</td><td>7.225</td><td><em>missing</em></td></tr><tr><th>21</th><td>0</td><td>2</td><td>male</td><td>35.0</td><td>0</td><td>0</td><td>239865</td><td>26.0</td><td><em>missing</em></td></tr><tr><th>22</th><td>1</td><td>2</td><td>male</td><td>34.0</td><td>0</td><td>0</td><td>248698</td><td>13.0</td><td>D56</td></tr><tr><th>23</th><td>1</td><td>3</td><td>female</td><td>15.0</td><td>0</td><td>0</td><td>330923</td><td>8.0292</td><td><em>missing</em></td></tr><tr><th>24</th><td>1</td><td>1</td><td>male</td><td>28.0</td><td>0</td><td>0</td><td>113788</td><td>35.5</td><td>A6</td></tr><tr><th>25</th><td>0</td><td>3</td><td>female</td><td>8.0</td><td>3</td><td>1</td><td>349909</td><td>21.075</td><td><em>missing</em></td></tr><tr><th>26</th><td>1</td><td>3</td><td>female</td><td>38.0</td><td>1</td><td>5</td><td>347077</td><td>31.3875</td><td><em>missing</em></td></tr><tr><th>27</th><td>0</td><td>3</td><td>male</td><td><em>missing</em></td><td>0</td><td>0</td><td>2631</td><td>7.225</td><td><em>missing</em></td></tr><tr><th>28</th><td>0</td><td>1</td><td>male</td><td>19.0</td><td>3</td><td>2</td><td>19950</td><td>263.0</td><td>C23 C25 C27</td></tr><tr><th>29</th><td>1</td><td>3</td><td>female</td><td><em>missing</em></td><td>0</td><td>0</td><td>330959</td><td>7.8792</td><td><em>missing</em></td></tr><tr><th>30</th><td>0</td><td>3</td><td>male</td><td><em>missing</em></td><td>0</td><td>0</td><td>349216</td><td>7.8958</td><td><em>missing</em></td></tr><tr><th>&vellip;</th><td>&vellip;</td><td>&vellip;</td><td>&vellip;</td><td>&vellip;</td><td>&vellip;</td><td>&vellip;</td><td>&vellip;</td><td>&vellip;</td><td>&vellip;</td></tr></tbody></table></div>"
      ],
      "text/latex": [
       "\\begin{tabular}{r|cccccccccc}\n",
       "\t& Survived & Pclass & Sex & Age & SibSp & Parch & Ticket & Fare & Cabin & \\\\\n",
       "\t\\hline\n",
       "\t& Int64 & Int64 & String7 & Float64? & Int64 & Int64 & String31 & Float64 & String15? & \\\\\n",
       "\t\\hline\n",
       "\t1 & 0 & 3 & male & 22.0 & 1 & 0 & A/5 21171 & 7.25 & \\emph{missing} & $\\dots$ \\\\\n",
       "\t2 & 1 & 1 & female & 38.0 & 1 & 0 & PC 17599 & 71.2833 & C85 & $\\dots$ \\\\\n",
       "\t3 & 1 & 3 & female & 26.0 & 0 & 0 & STON/O2. 3101282 & 7.925 & \\emph{missing} & $\\dots$ \\\\\n",
       "\t4 & 1 & 1 & female & 35.0 & 1 & 0 & 113803 & 53.1 & C123 & $\\dots$ \\\\\n",
       "\t5 & 0 & 3 & male & 35.0 & 0 & 0 & 373450 & 8.05 & \\emph{missing} & $\\dots$ \\\\\n",
       "\t6 & 0 & 3 & male & \\emph{missing} & 0 & 0 & 330877 & 8.4583 & \\emph{missing} & $\\dots$ \\\\\n",
       "\t7 & 0 & 1 & male & 54.0 & 0 & 0 & 17463 & 51.8625 & E46 & $\\dots$ \\\\\n",
       "\t8 & 0 & 3 & male & 2.0 & 3 & 1 & 349909 & 21.075 & \\emph{missing} & $\\dots$ \\\\\n",
       "\t9 & 1 & 3 & female & 27.0 & 0 & 2 & 347742 & 11.1333 & \\emph{missing} & $\\dots$ \\\\\n",
       "\t10 & 1 & 2 & female & 14.0 & 1 & 0 & 237736 & 30.0708 & \\emph{missing} & $\\dots$ \\\\\n",
       "\t11 & 1 & 3 & female & 4.0 & 1 & 1 & PP 9549 & 16.7 & G6 & $\\dots$ \\\\\n",
       "\t12 & 1 & 1 & female & 58.0 & 0 & 0 & 113783 & 26.55 & C103 & $\\dots$ \\\\\n",
       "\t13 & 0 & 3 & male & 20.0 & 0 & 0 & A/5. 2151 & 8.05 & \\emph{missing} & $\\dots$ \\\\\n",
       "\t14 & 0 & 3 & male & 39.0 & 1 & 5 & 347082 & 31.275 & \\emph{missing} & $\\dots$ \\\\\n",
       "\t15 & 0 & 3 & female & 14.0 & 0 & 0 & 350406 & 7.8542 & \\emph{missing} & $\\dots$ \\\\\n",
       "\t16 & 1 & 2 & female & 55.0 & 0 & 0 & 248706 & 16.0 & \\emph{missing} & $\\dots$ \\\\\n",
       "\t17 & 0 & 3 & male & 2.0 & 4 & 1 & 382652 & 29.125 & \\emph{missing} & $\\dots$ \\\\\n",
       "\t18 & 1 & 2 & male & \\emph{missing} & 0 & 0 & 244373 & 13.0 & \\emph{missing} & $\\dots$ \\\\\n",
       "\t19 & 0 & 3 & female & 31.0 & 1 & 0 & 345763 & 18.0 & \\emph{missing} & $\\dots$ \\\\\n",
       "\t20 & 1 & 3 & female & \\emph{missing} & 0 & 0 & 2649 & 7.225 & \\emph{missing} & $\\dots$ \\\\\n",
       "\t21 & 0 & 2 & male & 35.0 & 0 & 0 & 239865 & 26.0 & \\emph{missing} & $\\dots$ \\\\\n",
       "\t22 & 1 & 2 & male & 34.0 & 0 & 0 & 248698 & 13.0 & D56 & $\\dots$ \\\\\n",
       "\t23 & 1 & 3 & female & 15.0 & 0 & 0 & 330923 & 8.0292 & \\emph{missing} & $\\dots$ \\\\\n",
       "\t24 & 1 & 1 & male & 28.0 & 0 & 0 & 113788 & 35.5 & A6 & $\\dots$ \\\\\n",
       "\t25 & 0 & 3 & female & 8.0 & 3 & 1 & 349909 & 21.075 & \\emph{missing} & $\\dots$ \\\\\n",
       "\t26 & 1 & 3 & female & 38.0 & 1 & 5 & 347077 & 31.3875 & \\emph{missing} & $\\dots$ \\\\\n",
       "\t27 & 0 & 3 & male & \\emph{missing} & 0 & 0 & 2631 & 7.225 & \\emph{missing} & $\\dots$ \\\\\n",
       "\t28 & 0 & 1 & male & 19.0 & 3 & 2 & 19950 & 263.0 & C23 C25 C27 & $\\dots$ \\\\\n",
       "\t29 & 1 & 3 & female & \\emph{missing} & 0 & 0 & 330959 & 7.8792 & \\emph{missing} & $\\dots$ \\\\\n",
       "\t30 & 0 & 3 & male & \\emph{missing} & 0 & 0 & 349216 & 7.8958 & \\emph{missing} & $\\dots$ \\\\\n",
       "\t$\\dots$ & $\\dots$ & $\\dots$ & $\\dots$ & $\\dots$ & $\\dots$ & $\\dots$ & $\\dots$ & $\\dots$ & $\\dots$ &  \\\\\n",
       "\\end{tabular}\n"
      ],
      "text/plain": [
       "\u001b[1m891×10 DataFrame\u001b[0m\n",
       "\u001b[1m Row \u001b[0m│\u001b[1m Survived \u001b[0m\u001b[1m Pclass \u001b[0m\u001b[1m Sex     \u001b[0m\u001b[1m Age       \u001b[0m\u001b[1m SibSp \u001b[0m\u001b[1m Parch \u001b[0m\u001b[1m Ticket           \u001b[0m\u001b[1m F\u001b[0m ⋯\n",
       "\u001b[1m     \u001b[0m│\u001b[90m Int64    \u001b[0m\u001b[90m Int64  \u001b[0m\u001b[90m String7 \u001b[0m\u001b[90m Float64?  \u001b[0m\u001b[90m Int64 \u001b[0m\u001b[90m Int64 \u001b[0m\u001b[90m String31         \u001b[0m\u001b[90m F\u001b[0m ⋯\n",
       "─────┼──────────────────────────────────────────────────────────────────────────\n",
       "   1 │        0       3  male          22.0      1      0  A/5 21171           ⋯\n",
       "   2 │        1       1  female        38.0      1      0  PC 17599          7\n",
       "   3 │        1       3  female        26.0      0      0  STON/O2. 3101282\n",
       "   4 │        1       1  female        35.0      1      0  113803            5\n",
       "   5 │        0       3  male          35.0      0      0  373450              ⋯\n",
       "   6 │        0       3  male    \u001b[90m missing   \u001b[0m     0      0  330877\n",
       "   7 │        0       1  male          54.0      0      0  17463             5\n",
       "   8 │        0       3  male           2.0      3      1  349909            2\n",
       "   9 │        1       3  female        27.0      0      2  347742            1 ⋯\n",
       "  10 │        1       2  female        14.0      1      0  237736            3\n",
       "  11 │        1       3  female         4.0      1      1  PP 9549           1\n",
       "  ⋮  │    ⋮        ⋮        ⋮         ⋮        ⋮      ⋮           ⋮            ⋱\n",
       " 882 │        0       3  male          33.0      0      0  349257\n",
       " 883 │        0       3  female        22.0      0      0  7552              1 ⋯\n",
       " 884 │        0       2  male          28.0      0      0  C.A./SOTON 34068  1\n",
       " 885 │        0       3  male          25.0      0      0  SOTON/OQ 392076\n",
       " 886 │        0       3  female        39.0      0      5  382652            2\n",
       " 887 │        0       2  male          27.0      0      0  211536            1 ⋯\n",
       " 888 │        1       1  female        19.0      0      0  112053            3\n",
       " 889 │        0       3  female  \u001b[90m missing   \u001b[0m     1      2  W./C. 6607        2\n",
       " 890 │        1       1  male          26.0      0      0  111369            3\n",
       " 891 │        0       3  male          32.0      0      0  370376              ⋯\n",
       "\u001b[36m                                                  3 columns and 870 rows omitted\u001b[0m"
      ]
     },
     "execution_count": 15,
     "metadata": {},
     "output_type": "execute_result"
    }
   ],
   "source": [
    "train_data = select(train_data,Not(:\"PassengerId\"))"
   ]
  },
  {
   "cell_type": "code",
   "execution_count": 16,
   "id": "3dc27d9e",
   "metadata": {},
   "outputs": [
    {
     "data": {
      "text/html": [
       "<div class=\"data-frame\"><p>891 rows × 9 columns</p><table class=\"data-frame\"><thead><tr><th></th><th>Survived</th><th>Pclass</th><th>Sex</th><th>Age</th><th>SibSp</th><th>Parch</th><th>Fare</th><th>Cabin</th><th>Embarked</th></tr><tr><th></th><th title=\"Int64\">Int64</th><th title=\"Int64\">Int64</th><th title=\"String7\">String7</th><th title=\"Union{Missing, Float64}\">Float64?</th><th title=\"Int64\">Int64</th><th title=\"Int64\">Int64</th><th title=\"Float64\">Float64</th><th title=\"Union{Missing, String15}\">String15?</th><th title=\"Union{Missing, String1}\">String1?</th></tr></thead><tbody><tr><th>1</th><td>0</td><td>3</td><td>male</td><td>22.0</td><td>1</td><td>0</td><td>7.25</td><td><em>missing</em></td><td>S</td></tr><tr><th>2</th><td>1</td><td>1</td><td>female</td><td>38.0</td><td>1</td><td>0</td><td>71.2833</td><td>C85</td><td>C</td></tr><tr><th>3</th><td>1</td><td>3</td><td>female</td><td>26.0</td><td>0</td><td>0</td><td>7.925</td><td><em>missing</em></td><td>S</td></tr><tr><th>4</th><td>1</td><td>1</td><td>female</td><td>35.0</td><td>1</td><td>0</td><td>53.1</td><td>C123</td><td>S</td></tr><tr><th>5</th><td>0</td><td>3</td><td>male</td><td>35.0</td><td>0</td><td>0</td><td>8.05</td><td><em>missing</em></td><td>S</td></tr><tr><th>6</th><td>0</td><td>3</td><td>male</td><td><em>missing</em></td><td>0</td><td>0</td><td>8.4583</td><td><em>missing</em></td><td>Q</td></tr><tr><th>7</th><td>0</td><td>1</td><td>male</td><td>54.0</td><td>0</td><td>0</td><td>51.8625</td><td>E46</td><td>S</td></tr><tr><th>8</th><td>0</td><td>3</td><td>male</td><td>2.0</td><td>3</td><td>1</td><td>21.075</td><td><em>missing</em></td><td>S</td></tr><tr><th>9</th><td>1</td><td>3</td><td>female</td><td>27.0</td><td>0</td><td>2</td><td>11.1333</td><td><em>missing</em></td><td>S</td></tr><tr><th>10</th><td>1</td><td>2</td><td>female</td><td>14.0</td><td>1</td><td>0</td><td>30.0708</td><td><em>missing</em></td><td>C</td></tr><tr><th>11</th><td>1</td><td>3</td><td>female</td><td>4.0</td><td>1</td><td>1</td><td>16.7</td><td>G6</td><td>S</td></tr><tr><th>12</th><td>1</td><td>1</td><td>female</td><td>58.0</td><td>0</td><td>0</td><td>26.55</td><td>C103</td><td>S</td></tr><tr><th>13</th><td>0</td><td>3</td><td>male</td><td>20.0</td><td>0</td><td>0</td><td>8.05</td><td><em>missing</em></td><td>S</td></tr><tr><th>14</th><td>0</td><td>3</td><td>male</td><td>39.0</td><td>1</td><td>5</td><td>31.275</td><td><em>missing</em></td><td>S</td></tr><tr><th>15</th><td>0</td><td>3</td><td>female</td><td>14.0</td><td>0</td><td>0</td><td>7.8542</td><td><em>missing</em></td><td>S</td></tr><tr><th>16</th><td>1</td><td>2</td><td>female</td><td>55.0</td><td>0</td><td>0</td><td>16.0</td><td><em>missing</em></td><td>S</td></tr><tr><th>17</th><td>0</td><td>3</td><td>male</td><td>2.0</td><td>4</td><td>1</td><td>29.125</td><td><em>missing</em></td><td>Q</td></tr><tr><th>18</th><td>1</td><td>2</td><td>male</td><td><em>missing</em></td><td>0</td><td>0</td><td>13.0</td><td><em>missing</em></td><td>S</td></tr><tr><th>19</th><td>0</td><td>3</td><td>female</td><td>31.0</td><td>1</td><td>0</td><td>18.0</td><td><em>missing</em></td><td>S</td></tr><tr><th>20</th><td>1</td><td>3</td><td>female</td><td><em>missing</em></td><td>0</td><td>0</td><td>7.225</td><td><em>missing</em></td><td>C</td></tr><tr><th>21</th><td>0</td><td>2</td><td>male</td><td>35.0</td><td>0</td><td>0</td><td>26.0</td><td><em>missing</em></td><td>S</td></tr><tr><th>22</th><td>1</td><td>2</td><td>male</td><td>34.0</td><td>0</td><td>0</td><td>13.0</td><td>D56</td><td>S</td></tr><tr><th>23</th><td>1</td><td>3</td><td>female</td><td>15.0</td><td>0</td><td>0</td><td>8.0292</td><td><em>missing</em></td><td>Q</td></tr><tr><th>24</th><td>1</td><td>1</td><td>male</td><td>28.0</td><td>0</td><td>0</td><td>35.5</td><td>A6</td><td>S</td></tr><tr><th>25</th><td>0</td><td>3</td><td>female</td><td>8.0</td><td>3</td><td>1</td><td>21.075</td><td><em>missing</em></td><td>S</td></tr><tr><th>26</th><td>1</td><td>3</td><td>female</td><td>38.0</td><td>1</td><td>5</td><td>31.3875</td><td><em>missing</em></td><td>S</td></tr><tr><th>27</th><td>0</td><td>3</td><td>male</td><td><em>missing</em></td><td>0</td><td>0</td><td>7.225</td><td><em>missing</em></td><td>C</td></tr><tr><th>28</th><td>0</td><td>1</td><td>male</td><td>19.0</td><td>3</td><td>2</td><td>263.0</td><td>C23 C25 C27</td><td>S</td></tr><tr><th>29</th><td>1</td><td>3</td><td>female</td><td><em>missing</em></td><td>0</td><td>0</td><td>7.8792</td><td><em>missing</em></td><td>Q</td></tr><tr><th>30</th><td>0</td><td>3</td><td>male</td><td><em>missing</em></td><td>0</td><td>0</td><td>7.8958</td><td><em>missing</em></td><td>S</td></tr><tr><th>&vellip;</th><td>&vellip;</td><td>&vellip;</td><td>&vellip;</td><td>&vellip;</td><td>&vellip;</td><td>&vellip;</td><td>&vellip;</td><td>&vellip;</td><td>&vellip;</td></tr></tbody></table></div>"
      ],
      "text/latex": [
       "\\begin{tabular}{r|ccccccccc}\n",
       "\t& Survived & Pclass & Sex & Age & SibSp & Parch & Fare & Cabin & Embarked\\\\\n",
       "\t\\hline\n",
       "\t& Int64 & Int64 & String7 & Float64? & Int64 & Int64 & Float64 & String15? & String1?\\\\\n",
       "\t\\hline\n",
       "\t1 & 0 & 3 & male & 22.0 & 1 & 0 & 7.25 & \\emph{missing} & S \\\\\n",
       "\t2 & 1 & 1 & female & 38.0 & 1 & 0 & 71.2833 & C85 & C \\\\\n",
       "\t3 & 1 & 3 & female & 26.0 & 0 & 0 & 7.925 & \\emph{missing} & S \\\\\n",
       "\t4 & 1 & 1 & female & 35.0 & 1 & 0 & 53.1 & C123 & S \\\\\n",
       "\t5 & 0 & 3 & male & 35.0 & 0 & 0 & 8.05 & \\emph{missing} & S \\\\\n",
       "\t6 & 0 & 3 & male & \\emph{missing} & 0 & 0 & 8.4583 & \\emph{missing} & Q \\\\\n",
       "\t7 & 0 & 1 & male & 54.0 & 0 & 0 & 51.8625 & E46 & S \\\\\n",
       "\t8 & 0 & 3 & male & 2.0 & 3 & 1 & 21.075 & \\emph{missing} & S \\\\\n",
       "\t9 & 1 & 3 & female & 27.0 & 0 & 2 & 11.1333 & \\emph{missing} & S \\\\\n",
       "\t10 & 1 & 2 & female & 14.0 & 1 & 0 & 30.0708 & \\emph{missing} & C \\\\\n",
       "\t11 & 1 & 3 & female & 4.0 & 1 & 1 & 16.7 & G6 & S \\\\\n",
       "\t12 & 1 & 1 & female & 58.0 & 0 & 0 & 26.55 & C103 & S \\\\\n",
       "\t13 & 0 & 3 & male & 20.0 & 0 & 0 & 8.05 & \\emph{missing} & S \\\\\n",
       "\t14 & 0 & 3 & male & 39.0 & 1 & 5 & 31.275 & \\emph{missing} & S \\\\\n",
       "\t15 & 0 & 3 & female & 14.0 & 0 & 0 & 7.8542 & \\emph{missing} & S \\\\\n",
       "\t16 & 1 & 2 & female & 55.0 & 0 & 0 & 16.0 & \\emph{missing} & S \\\\\n",
       "\t17 & 0 & 3 & male & 2.0 & 4 & 1 & 29.125 & \\emph{missing} & Q \\\\\n",
       "\t18 & 1 & 2 & male & \\emph{missing} & 0 & 0 & 13.0 & \\emph{missing} & S \\\\\n",
       "\t19 & 0 & 3 & female & 31.0 & 1 & 0 & 18.0 & \\emph{missing} & S \\\\\n",
       "\t20 & 1 & 3 & female & \\emph{missing} & 0 & 0 & 7.225 & \\emph{missing} & C \\\\\n",
       "\t21 & 0 & 2 & male & 35.0 & 0 & 0 & 26.0 & \\emph{missing} & S \\\\\n",
       "\t22 & 1 & 2 & male & 34.0 & 0 & 0 & 13.0 & D56 & S \\\\\n",
       "\t23 & 1 & 3 & female & 15.0 & 0 & 0 & 8.0292 & \\emph{missing} & Q \\\\\n",
       "\t24 & 1 & 1 & male & 28.0 & 0 & 0 & 35.5 & A6 & S \\\\\n",
       "\t25 & 0 & 3 & female & 8.0 & 3 & 1 & 21.075 & \\emph{missing} & S \\\\\n",
       "\t26 & 1 & 3 & female & 38.0 & 1 & 5 & 31.3875 & \\emph{missing} & S \\\\\n",
       "\t27 & 0 & 3 & male & \\emph{missing} & 0 & 0 & 7.225 & \\emph{missing} & C \\\\\n",
       "\t28 & 0 & 1 & male & 19.0 & 3 & 2 & 263.0 & C23 C25 C27 & S \\\\\n",
       "\t29 & 1 & 3 & female & \\emph{missing} & 0 & 0 & 7.8792 & \\emph{missing} & Q \\\\\n",
       "\t30 & 0 & 3 & male & \\emph{missing} & 0 & 0 & 7.8958 & \\emph{missing} & S \\\\\n",
       "\t$\\dots$ & $\\dots$ & $\\dots$ & $\\dots$ & $\\dots$ & $\\dots$ & $\\dots$ & $\\dots$ & $\\dots$ & $\\dots$ \\\\\n",
       "\\end{tabular}\n"
      ],
      "text/plain": [
       "\u001b[1m891×9 DataFrame\u001b[0m\n",
       "\u001b[1m Row \u001b[0m│\u001b[1m Survived \u001b[0m\u001b[1m Pclass \u001b[0m\u001b[1m Sex     \u001b[0m\u001b[1m Age       \u001b[0m\u001b[1m SibSp \u001b[0m\u001b[1m Parch \u001b[0m\u001b[1m Fare    \u001b[0m\u001b[1m Cabin     \u001b[0m\u001b[1m\u001b[0m ⋯\n",
       "\u001b[1m     \u001b[0m│\u001b[90m Int64    \u001b[0m\u001b[90m Int64  \u001b[0m\u001b[90m String7 \u001b[0m\u001b[90m Float64?  \u001b[0m\u001b[90m Int64 \u001b[0m\u001b[90m Int64 \u001b[0m\u001b[90m Float64 \u001b[0m\u001b[90m String15? \u001b[0m\u001b[90m\u001b[0m ⋯\n",
       "─────┼──────────────────────────────────────────────────────────────────────────\n",
       "   1 │        0       3  male          22.0      1      0   7.25   \u001b[90m missing   \u001b[0m ⋯\n",
       "   2 │        1       1  female        38.0      1      0  71.2833  C85\n",
       "   3 │        1       3  female        26.0      0      0   7.925  \u001b[90m missing   \u001b[0m\n",
       "   4 │        1       1  female        35.0      1      0  53.1     C123\n",
       "   5 │        0       3  male          35.0      0      0   8.05   \u001b[90m missing   \u001b[0m ⋯\n",
       "   6 │        0       3  male    \u001b[90m missing   \u001b[0m     0      0   8.4583 \u001b[90m missing   \u001b[0m\n",
       "   7 │        0       1  male          54.0      0      0  51.8625  E46\n",
       "   8 │        0       3  male           2.0      3      1  21.075  \u001b[90m missing   \u001b[0m\n",
       "   9 │        1       3  female        27.0      0      2  11.1333 \u001b[90m missing   \u001b[0m ⋯\n",
       "  10 │        1       2  female        14.0      1      0  30.0708 \u001b[90m missing   \u001b[0m\n",
       "  11 │        1       3  female         4.0      1      1  16.7     G6\n",
       "  ⋮  │    ⋮        ⋮        ⋮         ⋮        ⋮      ⋮       ⋮         ⋮      ⋱\n",
       " 882 │        0       3  male          33.0      0      0   7.8958 \u001b[90m missing   \u001b[0m\n",
       " 883 │        0       3  female        22.0      0      0  10.5167 \u001b[90m missing   \u001b[0m ⋯\n",
       " 884 │        0       2  male          28.0      0      0  10.5    \u001b[90m missing   \u001b[0m\n",
       " 885 │        0       3  male          25.0      0      0   7.05   \u001b[90m missing   \u001b[0m\n",
       " 886 │        0       3  female        39.0      0      5  29.125  \u001b[90m missing   \u001b[0m\n",
       " 887 │        0       2  male          27.0      0      0  13.0    \u001b[90m missing   \u001b[0m ⋯\n",
       " 888 │        1       1  female        19.0      0      0  30.0     B42\n",
       " 889 │        0       3  female  \u001b[90m missing   \u001b[0m     1      2  23.45   \u001b[90m missing   \u001b[0m\n",
       " 890 │        1       1  male          26.0      0      0  30.0     C148\n",
       " 891 │        0       3  male          32.0      0      0   7.75   \u001b[90m missing   \u001b[0m ⋯\n",
       "\u001b[36m                                                   1 column and 870 rows omitted\u001b[0m"
      ]
     },
     "execution_count": 16,
     "metadata": {},
     "output_type": "execute_result"
    }
   ],
   "source": [
    "train_data = select(train_data, Not(:\"Ticket\"))"
   ]
  },
  {
   "cell_type": "code",
   "execution_count": 17,
   "id": "3ac62de8",
   "metadata": {},
   "outputs": [
    {
     "data": {
      "text/html": [
       "<div class=\"data-frame\"><p>891 rows × 8 columns</p><table class=\"data-frame\"><thead><tr><th></th><th>Survived</th><th>Pclass</th><th>Sex</th><th>Age</th><th>SibSp</th><th>Parch</th><th>Fare</th><th>Embarked</th></tr><tr><th></th><th title=\"Int64\">Int64</th><th title=\"Int64\">Int64</th><th title=\"String7\">String7</th><th title=\"Union{Missing, Float64}\">Float64?</th><th title=\"Int64\">Int64</th><th title=\"Int64\">Int64</th><th title=\"Float64\">Float64</th><th title=\"Union{Missing, String1}\">String1?</th></tr></thead><tbody><tr><th>1</th><td>0</td><td>3</td><td>male</td><td>22.0</td><td>1</td><td>0</td><td>7.25</td><td>S</td></tr><tr><th>2</th><td>1</td><td>1</td><td>female</td><td>38.0</td><td>1</td><td>0</td><td>71.2833</td><td>C</td></tr><tr><th>3</th><td>1</td><td>3</td><td>female</td><td>26.0</td><td>0</td><td>0</td><td>7.925</td><td>S</td></tr><tr><th>4</th><td>1</td><td>1</td><td>female</td><td>35.0</td><td>1</td><td>0</td><td>53.1</td><td>S</td></tr><tr><th>5</th><td>0</td><td>3</td><td>male</td><td>35.0</td><td>0</td><td>0</td><td>8.05</td><td>S</td></tr><tr><th>6</th><td>0</td><td>3</td><td>male</td><td><em>missing</em></td><td>0</td><td>0</td><td>8.4583</td><td>Q</td></tr><tr><th>7</th><td>0</td><td>1</td><td>male</td><td>54.0</td><td>0</td><td>0</td><td>51.8625</td><td>S</td></tr><tr><th>8</th><td>0</td><td>3</td><td>male</td><td>2.0</td><td>3</td><td>1</td><td>21.075</td><td>S</td></tr><tr><th>9</th><td>1</td><td>3</td><td>female</td><td>27.0</td><td>0</td><td>2</td><td>11.1333</td><td>S</td></tr><tr><th>10</th><td>1</td><td>2</td><td>female</td><td>14.0</td><td>1</td><td>0</td><td>30.0708</td><td>C</td></tr><tr><th>11</th><td>1</td><td>3</td><td>female</td><td>4.0</td><td>1</td><td>1</td><td>16.7</td><td>S</td></tr><tr><th>12</th><td>1</td><td>1</td><td>female</td><td>58.0</td><td>0</td><td>0</td><td>26.55</td><td>S</td></tr><tr><th>13</th><td>0</td><td>3</td><td>male</td><td>20.0</td><td>0</td><td>0</td><td>8.05</td><td>S</td></tr><tr><th>14</th><td>0</td><td>3</td><td>male</td><td>39.0</td><td>1</td><td>5</td><td>31.275</td><td>S</td></tr><tr><th>15</th><td>0</td><td>3</td><td>female</td><td>14.0</td><td>0</td><td>0</td><td>7.8542</td><td>S</td></tr><tr><th>16</th><td>1</td><td>2</td><td>female</td><td>55.0</td><td>0</td><td>0</td><td>16.0</td><td>S</td></tr><tr><th>17</th><td>0</td><td>3</td><td>male</td><td>2.0</td><td>4</td><td>1</td><td>29.125</td><td>Q</td></tr><tr><th>18</th><td>1</td><td>2</td><td>male</td><td><em>missing</em></td><td>0</td><td>0</td><td>13.0</td><td>S</td></tr><tr><th>19</th><td>0</td><td>3</td><td>female</td><td>31.0</td><td>1</td><td>0</td><td>18.0</td><td>S</td></tr><tr><th>20</th><td>1</td><td>3</td><td>female</td><td><em>missing</em></td><td>0</td><td>0</td><td>7.225</td><td>C</td></tr><tr><th>21</th><td>0</td><td>2</td><td>male</td><td>35.0</td><td>0</td><td>0</td><td>26.0</td><td>S</td></tr><tr><th>22</th><td>1</td><td>2</td><td>male</td><td>34.0</td><td>0</td><td>0</td><td>13.0</td><td>S</td></tr><tr><th>23</th><td>1</td><td>3</td><td>female</td><td>15.0</td><td>0</td><td>0</td><td>8.0292</td><td>Q</td></tr><tr><th>24</th><td>1</td><td>1</td><td>male</td><td>28.0</td><td>0</td><td>0</td><td>35.5</td><td>S</td></tr><tr><th>25</th><td>0</td><td>3</td><td>female</td><td>8.0</td><td>3</td><td>1</td><td>21.075</td><td>S</td></tr><tr><th>26</th><td>1</td><td>3</td><td>female</td><td>38.0</td><td>1</td><td>5</td><td>31.3875</td><td>S</td></tr><tr><th>27</th><td>0</td><td>3</td><td>male</td><td><em>missing</em></td><td>0</td><td>0</td><td>7.225</td><td>C</td></tr><tr><th>28</th><td>0</td><td>1</td><td>male</td><td>19.0</td><td>3</td><td>2</td><td>263.0</td><td>S</td></tr><tr><th>29</th><td>1</td><td>3</td><td>female</td><td><em>missing</em></td><td>0</td><td>0</td><td>7.8792</td><td>Q</td></tr><tr><th>30</th><td>0</td><td>3</td><td>male</td><td><em>missing</em></td><td>0</td><td>0</td><td>7.8958</td><td>S</td></tr><tr><th>&vellip;</th><td>&vellip;</td><td>&vellip;</td><td>&vellip;</td><td>&vellip;</td><td>&vellip;</td><td>&vellip;</td><td>&vellip;</td><td>&vellip;</td></tr></tbody></table></div>"
      ],
      "text/latex": [
       "\\begin{tabular}{r|cccccccc}\n",
       "\t& Survived & Pclass & Sex & Age & SibSp & Parch & Fare & Embarked\\\\\n",
       "\t\\hline\n",
       "\t& Int64 & Int64 & String7 & Float64? & Int64 & Int64 & Float64 & String1?\\\\\n",
       "\t\\hline\n",
       "\t1 & 0 & 3 & male & 22.0 & 1 & 0 & 7.25 & S \\\\\n",
       "\t2 & 1 & 1 & female & 38.0 & 1 & 0 & 71.2833 & C \\\\\n",
       "\t3 & 1 & 3 & female & 26.0 & 0 & 0 & 7.925 & S \\\\\n",
       "\t4 & 1 & 1 & female & 35.0 & 1 & 0 & 53.1 & S \\\\\n",
       "\t5 & 0 & 3 & male & 35.0 & 0 & 0 & 8.05 & S \\\\\n",
       "\t6 & 0 & 3 & male & \\emph{missing} & 0 & 0 & 8.4583 & Q \\\\\n",
       "\t7 & 0 & 1 & male & 54.0 & 0 & 0 & 51.8625 & S \\\\\n",
       "\t8 & 0 & 3 & male & 2.0 & 3 & 1 & 21.075 & S \\\\\n",
       "\t9 & 1 & 3 & female & 27.0 & 0 & 2 & 11.1333 & S \\\\\n",
       "\t10 & 1 & 2 & female & 14.0 & 1 & 0 & 30.0708 & C \\\\\n",
       "\t11 & 1 & 3 & female & 4.0 & 1 & 1 & 16.7 & S \\\\\n",
       "\t12 & 1 & 1 & female & 58.0 & 0 & 0 & 26.55 & S \\\\\n",
       "\t13 & 0 & 3 & male & 20.0 & 0 & 0 & 8.05 & S \\\\\n",
       "\t14 & 0 & 3 & male & 39.0 & 1 & 5 & 31.275 & S \\\\\n",
       "\t15 & 0 & 3 & female & 14.0 & 0 & 0 & 7.8542 & S \\\\\n",
       "\t16 & 1 & 2 & female & 55.0 & 0 & 0 & 16.0 & S \\\\\n",
       "\t17 & 0 & 3 & male & 2.0 & 4 & 1 & 29.125 & Q \\\\\n",
       "\t18 & 1 & 2 & male & \\emph{missing} & 0 & 0 & 13.0 & S \\\\\n",
       "\t19 & 0 & 3 & female & 31.0 & 1 & 0 & 18.0 & S \\\\\n",
       "\t20 & 1 & 3 & female & \\emph{missing} & 0 & 0 & 7.225 & C \\\\\n",
       "\t21 & 0 & 2 & male & 35.0 & 0 & 0 & 26.0 & S \\\\\n",
       "\t22 & 1 & 2 & male & 34.0 & 0 & 0 & 13.0 & S \\\\\n",
       "\t23 & 1 & 3 & female & 15.0 & 0 & 0 & 8.0292 & Q \\\\\n",
       "\t24 & 1 & 1 & male & 28.0 & 0 & 0 & 35.5 & S \\\\\n",
       "\t25 & 0 & 3 & female & 8.0 & 3 & 1 & 21.075 & S \\\\\n",
       "\t26 & 1 & 3 & female & 38.0 & 1 & 5 & 31.3875 & S \\\\\n",
       "\t27 & 0 & 3 & male & \\emph{missing} & 0 & 0 & 7.225 & C \\\\\n",
       "\t28 & 0 & 1 & male & 19.0 & 3 & 2 & 263.0 & S \\\\\n",
       "\t29 & 1 & 3 & female & \\emph{missing} & 0 & 0 & 7.8792 & Q \\\\\n",
       "\t30 & 0 & 3 & male & \\emph{missing} & 0 & 0 & 7.8958 & S \\\\\n",
       "\t$\\dots$ & $\\dots$ & $\\dots$ & $\\dots$ & $\\dots$ & $\\dots$ & $\\dots$ & $\\dots$ & $\\dots$ \\\\\n",
       "\\end{tabular}\n"
      ],
      "text/plain": [
       "\u001b[1m891×8 DataFrame\u001b[0m\n",
       "\u001b[1m Row \u001b[0m│\u001b[1m Survived \u001b[0m\u001b[1m Pclass \u001b[0m\u001b[1m Sex     \u001b[0m\u001b[1m Age       \u001b[0m\u001b[1m SibSp \u001b[0m\u001b[1m Parch \u001b[0m\u001b[1m Fare    \u001b[0m\u001b[1m Embarked \u001b[0m\n",
       "\u001b[1m     \u001b[0m│\u001b[90m Int64    \u001b[0m\u001b[90m Int64  \u001b[0m\u001b[90m String7 \u001b[0m\u001b[90m Float64?  \u001b[0m\u001b[90m Int64 \u001b[0m\u001b[90m Int64 \u001b[0m\u001b[90m Float64 \u001b[0m\u001b[90m String1? \u001b[0m\n",
       "─────┼───────────────────────────────────────────────────────────────────────\n",
       "   1 │        0       3  male          22.0      1      0   7.25    S\n",
       "   2 │        1       1  female        38.0      1      0  71.2833  C\n",
       "   3 │        1       3  female        26.0      0      0   7.925   S\n",
       "   4 │        1       1  female        35.0      1      0  53.1     S\n",
       "   5 │        0       3  male          35.0      0      0   8.05    S\n",
       "   6 │        0       3  male    \u001b[90m missing   \u001b[0m     0      0   8.4583  Q\n",
       "   7 │        0       1  male          54.0      0      0  51.8625  S\n",
       "   8 │        0       3  male           2.0      3      1  21.075   S\n",
       "   9 │        1       3  female        27.0      0      2  11.1333  S\n",
       "  10 │        1       2  female        14.0      1      0  30.0708  C\n",
       "  11 │        1       3  female         4.0      1      1  16.7     S\n",
       "  ⋮  │    ⋮        ⋮        ⋮         ⋮        ⋮      ⋮       ⋮        ⋮\n",
       " 882 │        0       3  male          33.0      0      0   7.8958  S\n",
       " 883 │        0       3  female        22.0      0      0  10.5167  S\n",
       " 884 │        0       2  male          28.0      0      0  10.5     S\n",
       " 885 │        0       3  male          25.0      0      0   7.05    S\n",
       " 886 │        0       3  female        39.0      0      5  29.125   Q\n",
       " 887 │        0       2  male          27.0      0      0  13.0     S\n",
       " 888 │        1       1  female        19.0      0      0  30.0     S\n",
       " 889 │        0       3  female  \u001b[90m missing   \u001b[0m     1      2  23.45    S\n",
       " 890 │        1       1  male          26.0      0      0  30.0     C\n",
       " 891 │        0       3  male          32.0      0      0   7.75    Q\n",
       "\u001b[36m                                                             870 rows omitted\u001b[0m"
      ]
     },
     "execution_count": 17,
     "metadata": {},
     "output_type": "execute_result"
    }
   ],
   "source": [
    "train_data = select(train_data, Not(:\"Cabin\"))"
   ]
  },
  {
   "cell_type": "code",
   "execution_count": 18,
   "id": "3b363869",
   "metadata": {},
   "outputs": [
    {
     "data": {
      "text/html": [
       "<div class=\"data-frame\"><p>889 rows × 8 columns</p><table class=\"data-frame\"><thead><tr><th></th><th>Survived</th><th>Pclass</th><th>Sex</th><th>Age</th><th>SibSp</th><th>Parch</th><th>Fare</th><th>Embarked</th></tr><tr><th></th><th title=\"Int64\">Int64</th><th title=\"Int64\">Int64</th><th title=\"String7\">String7</th><th title=\"Union{Missing, Float64}\">Float64?</th><th title=\"Int64\">Int64</th><th title=\"Int64\">Int64</th><th title=\"Float64\">Float64</th><th title=\"String1\">String1</th></tr></thead><tbody><tr><th>1</th><td>0</td><td>3</td><td>male</td><td>22.0</td><td>1</td><td>0</td><td>7.25</td><td>S</td></tr><tr><th>2</th><td>1</td><td>1</td><td>female</td><td>38.0</td><td>1</td><td>0</td><td>71.2833</td><td>C</td></tr><tr><th>3</th><td>1</td><td>3</td><td>female</td><td>26.0</td><td>0</td><td>0</td><td>7.925</td><td>S</td></tr><tr><th>4</th><td>1</td><td>1</td><td>female</td><td>35.0</td><td>1</td><td>0</td><td>53.1</td><td>S</td></tr><tr><th>5</th><td>0</td><td>3</td><td>male</td><td>35.0</td><td>0</td><td>0</td><td>8.05</td><td>S</td></tr><tr><th>6</th><td>0</td><td>3</td><td>male</td><td><em>missing</em></td><td>0</td><td>0</td><td>8.4583</td><td>Q</td></tr><tr><th>7</th><td>0</td><td>1</td><td>male</td><td>54.0</td><td>0</td><td>0</td><td>51.8625</td><td>S</td></tr><tr><th>8</th><td>0</td><td>3</td><td>male</td><td>2.0</td><td>3</td><td>1</td><td>21.075</td><td>S</td></tr><tr><th>9</th><td>1</td><td>3</td><td>female</td><td>27.0</td><td>0</td><td>2</td><td>11.1333</td><td>S</td></tr><tr><th>10</th><td>1</td><td>2</td><td>female</td><td>14.0</td><td>1</td><td>0</td><td>30.0708</td><td>C</td></tr><tr><th>11</th><td>1</td><td>3</td><td>female</td><td>4.0</td><td>1</td><td>1</td><td>16.7</td><td>S</td></tr><tr><th>12</th><td>1</td><td>1</td><td>female</td><td>58.0</td><td>0</td><td>0</td><td>26.55</td><td>S</td></tr><tr><th>13</th><td>0</td><td>3</td><td>male</td><td>20.0</td><td>0</td><td>0</td><td>8.05</td><td>S</td></tr><tr><th>14</th><td>0</td><td>3</td><td>male</td><td>39.0</td><td>1</td><td>5</td><td>31.275</td><td>S</td></tr><tr><th>15</th><td>0</td><td>3</td><td>female</td><td>14.0</td><td>0</td><td>0</td><td>7.8542</td><td>S</td></tr><tr><th>16</th><td>1</td><td>2</td><td>female</td><td>55.0</td><td>0</td><td>0</td><td>16.0</td><td>S</td></tr><tr><th>17</th><td>0</td><td>3</td><td>male</td><td>2.0</td><td>4</td><td>1</td><td>29.125</td><td>Q</td></tr><tr><th>18</th><td>1</td><td>2</td><td>male</td><td><em>missing</em></td><td>0</td><td>0</td><td>13.0</td><td>S</td></tr><tr><th>19</th><td>0</td><td>3</td><td>female</td><td>31.0</td><td>1</td><td>0</td><td>18.0</td><td>S</td></tr><tr><th>20</th><td>1</td><td>3</td><td>female</td><td><em>missing</em></td><td>0</td><td>0</td><td>7.225</td><td>C</td></tr><tr><th>21</th><td>0</td><td>2</td><td>male</td><td>35.0</td><td>0</td><td>0</td><td>26.0</td><td>S</td></tr><tr><th>22</th><td>1</td><td>2</td><td>male</td><td>34.0</td><td>0</td><td>0</td><td>13.0</td><td>S</td></tr><tr><th>23</th><td>1</td><td>3</td><td>female</td><td>15.0</td><td>0</td><td>0</td><td>8.0292</td><td>Q</td></tr><tr><th>24</th><td>1</td><td>1</td><td>male</td><td>28.0</td><td>0</td><td>0</td><td>35.5</td><td>S</td></tr><tr><th>25</th><td>0</td><td>3</td><td>female</td><td>8.0</td><td>3</td><td>1</td><td>21.075</td><td>S</td></tr><tr><th>26</th><td>1</td><td>3</td><td>female</td><td>38.0</td><td>1</td><td>5</td><td>31.3875</td><td>S</td></tr><tr><th>27</th><td>0</td><td>3</td><td>male</td><td><em>missing</em></td><td>0</td><td>0</td><td>7.225</td><td>C</td></tr><tr><th>28</th><td>0</td><td>1</td><td>male</td><td>19.0</td><td>3</td><td>2</td><td>263.0</td><td>S</td></tr><tr><th>29</th><td>1</td><td>3</td><td>female</td><td><em>missing</em></td><td>0</td><td>0</td><td>7.8792</td><td>Q</td></tr><tr><th>30</th><td>0</td><td>3</td><td>male</td><td><em>missing</em></td><td>0</td><td>0</td><td>7.8958</td><td>S</td></tr><tr><th>&vellip;</th><td>&vellip;</td><td>&vellip;</td><td>&vellip;</td><td>&vellip;</td><td>&vellip;</td><td>&vellip;</td><td>&vellip;</td><td>&vellip;</td></tr></tbody></table></div>"
      ],
      "text/latex": [
       "\\begin{tabular}{r|cccccccc}\n",
       "\t& Survived & Pclass & Sex & Age & SibSp & Parch & Fare & Embarked\\\\\n",
       "\t\\hline\n",
       "\t& Int64 & Int64 & String7 & Float64? & Int64 & Int64 & Float64 & String1\\\\\n",
       "\t\\hline\n",
       "\t1 & 0 & 3 & male & 22.0 & 1 & 0 & 7.25 & S \\\\\n",
       "\t2 & 1 & 1 & female & 38.0 & 1 & 0 & 71.2833 & C \\\\\n",
       "\t3 & 1 & 3 & female & 26.0 & 0 & 0 & 7.925 & S \\\\\n",
       "\t4 & 1 & 1 & female & 35.0 & 1 & 0 & 53.1 & S \\\\\n",
       "\t5 & 0 & 3 & male & 35.0 & 0 & 0 & 8.05 & S \\\\\n",
       "\t6 & 0 & 3 & male & \\emph{missing} & 0 & 0 & 8.4583 & Q \\\\\n",
       "\t7 & 0 & 1 & male & 54.0 & 0 & 0 & 51.8625 & S \\\\\n",
       "\t8 & 0 & 3 & male & 2.0 & 3 & 1 & 21.075 & S \\\\\n",
       "\t9 & 1 & 3 & female & 27.0 & 0 & 2 & 11.1333 & S \\\\\n",
       "\t10 & 1 & 2 & female & 14.0 & 1 & 0 & 30.0708 & C \\\\\n",
       "\t11 & 1 & 3 & female & 4.0 & 1 & 1 & 16.7 & S \\\\\n",
       "\t12 & 1 & 1 & female & 58.0 & 0 & 0 & 26.55 & S \\\\\n",
       "\t13 & 0 & 3 & male & 20.0 & 0 & 0 & 8.05 & S \\\\\n",
       "\t14 & 0 & 3 & male & 39.0 & 1 & 5 & 31.275 & S \\\\\n",
       "\t15 & 0 & 3 & female & 14.0 & 0 & 0 & 7.8542 & S \\\\\n",
       "\t16 & 1 & 2 & female & 55.0 & 0 & 0 & 16.0 & S \\\\\n",
       "\t17 & 0 & 3 & male & 2.0 & 4 & 1 & 29.125 & Q \\\\\n",
       "\t18 & 1 & 2 & male & \\emph{missing} & 0 & 0 & 13.0 & S \\\\\n",
       "\t19 & 0 & 3 & female & 31.0 & 1 & 0 & 18.0 & S \\\\\n",
       "\t20 & 1 & 3 & female & \\emph{missing} & 0 & 0 & 7.225 & C \\\\\n",
       "\t21 & 0 & 2 & male & 35.0 & 0 & 0 & 26.0 & S \\\\\n",
       "\t22 & 1 & 2 & male & 34.0 & 0 & 0 & 13.0 & S \\\\\n",
       "\t23 & 1 & 3 & female & 15.0 & 0 & 0 & 8.0292 & Q \\\\\n",
       "\t24 & 1 & 1 & male & 28.0 & 0 & 0 & 35.5 & S \\\\\n",
       "\t25 & 0 & 3 & female & 8.0 & 3 & 1 & 21.075 & S \\\\\n",
       "\t26 & 1 & 3 & female & 38.0 & 1 & 5 & 31.3875 & S \\\\\n",
       "\t27 & 0 & 3 & male & \\emph{missing} & 0 & 0 & 7.225 & C \\\\\n",
       "\t28 & 0 & 1 & male & 19.0 & 3 & 2 & 263.0 & S \\\\\n",
       "\t29 & 1 & 3 & female & \\emph{missing} & 0 & 0 & 7.8792 & Q \\\\\n",
       "\t30 & 0 & 3 & male & \\emph{missing} & 0 & 0 & 7.8958 & S \\\\\n",
       "\t$\\dots$ & $\\dots$ & $\\dots$ & $\\dots$ & $\\dots$ & $\\dots$ & $\\dots$ & $\\dots$ & $\\dots$ \\\\\n",
       "\\end{tabular}\n"
      ],
      "text/plain": [
       "\u001b[1m889×8 DataFrame\u001b[0m\n",
       "\u001b[1m Row \u001b[0m│\u001b[1m Survived \u001b[0m\u001b[1m Pclass \u001b[0m\u001b[1m Sex     \u001b[0m\u001b[1m Age       \u001b[0m\u001b[1m SibSp \u001b[0m\u001b[1m Parch \u001b[0m\u001b[1m Fare    \u001b[0m\u001b[1m Embarked \u001b[0m\n",
       "\u001b[1m     \u001b[0m│\u001b[90m Int64    \u001b[0m\u001b[90m Int64  \u001b[0m\u001b[90m String7 \u001b[0m\u001b[90m Float64?  \u001b[0m\u001b[90m Int64 \u001b[0m\u001b[90m Int64 \u001b[0m\u001b[90m Float64 \u001b[0m\u001b[90m String1  \u001b[0m\n",
       "─────┼───────────────────────────────────────────────────────────────────────\n",
       "   1 │        0       3  male          22.0      1      0   7.25    S\n",
       "   2 │        1       1  female        38.0      1      0  71.2833  C\n",
       "   3 │        1       3  female        26.0      0      0   7.925   S\n",
       "   4 │        1       1  female        35.0      1      0  53.1     S\n",
       "   5 │        0       3  male          35.0      0      0   8.05    S\n",
       "   6 │        0       3  male    \u001b[90m missing   \u001b[0m     0      0   8.4583  Q\n",
       "   7 │        0       1  male          54.0      0      0  51.8625  S\n",
       "   8 │        0       3  male           2.0      3      1  21.075   S\n",
       "   9 │        1       3  female        27.0      0      2  11.1333  S\n",
       "  10 │        1       2  female        14.0      1      0  30.0708  C\n",
       "  11 │        1       3  female         4.0      1      1  16.7     S\n",
       "  ⋮  │    ⋮        ⋮        ⋮         ⋮        ⋮      ⋮       ⋮        ⋮\n",
       " 880 │        0       3  male          33.0      0      0   7.8958  S\n",
       " 881 │        0       3  female        22.0      0      0  10.5167  S\n",
       " 882 │        0       2  male          28.0      0      0  10.5     S\n",
       " 883 │        0       3  male          25.0      0      0   7.05    S\n",
       " 884 │        0       3  female        39.0      0      5  29.125   Q\n",
       " 885 │        0       2  male          27.0      0      0  13.0     S\n",
       " 886 │        1       1  female        19.0      0      0  30.0     S\n",
       " 887 │        0       3  female  \u001b[90m missing   \u001b[0m     1      2  23.45    S\n",
       " 888 │        1       1  male          26.0      0      0  30.0     C\n",
       " 889 │        0       3  male          32.0      0      0   7.75    Q\n",
       "\u001b[36m                                                             868 rows omitted\u001b[0m"
      ]
     },
     "execution_count": 18,
     "metadata": {},
     "output_type": "execute_result"
    }
   ],
   "source": [
    "train_data = dropmissing(train_data, :\"Embarked\")"
   ]
  },
  {
   "cell_type": "code",
   "execution_count": 19,
   "id": "71f8e0c6",
   "metadata": {},
   "outputs": [
    {
     "data": {
      "text/html": [
       "<div class=\"data-frame\"><p>8 rows × 7 columns</p><table class=\"data-frame\"><thead><tr><th></th><th>variable</th><th>mean</th><th>min</th><th>median</th><th>max</th><th>nmissing</th><th>eltype</th></tr><tr><th></th><th title=\"Symbol\">Symbol</th><th title=\"Union{Nothing, Float64}\">Union…</th><th title=\"Any\">Any</th><th title=\"Union{Nothing, Float64}\">Union…</th><th title=\"Any\">Any</th><th title=\"Int64\">Int64</th><th title=\"Type\">Type</th></tr></thead><tbody><tr><th>1</th><td>Survived</td><td>0.382452</td><td>0</td><td>0.0</td><td>1</td><td>0</td><td>Int64</td></tr><tr><th>2</th><td>Pclass</td><td>2.31159</td><td>1</td><td>3.0</td><td>3</td><td>0</td><td>Int64</td></tr><tr><th>3</th><td>Sex</td><td></td><td>female</td><td></td><td>male</td><td>0</td><td>String7</td></tr><tr><th>4</th><td>Age</td><td>29.6421</td><td>0.42</td><td>28.0</td><td>80.0</td><td>177</td><td>Union{Missing, Float64}</td></tr><tr><th>5</th><td>SibSp</td><td>0.524184</td><td>0</td><td>0.0</td><td>8</td><td>0</td><td>Int64</td></tr><tr><th>6</th><td>Parch</td><td>0.382452</td><td>0</td><td>0.0</td><td>6</td><td>0</td><td>Int64</td></tr><tr><th>7</th><td>Fare</td><td>32.0967</td><td>0.0</td><td>14.4542</td><td>512.329</td><td>0</td><td>Float64</td></tr><tr><th>8</th><td>Embarked</td><td></td><td>C</td><td></td><td>S</td><td>0</td><td>String1</td></tr></tbody></table></div>"
      ],
      "text/latex": [
       "\\begin{tabular}{r|ccccccc}\n",
       "\t& variable & mean & min & median & max & nmissing & eltype\\\\\n",
       "\t\\hline\n",
       "\t& Symbol & Union… & Any & Union… & Any & Int64 & Type\\\\\n",
       "\t\\hline\n",
       "\t1 & Survived & 0.382452 & 0 & 0.0 & 1 & 0 & Int64 \\\\\n",
       "\t2 & Pclass & 2.31159 & 1 & 3.0 & 3 & 0 & Int64 \\\\\n",
       "\t3 & Sex &  & female &  & male & 0 & String7 \\\\\n",
       "\t4 & Age & 29.6421 & 0.42 & 28.0 & 80.0 & 177 & Union\\{Missing, Float64\\} \\\\\n",
       "\t5 & SibSp & 0.524184 & 0 & 0.0 & 8 & 0 & Int64 \\\\\n",
       "\t6 & Parch & 0.382452 & 0 & 0.0 & 6 & 0 & Int64 \\\\\n",
       "\t7 & Fare & 32.0967 & 0.0 & 14.4542 & 512.329 & 0 & Float64 \\\\\n",
       "\t8 & Embarked &  & C &  & S & 0 & String1 \\\\\n",
       "\\end{tabular}\n"
      ],
      "text/plain": [
       "\u001b[1m8×7 DataFrame\u001b[0m\n",
       "\u001b[1m Row \u001b[0m│\u001b[1m variable \u001b[0m\u001b[1m mean     \u001b[0m\u001b[1m min    \u001b[0m\u001b[1m median  \u001b[0m\u001b[1m max     \u001b[0m\u001b[1m nmissing \u001b[0m\u001b[1m eltype         \u001b[0m ⋯\n",
       "\u001b[1m     \u001b[0m│\u001b[90m Symbol   \u001b[0m\u001b[90m Union…   \u001b[0m\u001b[90m Any    \u001b[0m\u001b[90m Union…  \u001b[0m\u001b[90m Any     \u001b[0m\u001b[90m Int64    \u001b[0m\u001b[90m Type           \u001b[0m ⋯\n",
       "─────┼──────────────────────────────────────────────────────────────────────────\n",
       "   1 │ Survived  0.382452  0       0.0      1               0  Int64           ⋯\n",
       "   2 │ Pclass    2.31159   1       3.0      3               0  Int64\n",
       "   3 │ Sex      \u001b[90m          \u001b[0m female \u001b[90m         \u001b[0m male            0  String7\n",
       "   4 │ Age       29.6421   0.42    28.0     80.0          177  Union{Missing,\n",
       "   5 │ SibSp     0.524184  0       0.0      8               0  Int64           ⋯\n",
       "   6 │ Parch     0.382452  0       0.0      6               0  Int64\n",
       "   7 │ Fare      32.0967   0.0     14.4542  512.329         0  Float64\n",
       "   8 │ Embarked \u001b[90m          \u001b[0m C      \u001b[90m         \u001b[0m S               0  String1\n",
       "\u001b[36m                                                                1 column omitted\u001b[0m"
      ]
     },
     "execution_count": 19,
     "metadata": {},
     "output_type": "execute_result"
    }
   ],
   "source": [
    "describe(train_data)"
   ]
  },
  {
   "cell_type": "code",
   "execution_count": 20,
   "id": "e51a423c",
   "metadata": {},
   "outputs": [],
   "source": [
    "replace!(train_data.\"Age\", missing =>  29.6421);"
   ]
  },
  {
   "cell_type": "code",
   "execution_count": 21,
   "id": "92278099",
   "metadata": {},
   "outputs": [
    {
     "data": {
      "text/html": [
       "<div class=\"data-frame\"><p>889 rows × 8 columns</p><table class=\"data-frame\"><thead><tr><th></th><th>Survived</th><th>Pclass</th><th>Sex</th><th>Age</th><th>SibSp</th><th>Parch</th><th>Fare</th><th>Embarked</th></tr><tr><th></th><th title=\"Int64\">Int64</th><th title=\"Int64\">Int64</th><th title=\"String7\">String7</th><th title=\"Union{Missing, Float64}\">Float64?</th><th title=\"Int64\">Int64</th><th title=\"Int64\">Int64</th><th title=\"Float64\">Float64</th><th title=\"String1\">String1</th></tr></thead><tbody><tr><th>1</th><td>0</td><td>3</td><td>male</td><td>22.0</td><td>1</td><td>0</td><td>7.25</td><td>S</td></tr><tr><th>2</th><td>1</td><td>1</td><td>female</td><td>38.0</td><td>1</td><td>0</td><td>71.2833</td><td>C</td></tr><tr><th>3</th><td>1</td><td>3</td><td>female</td><td>26.0</td><td>0</td><td>0</td><td>7.925</td><td>S</td></tr><tr><th>4</th><td>1</td><td>1</td><td>female</td><td>35.0</td><td>1</td><td>0</td><td>53.1</td><td>S</td></tr><tr><th>5</th><td>0</td><td>3</td><td>male</td><td>35.0</td><td>0</td><td>0</td><td>8.05</td><td>S</td></tr><tr><th>6</th><td>0</td><td>3</td><td>male</td><td>29.6421</td><td>0</td><td>0</td><td>8.4583</td><td>Q</td></tr><tr><th>7</th><td>0</td><td>1</td><td>male</td><td>54.0</td><td>0</td><td>0</td><td>51.8625</td><td>S</td></tr><tr><th>8</th><td>0</td><td>3</td><td>male</td><td>2.0</td><td>3</td><td>1</td><td>21.075</td><td>S</td></tr><tr><th>9</th><td>1</td><td>3</td><td>female</td><td>27.0</td><td>0</td><td>2</td><td>11.1333</td><td>S</td></tr><tr><th>10</th><td>1</td><td>2</td><td>female</td><td>14.0</td><td>1</td><td>0</td><td>30.0708</td><td>C</td></tr><tr><th>11</th><td>1</td><td>3</td><td>female</td><td>4.0</td><td>1</td><td>1</td><td>16.7</td><td>S</td></tr><tr><th>12</th><td>1</td><td>1</td><td>female</td><td>58.0</td><td>0</td><td>0</td><td>26.55</td><td>S</td></tr><tr><th>13</th><td>0</td><td>3</td><td>male</td><td>20.0</td><td>0</td><td>0</td><td>8.05</td><td>S</td></tr><tr><th>14</th><td>0</td><td>3</td><td>male</td><td>39.0</td><td>1</td><td>5</td><td>31.275</td><td>S</td></tr><tr><th>15</th><td>0</td><td>3</td><td>female</td><td>14.0</td><td>0</td><td>0</td><td>7.8542</td><td>S</td></tr><tr><th>16</th><td>1</td><td>2</td><td>female</td><td>55.0</td><td>0</td><td>0</td><td>16.0</td><td>S</td></tr><tr><th>17</th><td>0</td><td>3</td><td>male</td><td>2.0</td><td>4</td><td>1</td><td>29.125</td><td>Q</td></tr><tr><th>18</th><td>1</td><td>2</td><td>male</td><td>29.6421</td><td>0</td><td>0</td><td>13.0</td><td>S</td></tr><tr><th>19</th><td>0</td><td>3</td><td>female</td><td>31.0</td><td>1</td><td>0</td><td>18.0</td><td>S</td></tr><tr><th>20</th><td>1</td><td>3</td><td>female</td><td>29.6421</td><td>0</td><td>0</td><td>7.225</td><td>C</td></tr><tr><th>21</th><td>0</td><td>2</td><td>male</td><td>35.0</td><td>0</td><td>0</td><td>26.0</td><td>S</td></tr><tr><th>22</th><td>1</td><td>2</td><td>male</td><td>34.0</td><td>0</td><td>0</td><td>13.0</td><td>S</td></tr><tr><th>23</th><td>1</td><td>3</td><td>female</td><td>15.0</td><td>0</td><td>0</td><td>8.0292</td><td>Q</td></tr><tr><th>24</th><td>1</td><td>1</td><td>male</td><td>28.0</td><td>0</td><td>0</td><td>35.5</td><td>S</td></tr><tr><th>25</th><td>0</td><td>3</td><td>female</td><td>8.0</td><td>3</td><td>1</td><td>21.075</td><td>S</td></tr><tr><th>26</th><td>1</td><td>3</td><td>female</td><td>38.0</td><td>1</td><td>5</td><td>31.3875</td><td>S</td></tr><tr><th>27</th><td>0</td><td>3</td><td>male</td><td>29.6421</td><td>0</td><td>0</td><td>7.225</td><td>C</td></tr><tr><th>28</th><td>0</td><td>1</td><td>male</td><td>19.0</td><td>3</td><td>2</td><td>263.0</td><td>S</td></tr><tr><th>29</th><td>1</td><td>3</td><td>female</td><td>29.6421</td><td>0</td><td>0</td><td>7.8792</td><td>Q</td></tr><tr><th>30</th><td>0</td><td>3</td><td>male</td><td>29.6421</td><td>0</td><td>0</td><td>7.8958</td><td>S</td></tr><tr><th>&vellip;</th><td>&vellip;</td><td>&vellip;</td><td>&vellip;</td><td>&vellip;</td><td>&vellip;</td><td>&vellip;</td><td>&vellip;</td><td>&vellip;</td></tr></tbody></table></div>"
      ],
      "text/latex": [
       "\\begin{tabular}{r|cccccccc}\n",
       "\t& Survived & Pclass & Sex & Age & SibSp & Parch & Fare & Embarked\\\\\n",
       "\t\\hline\n",
       "\t& Int64 & Int64 & String7 & Float64? & Int64 & Int64 & Float64 & String1\\\\\n",
       "\t\\hline\n",
       "\t1 & 0 & 3 & male & 22.0 & 1 & 0 & 7.25 & S \\\\\n",
       "\t2 & 1 & 1 & female & 38.0 & 1 & 0 & 71.2833 & C \\\\\n",
       "\t3 & 1 & 3 & female & 26.0 & 0 & 0 & 7.925 & S \\\\\n",
       "\t4 & 1 & 1 & female & 35.0 & 1 & 0 & 53.1 & S \\\\\n",
       "\t5 & 0 & 3 & male & 35.0 & 0 & 0 & 8.05 & S \\\\\n",
       "\t6 & 0 & 3 & male & 29.6421 & 0 & 0 & 8.4583 & Q \\\\\n",
       "\t7 & 0 & 1 & male & 54.0 & 0 & 0 & 51.8625 & S \\\\\n",
       "\t8 & 0 & 3 & male & 2.0 & 3 & 1 & 21.075 & S \\\\\n",
       "\t9 & 1 & 3 & female & 27.0 & 0 & 2 & 11.1333 & S \\\\\n",
       "\t10 & 1 & 2 & female & 14.0 & 1 & 0 & 30.0708 & C \\\\\n",
       "\t11 & 1 & 3 & female & 4.0 & 1 & 1 & 16.7 & S \\\\\n",
       "\t12 & 1 & 1 & female & 58.0 & 0 & 0 & 26.55 & S \\\\\n",
       "\t13 & 0 & 3 & male & 20.0 & 0 & 0 & 8.05 & S \\\\\n",
       "\t14 & 0 & 3 & male & 39.0 & 1 & 5 & 31.275 & S \\\\\n",
       "\t15 & 0 & 3 & female & 14.0 & 0 & 0 & 7.8542 & S \\\\\n",
       "\t16 & 1 & 2 & female & 55.0 & 0 & 0 & 16.0 & S \\\\\n",
       "\t17 & 0 & 3 & male & 2.0 & 4 & 1 & 29.125 & Q \\\\\n",
       "\t18 & 1 & 2 & male & 29.6421 & 0 & 0 & 13.0 & S \\\\\n",
       "\t19 & 0 & 3 & female & 31.0 & 1 & 0 & 18.0 & S \\\\\n",
       "\t20 & 1 & 3 & female & 29.6421 & 0 & 0 & 7.225 & C \\\\\n",
       "\t21 & 0 & 2 & male & 35.0 & 0 & 0 & 26.0 & S \\\\\n",
       "\t22 & 1 & 2 & male & 34.0 & 0 & 0 & 13.0 & S \\\\\n",
       "\t23 & 1 & 3 & female & 15.0 & 0 & 0 & 8.0292 & Q \\\\\n",
       "\t24 & 1 & 1 & male & 28.0 & 0 & 0 & 35.5 & S \\\\\n",
       "\t25 & 0 & 3 & female & 8.0 & 3 & 1 & 21.075 & S \\\\\n",
       "\t26 & 1 & 3 & female & 38.0 & 1 & 5 & 31.3875 & S \\\\\n",
       "\t27 & 0 & 3 & male & 29.6421 & 0 & 0 & 7.225 & C \\\\\n",
       "\t28 & 0 & 1 & male & 19.0 & 3 & 2 & 263.0 & S \\\\\n",
       "\t29 & 1 & 3 & female & 29.6421 & 0 & 0 & 7.8792 & Q \\\\\n",
       "\t30 & 0 & 3 & male & 29.6421 & 0 & 0 & 7.8958 & S \\\\\n",
       "\t$\\dots$ & $\\dots$ & $\\dots$ & $\\dots$ & $\\dots$ & $\\dots$ & $\\dots$ & $\\dots$ & $\\dots$ \\\\\n",
       "\\end{tabular}\n"
      ],
      "text/plain": [
       "\u001b[1m889×8 DataFrame\u001b[0m\n",
       "\u001b[1m Row \u001b[0m│\u001b[1m Survived \u001b[0m\u001b[1m Pclass \u001b[0m\u001b[1m Sex     \u001b[0m\u001b[1m Age      \u001b[0m\u001b[1m SibSp \u001b[0m\u001b[1m Parch \u001b[0m\u001b[1m Fare    \u001b[0m\u001b[1m Embarked \u001b[0m\n",
       "\u001b[1m     \u001b[0m│\u001b[90m Int64    \u001b[0m\u001b[90m Int64  \u001b[0m\u001b[90m String7 \u001b[0m\u001b[90m Float64? \u001b[0m\u001b[90m Int64 \u001b[0m\u001b[90m Int64 \u001b[0m\u001b[90m Float64 \u001b[0m\u001b[90m String1  \u001b[0m\n",
       "─────┼──────────────────────────────────────────────────────────────────────\n",
       "   1 │        0       3  male      22.0         1      0   7.25    S\n",
       "   2 │        1       1  female    38.0         1      0  71.2833  C\n",
       "   3 │        1       3  female    26.0         0      0   7.925   S\n",
       "   4 │        1       1  female    35.0         1      0  53.1     S\n",
       "   5 │        0       3  male      35.0         0      0   8.05    S\n",
       "   6 │        0       3  male      29.6421      0      0   8.4583  Q\n",
       "   7 │        0       1  male      54.0         0      0  51.8625  S\n",
       "   8 │        0       3  male       2.0         3      1  21.075   S\n",
       "   9 │        1       3  female    27.0         0      2  11.1333  S\n",
       "  10 │        1       2  female    14.0         1      0  30.0708  C\n",
       "  11 │        1       3  female     4.0         1      1  16.7     S\n",
       "  ⋮  │    ⋮        ⋮        ⋮        ⋮        ⋮      ⋮       ⋮        ⋮\n",
       " 880 │        0       3  male      33.0         0      0   7.8958  S\n",
       " 881 │        0       3  female    22.0         0      0  10.5167  S\n",
       " 882 │        0       2  male      28.0         0      0  10.5     S\n",
       " 883 │        0       3  male      25.0         0      0   7.05    S\n",
       " 884 │        0       3  female    39.0         0      5  29.125   Q\n",
       " 885 │        0       2  male      27.0         0      0  13.0     S\n",
       " 886 │        1       1  female    19.0         0      0  30.0     S\n",
       " 887 │        0       3  female    29.6421      1      2  23.45    S\n",
       " 888 │        1       1  male      26.0         0      0  30.0     C\n",
       " 889 │        0       3  male      32.0         0      0   7.75    Q\n",
       "\u001b[36m                                                            868 rows omitted\u001b[0m"
      ]
     },
     "execution_count": 21,
     "metadata": {},
     "output_type": "execute_result"
    }
   ],
   "source": [
    "train_data"
   ]
  },
  {
   "cell_type": "code",
   "execution_count": 22,
   "id": "d792a6b1",
   "metadata": {},
   "outputs": [
    {
     "data": {
      "text/html": [
       "<div class=\"data-frame\"><p>8 rows × 7 columns</p><table class=\"data-frame\"><thead><tr><th></th><th>variable</th><th>mean</th><th>min</th><th>median</th><th>max</th><th>nmissing</th><th>eltype</th></tr><tr><th></th><th title=\"Symbol\">Symbol</th><th title=\"Union{Nothing, Float64}\">Union…</th><th title=\"Any\">Any</th><th title=\"Union{Nothing, Float64}\">Union…</th><th title=\"Any\">Any</th><th title=\"Int64\">Int64</th><th title=\"Type\">Type</th></tr></thead><tbody><tr><th>1</th><td>Survived</td><td>0.382452</td><td>0</td><td>0.0</td><td>1</td><td>0</td><td>Int64</td></tr><tr><th>2</th><td>Pclass</td><td>2.31159</td><td>1</td><td>3.0</td><td>3</td><td>0</td><td>Int64</td></tr><tr><th>3</th><td>Sex</td><td></td><td>female</td><td></td><td>male</td><td>0</td><td>String7</td></tr><tr><th>4</th><td>Age</td><td>29.6421</td><td>0.42</td><td>29.6421</td><td>80.0</td><td>0</td><td>Union{Missing, Float64}</td></tr><tr><th>5</th><td>SibSp</td><td>0.524184</td><td>0</td><td>0.0</td><td>8</td><td>0</td><td>Int64</td></tr><tr><th>6</th><td>Parch</td><td>0.382452</td><td>0</td><td>0.0</td><td>6</td><td>0</td><td>Int64</td></tr><tr><th>7</th><td>Fare</td><td>32.0967</td><td>0.0</td><td>14.4542</td><td>512.329</td><td>0</td><td>Float64</td></tr><tr><th>8</th><td>Embarked</td><td></td><td>C</td><td></td><td>S</td><td>0</td><td>String1</td></tr></tbody></table></div>"
      ],
      "text/latex": [
       "\\begin{tabular}{r|ccccccc}\n",
       "\t& variable & mean & min & median & max & nmissing & eltype\\\\\n",
       "\t\\hline\n",
       "\t& Symbol & Union… & Any & Union… & Any & Int64 & Type\\\\\n",
       "\t\\hline\n",
       "\t1 & Survived & 0.382452 & 0 & 0.0 & 1 & 0 & Int64 \\\\\n",
       "\t2 & Pclass & 2.31159 & 1 & 3.0 & 3 & 0 & Int64 \\\\\n",
       "\t3 & Sex &  & female &  & male & 0 & String7 \\\\\n",
       "\t4 & Age & 29.6421 & 0.42 & 29.6421 & 80.0 & 0 & Union\\{Missing, Float64\\} \\\\\n",
       "\t5 & SibSp & 0.524184 & 0 & 0.0 & 8 & 0 & Int64 \\\\\n",
       "\t6 & Parch & 0.382452 & 0 & 0.0 & 6 & 0 & Int64 \\\\\n",
       "\t7 & Fare & 32.0967 & 0.0 & 14.4542 & 512.329 & 0 & Float64 \\\\\n",
       "\t8 & Embarked &  & C &  & S & 0 & String1 \\\\\n",
       "\\end{tabular}\n"
      ],
      "text/plain": [
       "\u001b[1m8×7 DataFrame\u001b[0m\n",
       "\u001b[1m Row \u001b[0m│\u001b[1m variable \u001b[0m\u001b[1m mean     \u001b[0m\u001b[1m min    \u001b[0m\u001b[1m median  \u001b[0m\u001b[1m max     \u001b[0m\u001b[1m nmissing \u001b[0m\u001b[1m eltype         \u001b[0m ⋯\n",
       "\u001b[1m     \u001b[0m│\u001b[90m Symbol   \u001b[0m\u001b[90m Union…   \u001b[0m\u001b[90m Any    \u001b[0m\u001b[90m Union…  \u001b[0m\u001b[90m Any     \u001b[0m\u001b[90m Int64    \u001b[0m\u001b[90m Type           \u001b[0m ⋯\n",
       "─────┼──────────────────────────────────────────────────────────────────────────\n",
       "   1 │ Survived  0.382452  0       0.0      1               0  Int64           ⋯\n",
       "   2 │ Pclass    2.31159   1       3.0      3               0  Int64\n",
       "   3 │ Sex      \u001b[90m          \u001b[0m female \u001b[90m         \u001b[0m male            0  String7\n",
       "   4 │ Age       29.6421   0.42    29.6421  80.0            0  Union{Missing,\n",
       "   5 │ SibSp     0.524184  0       0.0      8               0  Int64           ⋯\n",
       "   6 │ Parch     0.382452  0       0.0      6               0  Int64\n",
       "   7 │ Fare      32.0967   0.0     14.4542  512.329         0  Float64\n",
       "   8 │ Embarked \u001b[90m          \u001b[0m C      \u001b[90m         \u001b[0m S               0  String1\n",
       "\u001b[36m                                                                1 column omitted\u001b[0m"
      ]
     },
     "execution_count": 22,
     "metadata": {},
     "output_type": "execute_result"
    }
   ],
   "source": [
    "describe(train_data)"
   ]
  },
  {
   "cell_type": "code",
   "execution_count": 23,
   "id": "6d0f4f48",
   "metadata": {},
   "outputs": [],
   "source": [
    "for i in 1:889\n",
    "    if train_data[i,3] == \"male\"\n",
    "        train_data[i,3] = \"0\"\n",
    "    elseif train_data[i,3] == \"female\"\n",
    "        train_data[i,3] = \"1\"\n",
    "    end\n",
    "end"
   ]
  },
  {
   "cell_type": "code",
   "execution_count": 24,
   "id": "43ed0597",
   "metadata": {},
   "outputs": [
    {
     "data": {
      "text/html": [
       "<div class=\"data-frame\"><p>889 rows × 8 columns</p><table class=\"data-frame\"><thead><tr><th></th><th>Survived</th><th>Pclass</th><th>Sex</th><th>Age</th><th>SibSp</th><th>Parch</th><th>Fare</th><th>Embarked</th></tr><tr><th></th><th title=\"Int64\">Int64</th><th title=\"Int64\">Int64</th><th title=\"String7\">String7</th><th title=\"Union{Missing, Float64}\">Float64?</th><th title=\"Int64\">Int64</th><th title=\"Int64\">Int64</th><th title=\"Float64\">Float64</th><th title=\"String1\">String1</th></tr></thead><tbody><tr><th>1</th><td>0</td><td>3</td><td>0</td><td>22.0</td><td>1</td><td>0</td><td>7.25</td><td>S</td></tr><tr><th>2</th><td>1</td><td>1</td><td>1</td><td>38.0</td><td>1</td><td>0</td><td>71.2833</td><td>C</td></tr><tr><th>3</th><td>1</td><td>3</td><td>1</td><td>26.0</td><td>0</td><td>0</td><td>7.925</td><td>S</td></tr><tr><th>4</th><td>1</td><td>1</td><td>1</td><td>35.0</td><td>1</td><td>0</td><td>53.1</td><td>S</td></tr><tr><th>5</th><td>0</td><td>3</td><td>0</td><td>35.0</td><td>0</td><td>0</td><td>8.05</td><td>S</td></tr><tr><th>6</th><td>0</td><td>3</td><td>0</td><td>29.6421</td><td>0</td><td>0</td><td>8.4583</td><td>Q</td></tr><tr><th>7</th><td>0</td><td>1</td><td>0</td><td>54.0</td><td>0</td><td>0</td><td>51.8625</td><td>S</td></tr><tr><th>8</th><td>0</td><td>3</td><td>0</td><td>2.0</td><td>3</td><td>1</td><td>21.075</td><td>S</td></tr><tr><th>9</th><td>1</td><td>3</td><td>1</td><td>27.0</td><td>0</td><td>2</td><td>11.1333</td><td>S</td></tr><tr><th>10</th><td>1</td><td>2</td><td>1</td><td>14.0</td><td>1</td><td>0</td><td>30.0708</td><td>C</td></tr><tr><th>11</th><td>1</td><td>3</td><td>1</td><td>4.0</td><td>1</td><td>1</td><td>16.7</td><td>S</td></tr><tr><th>12</th><td>1</td><td>1</td><td>1</td><td>58.0</td><td>0</td><td>0</td><td>26.55</td><td>S</td></tr><tr><th>13</th><td>0</td><td>3</td><td>0</td><td>20.0</td><td>0</td><td>0</td><td>8.05</td><td>S</td></tr><tr><th>14</th><td>0</td><td>3</td><td>0</td><td>39.0</td><td>1</td><td>5</td><td>31.275</td><td>S</td></tr><tr><th>15</th><td>0</td><td>3</td><td>1</td><td>14.0</td><td>0</td><td>0</td><td>7.8542</td><td>S</td></tr><tr><th>16</th><td>1</td><td>2</td><td>1</td><td>55.0</td><td>0</td><td>0</td><td>16.0</td><td>S</td></tr><tr><th>17</th><td>0</td><td>3</td><td>0</td><td>2.0</td><td>4</td><td>1</td><td>29.125</td><td>Q</td></tr><tr><th>18</th><td>1</td><td>2</td><td>0</td><td>29.6421</td><td>0</td><td>0</td><td>13.0</td><td>S</td></tr><tr><th>19</th><td>0</td><td>3</td><td>1</td><td>31.0</td><td>1</td><td>0</td><td>18.0</td><td>S</td></tr><tr><th>20</th><td>1</td><td>3</td><td>1</td><td>29.6421</td><td>0</td><td>0</td><td>7.225</td><td>C</td></tr><tr><th>21</th><td>0</td><td>2</td><td>0</td><td>35.0</td><td>0</td><td>0</td><td>26.0</td><td>S</td></tr><tr><th>22</th><td>1</td><td>2</td><td>0</td><td>34.0</td><td>0</td><td>0</td><td>13.0</td><td>S</td></tr><tr><th>23</th><td>1</td><td>3</td><td>1</td><td>15.0</td><td>0</td><td>0</td><td>8.0292</td><td>Q</td></tr><tr><th>24</th><td>1</td><td>1</td><td>0</td><td>28.0</td><td>0</td><td>0</td><td>35.5</td><td>S</td></tr><tr><th>25</th><td>0</td><td>3</td><td>1</td><td>8.0</td><td>3</td><td>1</td><td>21.075</td><td>S</td></tr><tr><th>26</th><td>1</td><td>3</td><td>1</td><td>38.0</td><td>1</td><td>5</td><td>31.3875</td><td>S</td></tr><tr><th>27</th><td>0</td><td>3</td><td>0</td><td>29.6421</td><td>0</td><td>0</td><td>7.225</td><td>C</td></tr><tr><th>28</th><td>0</td><td>1</td><td>0</td><td>19.0</td><td>3</td><td>2</td><td>263.0</td><td>S</td></tr><tr><th>29</th><td>1</td><td>3</td><td>1</td><td>29.6421</td><td>0</td><td>0</td><td>7.8792</td><td>Q</td></tr><tr><th>30</th><td>0</td><td>3</td><td>0</td><td>29.6421</td><td>0</td><td>0</td><td>7.8958</td><td>S</td></tr><tr><th>&vellip;</th><td>&vellip;</td><td>&vellip;</td><td>&vellip;</td><td>&vellip;</td><td>&vellip;</td><td>&vellip;</td><td>&vellip;</td><td>&vellip;</td></tr></tbody></table></div>"
      ],
      "text/latex": [
       "\\begin{tabular}{r|cccccccc}\n",
       "\t& Survived & Pclass & Sex & Age & SibSp & Parch & Fare & Embarked\\\\\n",
       "\t\\hline\n",
       "\t& Int64 & Int64 & String7 & Float64? & Int64 & Int64 & Float64 & String1\\\\\n",
       "\t\\hline\n",
       "\t1 & 0 & 3 & 0 & 22.0 & 1 & 0 & 7.25 & S \\\\\n",
       "\t2 & 1 & 1 & 1 & 38.0 & 1 & 0 & 71.2833 & C \\\\\n",
       "\t3 & 1 & 3 & 1 & 26.0 & 0 & 0 & 7.925 & S \\\\\n",
       "\t4 & 1 & 1 & 1 & 35.0 & 1 & 0 & 53.1 & S \\\\\n",
       "\t5 & 0 & 3 & 0 & 35.0 & 0 & 0 & 8.05 & S \\\\\n",
       "\t6 & 0 & 3 & 0 & 29.6421 & 0 & 0 & 8.4583 & Q \\\\\n",
       "\t7 & 0 & 1 & 0 & 54.0 & 0 & 0 & 51.8625 & S \\\\\n",
       "\t8 & 0 & 3 & 0 & 2.0 & 3 & 1 & 21.075 & S \\\\\n",
       "\t9 & 1 & 3 & 1 & 27.0 & 0 & 2 & 11.1333 & S \\\\\n",
       "\t10 & 1 & 2 & 1 & 14.0 & 1 & 0 & 30.0708 & C \\\\\n",
       "\t11 & 1 & 3 & 1 & 4.0 & 1 & 1 & 16.7 & S \\\\\n",
       "\t12 & 1 & 1 & 1 & 58.0 & 0 & 0 & 26.55 & S \\\\\n",
       "\t13 & 0 & 3 & 0 & 20.0 & 0 & 0 & 8.05 & S \\\\\n",
       "\t14 & 0 & 3 & 0 & 39.0 & 1 & 5 & 31.275 & S \\\\\n",
       "\t15 & 0 & 3 & 1 & 14.0 & 0 & 0 & 7.8542 & S \\\\\n",
       "\t16 & 1 & 2 & 1 & 55.0 & 0 & 0 & 16.0 & S \\\\\n",
       "\t17 & 0 & 3 & 0 & 2.0 & 4 & 1 & 29.125 & Q \\\\\n",
       "\t18 & 1 & 2 & 0 & 29.6421 & 0 & 0 & 13.0 & S \\\\\n",
       "\t19 & 0 & 3 & 1 & 31.0 & 1 & 0 & 18.0 & S \\\\\n",
       "\t20 & 1 & 3 & 1 & 29.6421 & 0 & 0 & 7.225 & C \\\\\n",
       "\t21 & 0 & 2 & 0 & 35.0 & 0 & 0 & 26.0 & S \\\\\n",
       "\t22 & 1 & 2 & 0 & 34.0 & 0 & 0 & 13.0 & S \\\\\n",
       "\t23 & 1 & 3 & 1 & 15.0 & 0 & 0 & 8.0292 & Q \\\\\n",
       "\t24 & 1 & 1 & 0 & 28.0 & 0 & 0 & 35.5 & S \\\\\n",
       "\t25 & 0 & 3 & 1 & 8.0 & 3 & 1 & 21.075 & S \\\\\n",
       "\t26 & 1 & 3 & 1 & 38.0 & 1 & 5 & 31.3875 & S \\\\\n",
       "\t27 & 0 & 3 & 0 & 29.6421 & 0 & 0 & 7.225 & C \\\\\n",
       "\t28 & 0 & 1 & 0 & 19.0 & 3 & 2 & 263.0 & S \\\\\n",
       "\t29 & 1 & 3 & 1 & 29.6421 & 0 & 0 & 7.8792 & Q \\\\\n",
       "\t30 & 0 & 3 & 0 & 29.6421 & 0 & 0 & 7.8958 & S \\\\\n",
       "\t$\\dots$ & $\\dots$ & $\\dots$ & $\\dots$ & $\\dots$ & $\\dots$ & $\\dots$ & $\\dots$ & $\\dots$ \\\\\n",
       "\\end{tabular}\n"
      ],
      "text/plain": [
       "\u001b[1m889×8 DataFrame\u001b[0m\n",
       "\u001b[1m Row \u001b[0m│\u001b[1m Survived \u001b[0m\u001b[1m Pclass \u001b[0m\u001b[1m Sex     \u001b[0m\u001b[1m Age      \u001b[0m\u001b[1m SibSp \u001b[0m\u001b[1m Parch \u001b[0m\u001b[1m Fare    \u001b[0m\u001b[1m Embarked \u001b[0m\n",
       "\u001b[1m     \u001b[0m│\u001b[90m Int64    \u001b[0m\u001b[90m Int64  \u001b[0m\u001b[90m String7 \u001b[0m\u001b[90m Float64? \u001b[0m\u001b[90m Int64 \u001b[0m\u001b[90m Int64 \u001b[0m\u001b[90m Float64 \u001b[0m\u001b[90m String1  \u001b[0m\n",
       "─────┼──────────────────────────────────────────────────────────────────────\n",
       "   1 │        0       3  0         22.0         1      0   7.25    S\n",
       "   2 │        1       1  1         38.0         1      0  71.2833  C\n",
       "   3 │        1       3  1         26.0         0      0   7.925   S\n",
       "   4 │        1       1  1         35.0         1      0  53.1     S\n",
       "   5 │        0       3  0         35.0         0      0   8.05    S\n",
       "   6 │        0       3  0         29.6421      0      0   8.4583  Q\n",
       "   7 │        0       1  0         54.0         0      0  51.8625  S\n",
       "   8 │        0       3  0          2.0         3      1  21.075   S\n",
       "   9 │        1       3  1         27.0         0      2  11.1333  S\n",
       "  10 │        1       2  1         14.0         1      0  30.0708  C\n",
       "  11 │        1       3  1          4.0         1      1  16.7     S\n",
       "  ⋮  │    ⋮        ⋮        ⋮        ⋮        ⋮      ⋮       ⋮        ⋮\n",
       " 880 │        0       3  0         33.0         0      0   7.8958  S\n",
       " 881 │        0       3  1         22.0         0      0  10.5167  S\n",
       " 882 │        0       2  0         28.0         0      0  10.5     S\n",
       " 883 │        0       3  0         25.0         0      0   7.05    S\n",
       " 884 │        0       3  1         39.0         0      5  29.125   Q\n",
       " 885 │        0       2  0         27.0         0      0  13.0     S\n",
       " 886 │        1       1  1         19.0         0      0  30.0     S\n",
       " 887 │        0       3  1         29.6421      1      2  23.45    S\n",
       " 888 │        1       1  0         26.0         0      0  30.0     C\n",
       " 889 │        0       3  0         32.0         0      0   7.75    Q\n",
       "\u001b[36m                                                            868 rows omitted\u001b[0m"
      ]
     },
     "execution_count": 24,
     "metadata": {},
     "output_type": "execute_result"
    }
   ],
   "source": [
    "train_data"
   ]
  },
  {
   "cell_type": "code",
   "execution_count": 25,
   "id": "186ab75e",
   "metadata": {},
   "outputs": [
    {
     "data": {
      "text/plain": [
       "889-element Vector{Int64}:\n",
       " 0\n",
       " 1\n",
       " 1\n",
       " 1\n",
       " 0\n",
       " 0\n",
       " 0\n",
       " 0\n",
       " 1\n",
       " 1\n",
       " 1\n",
       " 1\n",
       " 0\n",
       " ⋮\n",
       " 1\n",
       " 1\n",
       " 0\n",
       " 1\n",
       " 0\n",
       " 0\n",
       " 1\n",
       " 0\n",
       " 1\n",
       " 1\n",
       " 0\n",
       " 0"
      ]
     },
     "execution_count": 25,
     "metadata": {},
     "output_type": "execute_result"
    }
   ],
   "source": [
    "train_data[!,:\"Sex\"] = parse.(Int64,train_data[!,:\"Sex\"])"
   ]
  },
  {
   "cell_type": "code",
   "execution_count": 26,
   "id": "73902a37",
   "metadata": {},
   "outputs": [
    {
     "data": {
      "text/html": [
       "<div class=\"data-frame\"><p>889 rows × 8 columns</p><table class=\"data-frame\"><thead><tr><th></th><th>Survived</th><th>Pclass</th><th>Sex</th><th>Age</th><th>SibSp</th><th>Parch</th><th>Fare</th><th>Embarked</th></tr><tr><th></th><th title=\"Int64\">Int64</th><th title=\"Int64\">Int64</th><th title=\"Int64\">Int64</th><th title=\"Union{Missing, Float64}\">Float64?</th><th title=\"Int64\">Int64</th><th title=\"Int64\">Int64</th><th title=\"Float64\">Float64</th><th title=\"String1\">String1</th></tr></thead><tbody><tr><th>1</th><td>0</td><td>3</td><td>0</td><td>22.0</td><td>1</td><td>0</td><td>7.25</td><td>S</td></tr><tr><th>2</th><td>1</td><td>1</td><td>1</td><td>38.0</td><td>1</td><td>0</td><td>71.2833</td><td>C</td></tr><tr><th>3</th><td>1</td><td>3</td><td>1</td><td>26.0</td><td>0</td><td>0</td><td>7.925</td><td>S</td></tr><tr><th>4</th><td>1</td><td>1</td><td>1</td><td>35.0</td><td>1</td><td>0</td><td>53.1</td><td>S</td></tr><tr><th>5</th><td>0</td><td>3</td><td>0</td><td>35.0</td><td>0</td><td>0</td><td>8.05</td><td>S</td></tr><tr><th>6</th><td>0</td><td>3</td><td>0</td><td>29.6421</td><td>0</td><td>0</td><td>8.4583</td><td>Q</td></tr><tr><th>7</th><td>0</td><td>1</td><td>0</td><td>54.0</td><td>0</td><td>0</td><td>51.8625</td><td>S</td></tr><tr><th>8</th><td>0</td><td>3</td><td>0</td><td>2.0</td><td>3</td><td>1</td><td>21.075</td><td>S</td></tr><tr><th>9</th><td>1</td><td>3</td><td>1</td><td>27.0</td><td>0</td><td>2</td><td>11.1333</td><td>S</td></tr><tr><th>10</th><td>1</td><td>2</td><td>1</td><td>14.0</td><td>1</td><td>0</td><td>30.0708</td><td>C</td></tr><tr><th>11</th><td>1</td><td>3</td><td>1</td><td>4.0</td><td>1</td><td>1</td><td>16.7</td><td>S</td></tr><tr><th>12</th><td>1</td><td>1</td><td>1</td><td>58.0</td><td>0</td><td>0</td><td>26.55</td><td>S</td></tr><tr><th>13</th><td>0</td><td>3</td><td>0</td><td>20.0</td><td>0</td><td>0</td><td>8.05</td><td>S</td></tr><tr><th>14</th><td>0</td><td>3</td><td>0</td><td>39.0</td><td>1</td><td>5</td><td>31.275</td><td>S</td></tr><tr><th>15</th><td>0</td><td>3</td><td>1</td><td>14.0</td><td>0</td><td>0</td><td>7.8542</td><td>S</td></tr><tr><th>16</th><td>1</td><td>2</td><td>1</td><td>55.0</td><td>0</td><td>0</td><td>16.0</td><td>S</td></tr><tr><th>17</th><td>0</td><td>3</td><td>0</td><td>2.0</td><td>4</td><td>1</td><td>29.125</td><td>Q</td></tr><tr><th>18</th><td>1</td><td>2</td><td>0</td><td>29.6421</td><td>0</td><td>0</td><td>13.0</td><td>S</td></tr><tr><th>19</th><td>0</td><td>3</td><td>1</td><td>31.0</td><td>1</td><td>0</td><td>18.0</td><td>S</td></tr><tr><th>20</th><td>1</td><td>3</td><td>1</td><td>29.6421</td><td>0</td><td>0</td><td>7.225</td><td>C</td></tr><tr><th>21</th><td>0</td><td>2</td><td>0</td><td>35.0</td><td>0</td><td>0</td><td>26.0</td><td>S</td></tr><tr><th>22</th><td>1</td><td>2</td><td>0</td><td>34.0</td><td>0</td><td>0</td><td>13.0</td><td>S</td></tr><tr><th>23</th><td>1</td><td>3</td><td>1</td><td>15.0</td><td>0</td><td>0</td><td>8.0292</td><td>Q</td></tr><tr><th>24</th><td>1</td><td>1</td><td>0</td><td>28.0</td><td>0</td><td>0</td><td>35.5</td><td>S</td></tr><tr><th>25</th><td>0</td><td>3</td><td>1</td><td>8.0</td><td>3</td><td>1</td><td>21.075</td><td>S</td></tr><tr><th>26</th><td>1</td><td>3</td><td>1</td><td>38.0</td><td>1</td><td>5</td><td>31.3875</td><td>S</td></tr><tr><th>27</th><td>0</td><td>3</td><td>0</td><td>29.6421</td><td>0</td><td>0</td><td>7.225</td><td>C</td></tr><tr><th>28</th><td>0</td><td>1</td><td>0</td><td>19.0</td><td>3</td><td>2</td><td>263.0</td><td>S</td></tr><tr><th>29</th><td>1</td><td>3</td><td>1</td><td>29.6421</td><td>0</td><td>0</td><td>7.8792</td><td>Q</td></tr><tr><th>30</th><td>0</td><td>3</td><td>0</td><td>29.6421</td><td>0</td><td>0</td><td>7.8958</td><td>S</td></tr><tr><th>&vellip;</th><td>&vellip;</td><td>&vellip;</td><td>&vellip;</td><td>&vellip;</td><td>&vellip;</td><td>&vellip;</td><td>&vellip;</td><td>&vellip;</td></tr></tbody></table></div>"
      ],
      "text/latex": [
       "\\begin{tabular}{r|cccccccc}\n",
       "\t& Survived & Pclass & Sex & Age & SibSp & Parch & Fare & Embarked\\\\\n",
       "\t\\hline\n",
       "\t& Int64 & Int64 & Int64 & Float64? & Int64 & Int64 & Float64 & String1\\\\\n",
       "\t\\hline\n",
       "\t1 & 0 & 3 & 0 & 22.0 & 1 & 0 & 7.25 & S \\\\\n",
       "\t2 & 1 & 1 & 1 & 38.0 & 1 & 0 & 71.2833 & C \\\\\n",
       "\t3 & 1 & 3 & 1 & 26.0 & 0 & 0 & 7.925 & S \\\\\n",
       "\t4 & 1 & 1 & 1 & 35.0 & 1 & 0 & 53.1 & S \\\\\n",
       "\t5 & 0 & 3 & 0 & 35.0 & 0 & 0 & 8.05 & S \\\\\n",
       "\t6 & 0 & 3 & 0 & 29.6421 & 0 & 0 & 8.4583 & Q \\\\\n",
       "\t7 & 0 & 1 & 0 & 54.0 & 0 & 0 & 51.8625 & S \\\\\n",
       "\t8 & 0 & 3 & 0 & 2.0 & 3 & 1 & 21.075 & S \\\\\n",
       "\t9 & 1 & 3 & 1 & 27.0 & 0 & 2 & 11.1333 & S \\\\\n",
       "\t10 & 1 & 2 & 1 & 14.0 & 1 & 0 & 30.0708 & C \\\\\n",
       "\t11 & 1 & 3 & 1 & 4.0 & 1 & 1 & 16.7 & S \\\\\n",
       "\t12 & 1 & 1 & 1 & 58.0 & 0 & 0 & 26.55 & S \\\\\n",
       "\t13 & 0 & 3 & 0 & 20.0 & 0 & 0 & 8.05 & S \\\\\n",
       "\t14 & 0 & 3 & 0 & 39.0 & 1 & 5 & 31.275 & S \\\\\n",
       "\t15 & 0 & 3 & 1 & 14.0 & 0 & 0 & 7.8542 & S \\\\\n",
       "\t16 & 1 & 2 & 1 & 55.0 & 0 & 0 & 16.0 & S \\\\\n",
       "\t17 & 0 & 3 & 0 & 2.0 & 4 & 1 & 29.125 & Q \\\\\n",
       "\t18 & 1 & 2 & 0 & 29.6421 & 0 & 0 & 13.0 & S \\\\\n",
       "\t19 & 0 & 3 & 1 & 31.0 & 1 & 0 & 18.0 & S \\\\\n",
       "\t20 & 1 & 3 & 1 & 29.6421 & 0 & 0 & 7.225 & C \\\\\n",
       "\t21 & 0 & 2 & 0 & 35.0 & 0 & 0 & 26.0 & S \\\\\n",
       "\t22 & 1 & 2 & 0 & 34.0 & 0 & 0 & 13.0 & S \\\\\n",
       "\t23 & 1 & 3 & 1 & 15.0 & 0 & 0 & 8.0292 & Q \\\\\n",
       "\t24 & 1 & 1 & 0 & 28.0 & 0 & 0 & 35.5 & S \\\\\n",
       "\t25 & 0 & 3 & 1 & 8.0 & 3 & 1 & 21.075 & S \\\\\n",
       "\t26 & 1 & 3 & 1 & 38.0 & 1 & 5 & 31.3875 & S \\\\\n",
       "\t27 & 0 & 3 & 0 & 29.6421 & 0 & 0 & 7.225 & C \\\\\n",
       "\t28 & 0 & 1 & 0 & 19.0 & 3 & 2 & 263.0 & S \\\\\n",
       "\t29 & 1 & 3 & 1 & 29.6421 & 0 & 0 & 7.8792 & Q \\\\\n",
       "\t30 & 0 & 3 & 0 & 29.6421 & 0 & 0 & 7.8958 & S \\\\\n",
       "\t$\\dots$ & $\\dots$ & $\\dots$ & $\\dots$ & $\\dots$ & $\\dots$ & $\\dots$ & $\\dots$ & $\\dots$ \\\\\n",
       "\\end{tabular}\n"
      ],
      "text/plain": [
       "\u001b[1m889×8 DataFrame\u001b[0m\n",
       "\u001b[1m Row \u001b[0m│\u001b[1m Survived \u001b[0m\u001b[1m Pclass \u001b[0m\u001b[1m Sex   \u001b[0m\u001b[1m Age      \u001b[0m\u001b[1m SibSp \u001b[0m\u001b[1m Parch \u001b[0m\u001b[1m Fare    \u001b[0m\u001b[1m Embarked \u001b[0m\n",
       "\u001b[1m     \u001b[0m│\u001b[90m Int64    \u001b[0m\u001b[90m Int64  \u001b[0m\u001b[90m Int64 \u001b[0m\u001b[90m Float64? \u001b[0m\u001b[90m Int64 \u001b[0m\u001b[90m Int64 \u001b[0m\u001b[90m Float64 \u001b[0m\u001b[90m String1  \u001b[0m\n",
       "─────┼────────────────────────────────────────────────────────────────────\n",
       "   1 │        0       3      0   22.0         1      0   7.25    S\n",
       "   2 │        1       1      1   38.0         1      0  71.2833  C\n",
       "   3 │        1       3      1   26.0         0      0   7.925   S\n",
       "   4 │        1       1      1   35.0         1      0  53.1     S\n",
       "   5 │        0       3      0   35.0         0      0   8.05    S\n",
       "   6 │        0       3      0   29.6421      0      0   8.4583  Q\n",
       "   7 │        0       1      0   54.0         0      0  51.8625  S\n",
       "   8 │        0       3      0    2.0         3      1  21.075   S\n",
       "   9 │        1       3      1   27.0         0      2  11.1333  S\n",
       "  10 │        1       2      1   14.0         1      0  30.0708  C\n",
       "  11 │        1       3      1    4.0         1      1  16.7     S\n",
       "  ⋮  │    ⋮        ⋮       ⋮       ⋮        ⋮      ⋮       ⋮        ⋮\n",
       " 880 │        0       3      0   33.0         0      0   7.8958  S\n",
       " 881 │        0       3      1   22.0         0      0  10.5167  S\n",
       " 882 │        0       2      0   28.0         0      0  10.5     S\n",
       " 883 │        0       3      0   25.0         0      0   7.05    S\n",
       " 884 │        0       3      1   39.0         0      5  29.125   Q\n",
       " 885 │        0       2      0   27.0         0      0  13.0     S\n",
       " 886 │        1       1      1   19.0         0      0  30.0     S\n",
       " 887 │        0       3      1   29.6421      1      2  23.45    S\n",
       " 888 │        1       1      0   26.0         0      0  30.0     C\n",
       " 889 │        0       3      0   32.0         0      0   7.75    Q\n",
       "\u001b[36m                                                          868 rows omitted\u001b[0m"
      ]
     },
     "execution_count": 26,
     "metadata": {},
     "output_type": "execute_result"
    }
   ],
   "source": [
    "train_data"
   ]
  },
  {
   "cell_type": "code",
   "execution_count": 27,
   "id": "346a3ff9",
   "metadata": {},
   "outputs": [
    {
     "data": {
      "text/plain": [
       "889-element PooledArrays.PooledVector{String1, UInt32, Vector{UInt32}}:\n",
       " \"S\"\n",
       " \"C\"\n",
       " \"S\"\n",
       " \"S\"\n",
       " \"S\"\n",
       " \"Q\"\n",
       " \"S\"\n",
       " \"S\"\n",
       " \"S\"\n",
       " \"C\"\n",
       " \"S\"\n",
       " \"S\"\n",
       " \"S\"\n",
       " ⋮\n",
       " \"C\"\n",
       " \"S\"\n",
       " \"S\"\n",
       " \"S\"\n",
       " \"S\"\n",
       " \"S\"\n",
       " \"Q\"\n",
       " \"S\"\n",
       " \"S\"\n",
       " \"S\"\n",
       " \"C\"\n",
       " \"Q\""
      ]
     },
     "execution_count": 27,
     "metadata": {},
     "output_type": "execute_result"
    }
   ],
   "source": [
    "train_data[:,8]"
   ]
  },
  {
   "cell_type": "code",
   "execution_count": 28,
   "id": "8cb70c2e",
   "metadata": {},
   "outputs": [],
   "source": [
    "for i in 1:889\n",
    "    if train_data[i,8] == \"C\"\n",
    "        train_data[i,8] = \"1\"\n",
    "    elseif train_data[i,8] == \"Q\"\n",
    "        train_data[i,8] = \"2\"\n",
    "    elseif train_data[i,8] == \"S\"\n",
    "        train_data[i,8] = \"0\"\n",
    "    end\n",
    "end"
   ]
  },
  {
   "cell_type": "code",
   "execution_count": 29,
   "id": "81214854",
   "metadata": {},
   "outputs": [
    {
     "data": {
      "text/html": [
       "<div class=\"data-frame\"><p>889 rows × 8 columns</p><table class=\"data-frame\"><thead><tr><th></th><th>Survived</th><th>Pclass</th><th>Sex</th><th>Age</th><th>SibSp</th><th>Parch</th><th>Fare</th><th>Embarked</th></tr><tr><th></th><th title=\"Int64\">Int64</th><th title=\"Int64\">Int64</th><th title=\"Int64\">Int64</th><th title=\"Union{Missing, Float64}\">Float64?</th><th title=\"Int64\">Int64</th><th title=\"Int64\">Int64</th><th title=\"Float64\">Float64</th><th title=\"String1\">String1</th></tr></thead><tbody><tr><th>1</th><td>0</td><td>3</td><td>0</td><td>22.0</td><td>1</td><td>0</td><td>7.25</td><td>0</td></tr><tr><th>2</th><td>1</td><td>1</td><td>1</td><td>38.0</td><td>1</td><td>0</td><td>71.2833</td><td>1</td></tr><tr><th>3</th><td>1</td><td>3</td><td>1</td><td>26.0</td><td>0</td><td>0</td><td>7.925</td><td>0</td></tr><tr><th>4</th><td>1</td><td>1</td><td>1</td><td>35.0</td><td>1</td><td>0</td><td>53.1</td><td>0</td></tr><tr><th>5</th><td>0</td><td>3</td><td>0</td><td>35.0</td><td>0</td><td>0</td><td>8.05</td><td>0</td></tr><tr><th>6</th><td>0</td><td>3</td><td>0</td><td>29.6421</td><td>0</td><td>0</td><td>8.4583</td><td>2</td></tr><tr><th>7</th><td>0</td><td>1</td><td>0</td><td>54.0</td><td>0</td><td>0</td><td>51.8625</td><td>0</td></tr><tr><th>8</th><td>0</td><td>3</td><td>0</td><td>2.0</td><td>3</td><td>1</td><td>21.075</td><td>0</td></tr><tr><th>9</th><td>1</td><td>3</td><td>1</td><td>27.0</td><td>0</td><td>2</td><td>11.1333</td><td>0</td></tr><tr><th>10</th><td>1</td><td>2</td><td>1</td><td>14.0</td><td>1</td><td>0</td><td>30.0708</td><td>1</td></tr><tr><th>11</th><td>1</td><td>3</td><td>1</td><td>4.0</td><td>1</td><td>1</td><td>16.7</td><td>0</td></tr><tr><th>12</th><td>1</td><td>1</td><td>1</td><td>58.0</td><td>0</td><td>0</td><td>26.55</td><td>0</td></tr><tr><th>13</th><td>0</td><td>3</td><td>0</td><td>20.0</td><td>0</td><td>0</td><td>8.05</td><td>0</td></tr><tr><th>14</th><td>0</td><td>3</td><td>0</td><td>39.0</td><td>1</td><td>5</td><td>31.275</td><td>0</td></tr><tr><th>15</th><td>0</td><td>3</td><td>1</td><td>14.0</td><td>0</td><td>0</td><td>7.8542</td><td>0</td></tr><tr><th>16</th><td>1</td><td>2</td><td>1</td><td>55.0</td><td>0</td><td>0</td><td>16.0</td><td>0</td></tr><tr><th>17</th><td>0</td><td>3</td><td>0</td><td>2.0</td><td>4</td><td>1</td><td>29.125</td><td>2</td></tr><tr><th>18</th><td>1</td><td>2</td><td>0</td><td>29.6421</td><td>0</td><td>0</td><td>13.0</td><td>0</td></tr><tr><th>19</th><td>0</td><td>3</td><td>1</td><td>31.0</td><td>1</td><td>0</td><td>18.0</td><td>0</td></tr><tr><th>20</th><td>1</td><td>3</td><td>1</td><td>29.6421</td><td>0</td><td>0</td><td>7.225</td><td>1</td></tr><tr><th>21</th><td>0</td><td>2</td><td>0</td><td>35.0</td><td>0</td><td>0</td><td>26.0</td><td>0</td></tr><tr><th>22</th><td>1</td><td>2</td><td>0</td><td>34.0</td><td>0</td><td>0</td><td>13.0</td><td>0</td></tr><tr><th>23</th><td>1</td><td>3</td><td>1</td><td>15.0</td><td>0</td><td>0</td><td>8.0292</td><td>2</td></tr><tr><th>24</th><td>1</td><td>1</td><td>0</td><td>28.0</td><td>0</td><td>0</td><td>35.5</td><td>0</td></tr><tr><th>25</th><td>0</td><td>3</td><td>1</td><td>8.0</td><td>3</td><td>1</td><td>21.075</td><td>0</td></tr><tr><th>26</th><td>1</td><td>3</td><td>1</td><td>38.0</td><td>1</td><td>5</td><td>31.3875</td><td>0</td></tr><tr><th>27</th><td>0</td><td>3</td><td>0</td><td>29.6421</td><td>0</td><td>0</td><td>7.225</td><td>1</td></tr><tr><th>28</th><td>0</td><td>1</td><td>0</td><td>19.0</td><td>3</td><td>2</td><td>263.0</td><td>0</td></tr><tr><th>29</th><td>1</td><td>3</td><td>1</td><td>29.6421</td><td>0</td><td>0</td><td>7.8792</td><td>2</td></tr><tr><th>30</th><td>0</td><td>3</td><td>0</td><td>29.6421</td><td>0</td><td>0</td><td>7.8958</td><td>0</td></tr><tr><th>&vellip;</th><td>&vellip;</td><td>&vellip;</td><td>&vellip;</td><td>&vellip;</td><td>&vellip;</td><td>&vellip;</td><td>&vellip;</td><td>&vellip;</td></tr></tbody></table></div>"
      ],
      "text/latex": [
       "\\begin{tabular}{r|cccccccc}\n",
       "\t& Survived & Pclass & Sex & Age & SibSp & Parch & Fare & Embarked\\\\\n",
       "\t\\hline\n",
       "\t& Int64 & Int64 & Int64 & Float64? & Int64 & Int64 & Float64 & String1\\\\\n",
       "\t\\hline\n",
       "\t1 & 0 & 3 & 0 & 22.0 & 1 & 0 & 7.25 & 0 \\\\\n",
       "\t2 & 1 & 1 & 1 & 38.0 & 1 & 0 & 71.2833 & 1 \\\\\n",
       "\t3 & 1 & 3 & 1 & 26.0 & 0 & 0 & 7.925 & 0 \\\\\n",
       "\t4 & 1 & 1 & 1 & 35.0 & 1 & 0 & 53.1 & 0 \\\\\n",
       "\t5 & 0 & 3 & 0 & 35.0 & 0 & 0 & 8.05 & 0 \\\\\n",
       "\t6 & 0 & 3 & 0 & 29.6421 & 0 & 0 & 8.4583 & 2 \\\\\n",
       "\t7 & 0 & 1 & 0 & 54.0 & 0 & 0 & 51.8625 & 0 \\\\\n",
       "\t8 & 0 & 3 & 0 & 2.0 & 3 & 1 & 21.075 & 0 \\\\\n",
       "\t9 & 1 & 3 & 1 & 27.0 & 0 & 2 & 11.1333 & 0 \\\\\n",
       "\t10 & 1 & 2 & 1 & 14.0 & 1 & 0 & 30.0708 & 1 \\\\\n",
       "\t11 & 1 & 3 & 1 & 4.0 & 1 & 1 & 16.7 & 0 \\\\\n",
       "\t12 & 1 & 1 & 1 & 58.0 & 0 & 0 & 26.55 & 0 \\\\\n",
       "\t13 & 0 & 3 & 0 & 20.0 & 0 & 0 & 8.05 & 0 \\\\\n",
       "\t14 & 0 & 3 & 0 & 39.0 & 1 & 5 & 31.275 & 0 \\\\\n",
       "\t15 & 0 & 3 & 1 & 14.0 & 0 & 0 & 7.8542 & 0 \\\\\n",
       "\t16 & 1 & 2 & 1 & 55.0 & 0 & 0 & 16.0 & 0 \\\\\n",
       "\t17 & 0 & 3 & 0 & 2.0 & 4 & 1 & 29.125 & 2 \\\\\n",
       "\t18 & 1 & 2 & 0 & 29.6421 & 0 & 0 & 13.0 & 0 \\\\\n",
       "\t19 & 0 & 3 & 1 & 31.0 & 1 & 0 & 18.0 & 0 \\\\\n",
       "\t20 & 1 & 3 & 1 & 29.6421 & 0 & 0 & 7.225 & 1 \\\\\n",
       "\t21 & 0 & 2 & 0 & 35.0 & 0 & 0 & 26.0 & 0 \\\\\n",
       "\t22 & 1 & 2 & 0 & 34.0 & 0 & 0 & 13.0 & 0 \\\\\n",
       "\t23 & 1 & 3 & 1 & 15.0 & 0 & 0 & 8.0292 & 2 \\\\\n",
       "\t24 & 1 & 1 & 0 & 28.0 & 0 & 0 & 35.5 & 0 \\\\\n",
       "\t25 & 0 & 3 & 1 & 8.0 & 3 & 1 & 21.075 & 0 \\\\\n",
       "\t26 & 1 & 3 & 1 & 38.0 & 1 & 5 & 31.3875 & 0 \\\\\n",
       "\t27 & 0 & 3 & 0 & 29.6421 & 0 & 0 & 7.225 & 1 \\\\\n",
       "\t28 & 0 & 1 & 0 & 19.0 & 3 & 2 & 263.0 & 0 \\\\\n",
       "\t29 & 1 & 3 & 1 & 29.6421 & 0 & 0 & 7.8792 & 2 \\\\\n",
       "\t30 & 0 & 3 & 0 & 29.6421 & 0 & 0 & 7.8958 & 0 \\\\\n",
       "\t$\\dots$ & $\\dots$ & $\\dots$ & $\\dots$ & $\\dots$ & $\\dots$ & $\\dots$ & $\\dots$ & $\\dots$ \\\\\n",
       "\\end{tabular}\n"
      ],
      "text/plain": [
       "\u001b[1m889×8 DataFrame\u001b[0m\n",
       "\u001b[1m Row \u001b[0m│\u001b[1m Survived \u001b[0m\u001b[1m Pclass \u001b[0m\u001b[1m Sex   \u001b[0m\u001b[1m Age      \u001b[0m\u001b[1m SibSp \u001b[0m\u001b[1m Parch \u001b[0m\u001b[1m Fare    \u001b[0m\u001b[1m Embarked \u001b[0m\n",
       "\u001b[1m     \u001b[0m│\u001b[90m Int64    \u001b[0m\u001b[90m Int64  \u001b[0m\u001b[90m Int64 \u001b[0m\u001b[90m Float64? \u001b[0m\u001b[90m Int64 \u001b[0m\u001b[90m Int64 \u001b[0m\u001b[90m Float64 \u001b[0m\u001b[90m String1  \u001b[0m\n",
       "─────┼────────────────────────────────────────────────────────────────────\n",
       "   1 │        0       3      0   22.0         1      0   7.25    0\n",
       "   2 │        1       1      1   38.0         1      0  71.2833  1\n",
       "   3 │        1       3      1   26.0         0      0   7.925   0\n",
       "   4 │        1       1      1   35.0         1      0  53.1     0\n",
       "   5 │        0       3      0   35.0         0      0   8.05    0\n",
       "   6 │        0       3      0   29.6421      0      0   8.4583  2\n",
       "   7 │        0       1      0   54.0         0      0  51.8625  0\n",
       "   8 │        0       3      0    2.0         3      1  21.075   0\n",
       "   9 │        1       3      1   27.0         0      2  11.1333  0\n",
       "  10 │        1       2      1   14.0         1      0  30.0708  1\n",
       "  11 │        1       3      1    4.0         1      1  16.7     0\n",
       "  ⋮  │    ⋮        ⋮       ⋮       ⋮        ⋮      ⋮       ⋮        ⋮\n",
       " 880 │        0       3      0   33.0         0      0   7.8958  0\n",
       " 881 │        0       3      1   22.0         0      0  10.5167  0\n",
       " 882 │        0       2      0   28.0         0      0  10.5     0\n",
       " 883 │        0       3      0   25.0         0      0   7.05    0\n",
       " 884 │        0       3      1   39.0         0      5  29.125   2\n",
       " 885 │        0       2      0   27.0         0      0  13.0     0\n",
       " 886 │        1       1      1   19.0         0      0  30.0     0\n",
       " 887 │        0       3      1   29.6421      1      2  23.45    0\n",
       " 888 │        1       1      0   26.0         0      0  30.0     1\n",
       " 889 │        0       3      0   32.0         0      0   7.75    2\n",
       "\u001b[36m                                                          868 rows omitted\u001b[0m"
      ]
     },
     "execution_count": 29,
     "metadata": {},
     "output_type": "execute_result"
    }
   ],
   "source": [
    "train_data"
   ]
  },
  {
   "cell_type": "code",
   "execution_count": 30,
   "id": "50293541",
   "metadata": {},
   "outputs": [
    {
     "data": {
      "text/plain": [
       "889-element Vector{Int64}:\n",
       " 0\n",
       " 1\n",
       " 0\n",
       " 0\n",
       " 0\n",
       " 2\n",
       " 0\n",
       " 0\n",
       " 0\n",
       " 1\n",
       " 0\n",
       " 0\n",
       " 0\n",
       " ⋮\n",
       " 1\n",
       " 0\n",
       " 0\n",
       " 0\n",
       " 0\n",
       " 0\n",
       " 2\n",
       " 0\n",
       " 0\n",
       " 0\n",
       " 1\n",
       " 2"
      ]
     },
     "execution_count": 30,
     "metadata": {},
     "output_type": "execute_result"
    }
   ],
   "source": [
    "train_data[!,:\"Embarked\"] = parse.(Int64,train_data[!,:\"Embarked\"])"
   ]
  },
  {
   "cell_type": "code",
   "execution_count": 31,
   "id": "e316c338",
   "metadata": {},
   "outputs": [
    {
     "data": {
      "text/html": [
       "<div class=\"data-frame\"><p>889 rows × 8 columns</p><table class=\"data-frame\"><thead><tr><th></th><th>Survived</th><th>Pclass</th><th>Sex</th><th>Age</th><th>SibSp</th><th>Parch</th><th>Fare</th><th>Embarked</th></tr><tr><th></th><th title=\"Int64\">Int64</th><th title=\"Int64\">Int64</th><th title=\"Int64\">Int64</th><th title=\"Union{Missing, Float64}\">Float64?</th><th title=\"Int64\">Int64</th><th title=\"Int64\">Int64</th><th title=\"Float64\">Float64</th><th title=\"Int64\">Int64</th></tr></thead><tbody><tr><th>1</th><td>0</td><td>3</td><td>0</td><td>22.0</td><td>1</td><td>0</td><td>7.25</td><td>0</td></tr><tr><th>2</th><td>1</td><td>1</td><td>1</td><td>38.0</td><td>1</td><td>0</td><td>71.2833</td><td>1</td></tr><tr><th>3</th><td>1</td><td>3</td><td>1</td><td>26.0</td><td>0</td><td>0</td><td>7.925</td><td>0</td></tr><tr><th>4</th><td>1</td><td>1</td><td>1</td><td>35.0</td><td>1</td><td>0</td><td>53.1</td><td>0</td></tr><tr><th>5</th><td>0</td><td>3</td><td>0</td><td>35.0</td><td>0</td><td>0</td><td>8.05</td><td>0</td></tr><tr><th>6</th><td>0</td><td>3</td><td>0</td><td>29.6421</td><td>0</td><td>0</td><td>8.4583</td><td>2</td></tr><tr><th>7</th><td>0</td><td>1</td><td>0</td><td>54.0</td><td>0</td><td>0</td><td>51.8625</td><td>0</td></tr><tr><th>8</th><td>0</td><td>3</td><td>0</td><td>2.0</td><td>3</td><td>1</td><td>21.075</td><td>0</td></tr><tr><th>9</th><td>1</td><td>3</td><td>1</td><td>27.0</td><td>0</td><td>2</td><td>11.1333</td><td>0</td></tr><tr><th>10</th><td>1</td><td>2</td><td>1</td><td>14.0</td><td>1</td><td>0</td><td>30.0708</td><td>1</td></tr><tr><th>11</th><td>1</td><td>3</td><td>1</td><td>4.0</td><td>1</td><td>1</td><td>16.7</td><td>0</td></tr><tr><th>12</th><td>1</td><td>1</td><td>1</td><td>58.0</td><td>0</td><td>0</td><td>26.55</td><td>0</td></tr><tr><th>13</th><td>0</td><td>3</td><td>0</td><td>20.0</td><td>0</td><td>0</td><td>8.05</td><td>0</td></tr><tr><th>14</th><td>0</td><td>3</td><td>0</td><td>39.0</td><td>1</td><td>5</td><td>31.275</td><td>0</td></tr><tr><th>15</th><td>0</td><td>3</td><td>1</td><td>14.0</td><td>0</td><td>0</td><td>7.8542</td><td>0</td></tr><tr><th>16</th><td>1</td><td>2</td><td>1</td><td>55.0</td><td>0</td><td>0</td><td>16.0</td><td>0</td></tr><tr><th>17</th><td>0</td><td>3</td><td>0</td><td>2.0</td><td>4</td><td>1</td><td>29.125</td><td>2</td></tr><tr><th>18</th><td>1</td><td>2</td><td>0</td><td>29.6421</td><td>0</td><td>0</td><td>13.0</td><td>0</td></tr><tr><th>19</th><td>0</td><td>3</td><td>1</td><td>31.0</td><td>1</td><td>0</td><td>18.0</td><td>0</td></tr><tr><th>20</th><td>1</td><td>3</td><td>1</td><td>29.6421</td><td>0</td><td>0</td><td>7.225</td><td>1</td></tr><tr><th>21</th><td>0</td><td>2</td><td>0</td><td>35.0</td><td>0</td><td>0</td><td>26.0</td><td>0</td></tr><tr><th>22</th><td>1</td><td>2</td><td>0</td><td>34.0</td><td>0</td><td>0</td><td>13.0</td><td>0</td></tr><tr><th>23</th><td>1</td><td>3</td><td>1</td><td>15.0</td><td>0</td><td>0</td><td>8.0292</td><td>2</td></tr><tr><th>24</th><td>1</td><td>1</td><td>0</td><td>28.0</td><td>0</td><td>0</td><td>35.5</td><td>0</td></tr><tr><th>25</th><td>0</td><td>3</td><td>1</td><td>8.0</td><td>3</td><td>1</td><td>21.075</td><td>0</td></tr><tr><th>26</th><td>1</td><td>3</td><td>1</td><td>38.0</td><td>1</td><td>5</td><td>31.3875</td><td>0</td></tr><tr><th>27</th><td>0</td><td>3</td><td>0</td><td>29.6421</td><td>0</td><td>0</td><td>7.225</td><td>1</td></tr><tr><th>28</th><td>0</td><td>1</td><td>0</td><td>19.0</td><td>3</td><td>2</td><td>263.0</td><td>0</td></tr><tr><th>29</th><td>1</td><td>3</td><td>1</td><td>29.6421</td><td>0</td><td>0</td><td>7.8792</td><td>2</td></tr><tr><th>30</th><td>0</td><td>3</td><td>0</td><td>29.6421</td><td>0</td><td>0</td><td>7.8958</td><td>0</td></tr><tr><th>&vellip;</th><td>&vellip;</td><td>&vellip;</td><td>&vellip;</td><td>&vellip;</td><td>&vellip;</td><td>&vellip;</td><td>&vellip;</td><td>&vellip;</td></tr></tbody></table></div>"
      ],
      "text/latex": [
       "\\begin{tabular}{r|cccccccc}\n",
       "\t& Survived & Pclass & Sex & Age & SibSp & Parch & Fare & Embarked\\\\\n",
       "\t\\hline\n",
       "\t& Int64 & Int64 & Int64 & Float64? & Int64 & Int64 & Float64 & Int64\\\\\n",
       "\t\\hline\n",
       "\t1 & 0 & 3 & 0 & 22.0 & 1 & 0 & 7.25 & 0 \\\\\n",
       "\t2 & 1 & 1 & 1 & 38.0 & 1 & 0 & 71.2833 & 1 \\\\\n",
       "\t3 & 1 & 3 & 1 & 26.0 & 0 & 0 & 7.925 & 0 \\\\\n",
       "\t4 & 1 & 1 & 1 & 35.0 & 1 & 0 & 53.1 & 0 \\\\\n",
       "\t5 & 0 & 3 & 0 & 35.0 & 0 & 0 & 8.05 & 0 \\\\\n",
       "\t6 & 0 & 3 & 0 & 29.6421 & 0 & 0 & 8.4583 & 2 \\\\\n",
       "\t7 & 0 & 1 & 0 & 54.0 & 0 & 0 & 51.8625 & 0 \\\\\n",
       "\t8 & 0 & 3 & 0 & 2.0 & 3 & 1 & 21.075 & 0 \\\\\n",
       "\t9 & 1 & 3 & 1 & 27.0 & 0 & 2 & 11.1333 & 0 \\\\\n",
       "\t10 & 1 & 2 & 1 & 14.0 & 1 & 0 & 30.0708 & 1 \\\\\n",
       "\t11 & 1 & 3 & 1 & 4.0 & 1 & 1 & 16.7 & 0 \\\\\n",
       "\t12 & 1 & 1 & 1 & 58.0 & 0 & 0 & 26.55 & 0 \\\\\n",
       "\t13 & 0 & 3 & 0 & 20.0 & 0 & 0 & 8.05 & 0 \\\\\n",
       "\t14 & 0 & 3 & 0 & 39.0 & 1 & 5 & 31.275 & 0 \\\\\n",
       "\t15 & 0 & 3 & 1 & 14.0 & 0 & 0 & 7.8542 & 0 \\\\\n",
       "\t16 & 1 & 2 & 1 & 55.0 & 0 & 0 & 16.0 & 0 \\\\\n",
       "\t17 & 0 & 3 & 0 & 2.0 & 4 & 1 & 29.125 & 2 \\\\\n",
       "\t18 & 1 & 2 & 0 & 29.6421 & 0 & 0 & 13.0 & 0 \\\\\n",
       "\t19 & 0 & 3 & 1 & 31.0 & 1 & 0 & 18.0 & 0 \\\\\n",
       "\t20 & 1 & 3 & 1 & 29.6421 & 0 & 0 & 7.225 & 1 \\\\\n",
       "\t21 & 0 & 2 & 0 & 35.0 & 0 & 0 & 26.0 & 0 \\\\\n",
       "\t22 & 1 & 2 & 0 & 34.0 & 0 & 0 & 13.0 & 0 \\\\\n",
       "\t23 & 1 & 3 & 1 & 15.0 & 0 & 0 & 8.0292 & 2 \\\\\n",
       "\t24 & 1 & 1 & 0 & 28.0 & 0 & 0 & 35.5 & 0 \\\\\n",
       "\t25 & 0 & 3 & 1 & 8.0 & 3 & 1 & 21.075 & 0 \\\\\n",
       "\t26 & 1 & 3 & 1 & 38.0 & 1 & 5 & 31.3875 & 0 \\\\\n",
       "\t27 & 0 & 3 & 0 & 29.6421 & 0 & 0 & 7.225 & 1 \\\\\n",
       "\t28 & 0 & 1 & 0 & 19.0 & 3 & 2 & 263.0 & 0 \\\\\n",
       "\t29 & 1 & 3 & 1 & 29.6421 & 0 & 0 & 7.8792 & 2 \\\\\n",
       "\t30 & 0 & 3 & 0 & 29.6421 & 0 & 0 & 7.8958 & 0 \\\\\n",
       "\t$\\dots$ & $\\dots$ & $\\dots$ & $\\dots$ & $\\dots$ & $\\dots$ & $\\dots$ & $\\dots$ & $\\dots$ \\\\\n",
       "\\end{tabular}\n"
      ],
      "text/plain": [
       "\u001b[1m889×8 DataFrame\u001b[0m\n",
       "\u001b[1m Row \u001b[0m│\u001b[1m Survived \u001b[0m\u001b[1m Pclass \u001b[0m\u001b[1m Sex   \u001b[0m\u001b[1m Age      \u001b[0m\u001b[1m SibSp \u001b[0m\u001b[1m Parch \u001b[0m\u001b[1m Fare    \u001b[0m\u001b[1m Embarked \u001b[0m\n",
       "\u001b[1m     \u001b[0m│\u001b[90m Int64    \u001b[0m\u001b[90m Int64  \u001b[0m\u001b[90m Int64 \u001b[0m\u001b[90m Float64? \u001b[0m\u001b[90m Int64 \u001b[0m\u001b[90m Int64 \u001b[0m\u001b[90m Float64 \u001b[0m\u001b[90m Int64    \u001b[0m\n",
       "─────┼────────────────────────────────────────────────────────────────────\n",
       "   1 │        0       3      0   22.0         1      0   7.25           0\n",
       "   2 │        1       1      1   38.0         1      0  71.2833         1\n",
       "   3 │        1       3      1   26.0         0      0   7.925          0\n",
       "   4 │        1       1      1   35.0         1      0  53.1            0\n",
       "   5 │        0       3      0   35.0         0      0   8.05           0\n",
       "   6 │        0       3      0   29.6421      0      0   8.4583         2\n",
       "   7 │        0       1      0   54.0         0      0  51.8625         0\n",
       "   8 │        0       3      0    2.0         3      1  21.075          0\n",
       "   9 │        1       3      1   27.0         0      2  11.1333         0\n",
       "  10 │        1       2      1   14.0         1      0  30.0708         1\n",
       "  11 │        1       3      1    4.0         1      1  16.7            0\n",
       "  ⋮  │    ⋮        ⋮       ⋮       ⋮        ⋮      ⋮       ⋮        ⋮\n",
       " 880 │        0       3      0   33.0         0      0   7.8958         0\n",
       " 881 │        0       3      1   22.0         0      0  10.5167         0\n",
       " 882 │        0       2      0   28.0         0      0  10.5            0\n",
       " 883 │        0       3      0   25.0         0      0   7.05           0\n",
       " 884 │        0       3      1   39.0         0      5  29.125          2\n",
       " 885 │        0       2      0   27.0         0      0  13.0            0\n",
       " 886 │        1       1      1   19.0         0      0  30.0            0\n",
       " 887 │        0       3      1   29.6421      1      2  23.45           0\n",
       " 888 │        1       1      0   26.0         0      0  30.0            1\n",
       " 889 │        0       3      0   32.0         0      0   7.75           2\n",
       "\u001b[36m                                                          868 rows omitted\u001b[0m"
      ]
     },
     "execution_count": 31,
     "metadata": {},
     "output_type": "execute_result"
    }
   ],
   "source": [
    "train_data"
   ]
  },
  {
   "cell_type": "code",
   "execution_count": 32,
   "id": "40765b98",
   "metadata": {},
   "outputs": [
    {
     "data": {
      "text/html": [
       "<div class=\"data-frame\"><p>889 rows × 8 columns</p><table class=\"data-frame\"><thead><tr><th></th><th>Survived</th><th>Pclass</th><th>Sex</th><th>Age</th><th>SibSp</th><th>Parch</th><th>Fare</th><th>Embarked</th></tr><tr><th></th><th title=\"Int64\">Int64</th><th title=\"Int64\">Int64</th><th title=\"Int64\">Int64</th><th title=\"Float64\">Float64</th><th title=\"Int64\">Int64</th><th title=\"Int64\">Int64</th><th title=\"Float64\">Float64</th><th title=\"Int64\">Int64</th></tr></thead><tbody><tr><th>1</th><td>0</td><td>3</td><td>0</td><td>22.0</td><td>1</td><td>0</td><td>7.25</td><td>0</td></tr><tr><th>2</th><td>1</td><td>1</td><td>1</td><td>38.0</td><td>1</td><td>0</td><td>71.2833</td><td>1</td></tr><tr><th>3</th><td>1</td><td>3</td><td>1</td><td>26.0</td><td>0</td><td>0</td><td>7.925</td><td>0</td></tr><tr><th>4</th><td>1</td><td>1</td><td>1</td><td>35.0</td><td>1</td><td>0</td><td>53.1</td><td>0</td></tr><tr><th>5</th><td>0</td><td>3</td><td>0</td><td>35.0</td><td>0</td><td>0</td><td>8.05</td><td>0</td></tr><tr><th>6</th><td>0</td><td>3</td><td>0</td><td>29.6421</td><td>0</td><td>0</td><td>8.4583</td><td>2</td></tr><tr><th>7</th><td>0</td><td>1</td><td>0</td><td>54.0</td><td>0</td><td>0</td><td>51.8625</td><td>0</td></tr><tr><th>8</th><td>0</td><td>3</td><td>0</td><td>2.0</td><td>3</td><td>1</td><td>21.075</td><td>0</td></tr><tr><th>9</th><td>1</td><td>3</td><td>1</td><td>27.0</td><td>0</td><td>2</td><td>11.1333</td><td>0</td></tr><tr><th>10</th><td>1</td><td>2</td><td>1</td><td>14.0</td><td>1</td><td>0</td><td>30.0708</td><td>1</td></tr><tr><th>11</th><td>1</td><td>3</td><td>1</td><td>4.0</td><td>1</td><td>1</td><td>16.7</td><td>0</td></tr><tr><th>12</th><td>1</td><td>1</td><td>1</td><td>58.0</td><td>0</td><td>0</td><td>26.55</td><td>0</td></tr><tr><th>13</th><td>0</td><td>3</td><td>0</td><td>20.0</td><td>0</td><td>0</td><td>8.05</td><td>0</td></tr><tr><th>14</th><td>0</td><td>3</td><td>0</td><td>39.0</td><td>1</td><td>5</td><td>31.275</td><td>0</td></tr><tr><th>15</th><td>0</td><td>3</td><td>1</td><td>14.0</td><td>0</td><td>0</td><td>7.8542</td><td>0</td></tr><tr><th>16</th><td>1</td><td>2</td><td>1</td><td>55.0</td><td>0</td><td>0</td><td>16.0</td><td>0</td></tr><tr><th>17</th><td>0</td><td>3</td><td>0</td><td>2.0</td><td>4</td><td>1</td><td>29.125</td><td>2</td></tr><tr><th>18</th><td>1</td><td>2</td><td>0</td><td>29.6421</td><td>0</td><td>0</td><td>13.0</td><td>0</td></tr><tr><th>19</th><td>0</td><td>3</td><td>1</td><td>31.0</td><td>1</td><td>0</td><td>18.0</td><td>0</td></tr><tr><th>20</th><td>1</td><td>3</td><td>1</td><td>29.6421</td><td>0</td><td>0</td><td>7.225</td><td>1</td></tr><tr><th>21</th><td>0</td><td>2</td><td>0</td><td>35.0</td><td>0</td><td>0</td><td>26.0</td><td>0</td></tr><tr><th>22</th><td>1</td><td>2</td><td>0</td><td>34.0</td><td>0</td><td>0</td><td>13.0</td><td>0</td></tr><tr><th>23</th><td>1</td><td>3</td><td>1</td><td>15.0</td><td>0</td><td>0</td><td>8.0292</td><td>2</td></tr><tr><th>24</th><td>1</td><td>1</td><td>0</td><td>28.0</td><td>0</td><td>0</td><td>35.5</td><td>0</td></tr><tr><th>25</th><td>0</td><td>3</td><td>1</td><td>8.0</td><td>3</td><td>1</td><td>21.075</td><td>0</td></tr><tr><th>26</th><td>1</td><td>3</td><td>1</td><td>38.0</td><td>1</td><td>5</td><td>31.3875</td><td>0</td></tr><tr><th>27</th><td>0</td><td>3</td><td>0</td><td>29.6421</td><td>0</td><td>0</td><td>7.225</td><td>1</td></tr><tr><th>28</th><td>0</td><td>1</td><td>0</td><td>19.0</td><td>3</td><td>2</td><td>263.0</td><td>0</td></tr><tr><th>29</th><td>1</td><td>3</td><td>1</td><td>29.6421</td><td>0</td><td>0</td><td>7.8792</td><td>2</td></tr><tr><th>30</th><td>0</td><td>3</td><td>0</td><td>29.6421</td><td>0</td><td>0</td><td>7.8958</td><td>0</td></tr><tr><th>&vellip;</th><td>&vellip;</td><td>&vellip;</td><td>&vellip;</td><td>&vellip;</td><td>&vellip;</td><td>&vellip;</td><td>&vellip;</td><td>&vellip;</td></tr></tbody></table></div>"
      ],
      "text/latex": [
       "\\begin{tabular}{r|cccccccc}\n",
       "\t& Survived & Pclass & Sex & Age & SibSp & Parch & Fare & Embarked\\\\\n",
       "\t\\hline\n",
       "\t& Int64 & Int64 & Int64 & Float64 & Int64 & Int64 & Float64 & Int64\\\\\n",
       "\t\\hline\n",
       "\t1 & 0 & 3 & 0 & 22.0 & 1 & 0 & 7.25 & 0 \\\\\n",
       "\t2 & 1 & 1 & 1 & 38.0 & 1 & 0 & 71.2833 & 1 \\\\\n",
       "\t3 & 1 & 3 & 1 & 26.0 & 0 & 0 & 7.925 & 0 \\\\\n",
       "\t4 & 1 & 1 & 1 & 35.0 & 1 & 0 & 53.1 & 0 \\\\\n",
       "\t5 & 0 & 3 & 0 & 35.0 & 0 & 0 & 8.05 & 0 \\\\\n",
       "\t6 & 0 & 3 & 0 & 29.6421 & 0 & 0 & 8.4583 & 2 \\\\\n",
       "\t7 & 0 & 1 & 0 & 54.0 & 0 & 0 & 51.8625 & 0 \\\\\n",
       "\t8 & 0 & 3 & 0 & 2.0 & 3 & 1 & 21.075 & 0 \\\\\n",
       "\t9 & 1 & 3 & 1 & 27.0 & 0 & 2 & 11.1333 & 0 \\\\\n",
       "\t10 & 1 & 2 & 1 & 14.0 & 1 & 0 & 30.0708 & 1 \\\\\n",
       "\t11 & 1 & 3 & 1 & 4.0 & 1 & 1 & 16.7 & 0 \\\\\n",
       "\t12 & 1 & 1 & 1 & 58.0 & 0 & 0 & 26.55 & 0 \\\\\n",
       "\t13 & 0 & 3 & 0 & 20.0 & 0 & 0 & 8.05 & 0 \\\\\n",
       "\t14 & 0 & 3 & 0 & 39.0 & 1 & 5 & 31.275 & 0 \\\\\n",
       "\t15 & 0 & 3 & 1 & 14.0 & 0 & 0 & 7.8542 & 0 \\\\\n",
       "\t16 & 1 & 2 & 1 & 55.0 & 0 & 0 & 16.0 & 0 \\\\\n",
       "\t17 & 0 & 3 & 0 & 2.0 & 4 & 1 & 29.125 & 2 \\\\\n",
       "\t18 & 1 & 2 & 0 & 29.6421 & 0 & 0 & 13.0 & 0 \\\\\n",
       "\t19 & 0 & 3 & 1 & 31.0 & 1 & 0 & 18.0 & 0 \\\\\n",
       "\t20 & 1 & 3 & 1 & 29.6421 & 0 & 0 & 7.225 & 1 \\\\\n",
       "\t21 & 0 & 2 & 0 & 35.0 & 0 & 0 & 26.0 & 0 \\\\\n",
       "\t22 & 1 & 2 & 0 & 34.0 & 0 & 0 & 13.0 & 0 \\\\\n",
       "\t23 & 1 & 3 & 1 & 15.0 & 0 & 0 & 8.0292 & 2 \\\\\n",
       "\t24 & 1 & 1 & 0 & 28.0 & 0 & 0 & 35.5 & 0 \\\\\n",
       "\t25 & 0 & 3 & 1 & 8.0 & 3 & 1 & 21.075 & 0 \\\\\n",
       "\t26 & 1 & 3 & 1 & 38.0 & 1 & 5 & 31.3875 & 0 \\\\\n",
       "\t27 & 0 & 3 & 0 & 29.6421 & 0 & 0 & 7.225 & 1 \\\\\n",
       "\t28 & 0 & 1 & 0 & 19.0 & 3 & 2 & 263.0 & 0 \\\\\n",
       "\t29 & 1 & 3 & 1 & 29.6421 & 0 & 0 & 7.8792 & 2 \\\\\n",
       "\t30 & 0 & 3 & 0 & 29.6421 & 0 & 0 & 7.8958 & 0 \\\\\n",
       "\t$\\dots$ & $\\dots$ & $\\dots$ & $\\dots$ & $\\dots$ & $\\dots$ & $\\dots$ & $\\dots$ & $\\dots$ \\\\\n",
       "\\end{tabular}\n"
      ],
      "text/plain": [
       "\u001b[1m889×8 DataFrame\u001b[0m\n",
       "\u001b[1m Row \u001b[0m│\u001b[1m Survived \u001b[0m\u001b[1m Pclass \u001b[0m\u001b[1m Sex   \u001b[0m\u001b[1m Age     \u001b[0m\u001b[1m SibSp \u001b[0m\u001b[1m Parch \u001b[0m\u001b[1m Fare    \u001b[0m\u001b[1m Embarked \u001b[0m\n",
       "\u001b[1m     \u001b[0m│\u001b[90m Int64    \u001b[0m\u001b[90m Int64  \u001b[0m\u001b[90m Int64 \u001b[0m\u001b[90m Float64 \u001b[0m\u001b[90m Int64 \u001b[0m\u001b[90m Int64 \u001b[0m\u001b[90m Float64 \u001b[0m\u001b[90m Int64    \u001b[0m\n",
       "─────┼───────────────────────────────────────────────────────────────────\n",
       "   1 │        0       3      0  22.0         1      0   7.25           0\n",
       "   2 │        1       1      1  38.0         1      0  71.2833         1\n",
       "   3 │        1       3      1  26.0         0      0   7.925          0\n",
       "   4 │        1       1      1  35.0         1      0  53.1            0\n",
       "   5 │        0       3      0  35.0         0      0   8.05           0\n",
       "   6 │        0       3      0  29.6421      0      0   8.4583         2\n",
       "   7 │        0       1      0  54.0         0      0  51.8625         0\n",
       "   8 │        0       3      0   2.0         3      1  21.075          0\n",
       "   9 │        1       3      1  27.0         0      2  11.1333         0\n",
       "  10 │        1       2      1  14.0         1      0  30.0708         1\n",
       "  11 │        1       3      1   4.0         1      1  16.7            0\n",
       "  ⋮  │    ⋮        ⋮       ⋮       ⋮       ⋮      ⋮       ⋮        ⋮\n",
       " 880 │        0       3      0  33.0         0      0   7.8958         0\n",
       " 881 │        0       3      1  22.0         0      0  10.5167         0\n",
       " 882 │        0       2      0  28.0         0      0  10.5            0\n",
       " 883 │        0       3      0  25.0         0      0   7.05           0\n",
       " 884 │        0       3      1  39.0         0      5  29.125          2\n",
       " 885 │        0       2      0  27.0         0      0  13.0            0\n",
       " 886 │        1       1      1  19.0         0      0  30.0            0\n",
       " 887 │        0       3      1  29.6421      1      2  23.45           0\n",
       " 888 │        1       1      0  26.0         0      0  30.0            1\n",
       " 889 │        0       3      0  32.0         0      0   7.75           2\n",
       "\u001b[36m                                                         868 rows omitted\u001b[0m"
      ]
     },
     "execution_count": 32,
     "metadata": {},
     "output_type": "execute_result"
    }
   ],
   "source": [
    "train_data = dropmissing(train_data, :\"Age\")"
   ]
  },
  {
   "cell_type": "code",
   "execution_count": 33,
   "id": "b9ecfa84",
   "metadata": {},
   "outputs": [],
   "source": [
    "# train_data = select(train_data, Not(:\"Fare\"))"
   ]
  },
  {
   "cell_type": "code",
   "execution_count": 34,
   "id": "a8bc1b27",
   "metadata": {},
   "outputs": [],
   "source": [
    "# train_data = select(train_data, Not(:\"Age\"))"
   ]
  },
  {
   "cell_type": "code",
   "execution_count": 35,
   "id": "d79b2aab",
   "metadata": {},
   "outputs": [
    {
     "data": {
      "text/html": [
       "<div class=\"data-frame\"><p>889 rows × 7 columns</p><table class=\"data-frame\"><thead><tr><th></th><th>Pclass</th><th>Sex</th><th>Age</th><th>SibSp</th><th>Parch</th><th>Fare</th><th>Embarked</th></tr><tr><th></th><th title=\"Int64\">Int64</th><th title=\"Int64\">Int64</th><th title=\"Float64\">Float64</th><th title=\"Int64\">Int64</th><th title=\"Int64\">Int64</th><th title=\"Float64\">Float64</th><th title=\"Int64\">Int64</th></tr></thead><tbody><tr><th>1</th><td>3</td><td>0</td><td>22.0</td><td>1</td><td>0</td><td>7.25</td><td>0</td></tr><tr><th>2</th><td>1</td><td>1</td><td>38.0</td><td>1</td><td>0</td><td>71.2833</td><td>1</td></tr><tr><th>3</th><td>3</td><td>1</td><td>26.0</td><td>0</td><td>0</td><td>7.925</td><td>0</td></tr><tr><th>4</th><td>1</td><td>1</td><td>35.0</td><td>1</td><td>0</td><td>53.1</td><td>0</td></tr><tr><th>5</th><td>3</td><td>0</td><td>35.0</td><td>0</td><td>0</td><td>8.05</td><td>0</td></tr><tr><th>6</th><td>3</td><td>0</td><td>29.6421</td><td>0</td><td>0</td><td>8.4583</td><td>2</td></tr><tr><th>7</th><td>1</td><td>0</td><td>54.0</td><td>0</td><td>0</td><td>51.8625</td><td>0</td></tr><tr><th>8</th><td>3</td><td>0</td><td>2.0</td><td>3</td><td>1</td><td>21.075</td><td>0</td></tr><tr><th>9</th><td>3</td><td>1</td><td>27.0</td><td>0</td><td>2</td><td>11.1333</td><td>0</td></tr><tr><th>10</th><td>2</td><td>1</td><td>14.0</td><td>1</td><td>0</td><td>30.0708</td><td>1</td></tr><tr><th>11</th><td>3</td><td>1</td><td>4.0</td><td>1</td><td>1</td><td>16.7</td><td>0</td></tr><tr><th>12</th><td>1</td><td>1</td><td>58.0</td><td>0</td><td>0</td><td>26.55</td><td>0</td></tr><tr><th>13</th><td>3</td><td>0</td><td>20.0</td><td>0</td><td>0</td><td>8.05</td><td>0</td></tr><tr><th>14</th><td>3</td><td>0</td><td>39.0</td><td>1</td><td>5</td><td>31.275</td><td>0</td></tr><tr><th>15</th><td>3</td><td>1</td><td>14.0</td><td>0</td><td>0</td><td>7.8542</td><td>0</td></tr><tr><th>16</th><td>2</td><td>1</td><td>55.0</td><td>0</td><td>0</td><td>16.0</td><td>0</td></tr><tr><th>17</th><td>3</td><td>0</td><td>2.0</td><td>4</td><td>1</td><td>29.125</td><td>2</td></tr><tr><th>18</th><td>2</td><td>0</td><td>29.6421</td><td>0</td><td>0</td><td>13.0</td><td>0</td></tr><tr><th>19</th><td>3</td><td>1</td><td>31.0</td><td>1</td><td>0</td><td>18.0</td><td>0</td></tr><tr><th>20</th><td>3</td><td>1</td><td>29.6421</td><td>0</td><td>0</td><td>7.225</td><td>1</td></tr><tr><th>21</th><td>2</td><td>0</td><td>35.0</td><td>0</td><td>0</td><td>26.0</td><td>0</td></tr><tr><th>22</th><td>2</td><td>0</td><td>34.0</td><td>0</td><td>0</td><td>13.0</td><td>0</td></tr><tr><th>23</th><td>3</td><td>1</td><td>15.0</td><td>0</td><td>0</td><td>8.0292</td><td>2</td></tr><tr><th>24</th><td>1</td><td>0</td><td>28.0</td><td>0</td><td>0</td><td>35.5</td><td>0</td></tr><tr><th>25</th><td>3</td><td>1</td><td>8.0</td><td>3</td><td>1</td><td>21.075</td><td>0</td></tr><tr><th>26</th><td>3</td><td>1</td><td>38.0</td><td>1</td><td>5</td><td>31.3875</td><td>0</td></tr><tr><th>27</th><td>3</td><td>0</td><td>29.6421</td><td>0</td><td>0</td><td>7.225</td><td>1</td></tr><tr><th>28</th><td>1</td><td>0</td><td>19.0</td><td>3</td><td>2</td><td>263.0</td><td>0</td></tr><tr><th>29</th><td>3</td><td>1</td><td>29.6421</td><td>0</td><td>0</td><td>7.8792</td><td>2</td></tr><tr><th>30</th><td>3</td><td>0</td><td>29.6421</td><td>0</td><td>0</td><td>7.8958</td><td>0</td></tr><tr><th>&vellip;</th><td>&vellip;</td><td>&vellip;</td><td>&vellip;</td><td>&vellip;</td><td>&vellip;</td><td>&vellip;</td><td>&vellip;</td></tr></tbody></table></div>"
      ],
      "text/latex": [
       "\\begin{tabular}{r|ccccccc}\n",
       "\t& Pclass & Sex & Age & SibSp & Parch & Fare & Embarked\\\\\n",
       "\t\\hline\n",
       "\t& Int64 & Int64 & Float64 & Int64 & Int64 & Float64 & Int64\\\\\n",
       "\t\\hline\n",
       "\t1 & 3 & 0 & 22.0 & 1 & 0 & 7.25 & 0 \\\\\n",
       "\t2 & 1 & 1 & 38.0 & 1 & 0 & 71.2833 & 1 \\\\\n",
       "\t3 & 3 & 1 & 26.0 & 0 & 0 & 7.925 & 0 \\\\\n",
       "\t4 & 1 & 1 & 35.0 & 1 & 0 & 53.1 & 0 \\\\\n",
       "\t5 & 3 & 0 & 35.0 & 0 & 0 & 8.05 & 0 \\\\\n",
       "\t6 & 3 & 0 & 29.6421 & 0 & 0 & 8.4583 & 2 \\\\\n",
       "\t7 & 1 & 0 & 54.0 & 0 & 0 & 51.8625 & 0 \\\\\n",
       "\t8 & 3 & 0 & 2.0 & 3 & 1 & 21.075 & 0 \\\\\n",
       "\t9 & 3 & 1 & 27.0 & 0 & 2 & 11.1333 & 0 \\\\\n",
       "\t10 & 2 & 1 & 14.0 & 1 & 0 & 30.0708 & 1 \\\\\n",
       "\t11 & 3 & 1 & 4.0 & 1 & 1 & 16.7 & 0 \\\\\n",
       "\t12 & 1 & 1 & 58.0 & 0 & 0 & 26.55 & 0 \\\\\n",
       "\t13 & 3 & 0 & 20.0 & 0 & 0 & 8.05 & 0 \\\\\n",
       "\t14 & 3 & 0 & 39.0 & 1 & 5 & 31.275 & 0 \\\\\n",
       "\t15 & 3 & 1 & 14.0 & 0 & 0 & 7.8542 & 0 \\\\\n",
       "\t16 & 2 & 1 & 55.0 & 0 & 0 & 16.0 & 0 \\\\\n",
       "\t17 & 3 & 0 & 2.0 & 4 & 1 & 29.125 & 2 \\\\\n",
       "\t18 & 2 & 0 & 29.6421 & 0 & 0 & 13.0 & 0 \\\\\n",
       "\t19 & 3 & 1 & 31.0 & 1 & 0 & 18.0 & 0 \\\\\n",
       "\t20 & 3 & 1 & 29.6421 & 0 & 0 & 7.225 & 1 \\\\\n",
       "\t21 & 2 & 0 & 35.0 & 0 & 0 & 26.0 & 0 \\\\\n",
       "\t22 & 2 & 0 & 34.0 & 0 & 0 & 13.0 & 0 \\\\\n",
       "\t23 & 3 & 1 & 15.0 & 0 & 0 & 8.0292 & 2 \\\\\n",
       "\t24 & 1 & 0 & 28.0 & 0 & 0 & 35.5 & 0 \\\\\n",
       "\t25 & 3 & 1 & 8.0 & 3 & 1 & 21.075 & 0 \\\\\n",
       "\t26 & 3 & 1 & 38.0 & 1 & 5 & 31.3875 & 0 \\\\\n",
       "\t27 & 3 & 0 & 29.6421 & 0 & 0 & 7.225 & 1 \\\\\n",
       "\t28 & 1 & 0 & 19.0 & 3 & 2 & 263.0 & 0 \\\\\n",
       "\t29 & 3 & 1 & 29.6421 & 0 & 0 & 7.8792 & 2 \\\\\n",
       "\t30 & 3 & 0 & 29.6421 & 0 & 0 & 7.8958 & 0 \\\\\n",
       "\t$\\dots$ & $\\dots$ & $\\dots$ & $\\dots$ & $\\dots$ & $\\dots$ & $\\dots$ & $\\dots$ \\\\\n",
       "\\end{tabular}\n"
      ],
      "text/plain": [
       "\u001b[1m889×7 DataFrame\u001b[0m\n",
       "\u001b[1m Row \u001b[0m│\u001b[1m Pclass \u001b[0m\u001b[1m Sex   \u001b[0m\u001b[1m Age     \u001b[0m\u001b[1m SibSp \u001b[0m\u001b[1m Parch \u001b[0m\u001b[1m Fare    \u001b[0m\u001b[1m Embarked \u001b[0m\n",
       "\u001b[1m     \u001b[0m│\u001b[90m Int64  \u001b[0m\u001b[90m Int64 \u001b[0m\u001b[90m Float64 \u001b[0m\u001b[90m Int64 \u001b[0m\u001b[90m Int64 \u001b[0m\u001b[90m Float64 \u001b[0m\u001b[90m Int64    \u001b[0m\n",
       "─────┼─────────────────────────────────────────────────────────\n",
       "   1 │      3      0  22.0         1      0   7.25           0\n",
       "   2 │      1      1  38.0         1      0  71.2833         1\n",
       "   3 │      3      1  26.0         0      0   7.925          0\n",
       "   4 │      1      1  35.0         1      0  53.1            0\n",
       "   5 │      3      0  35.0         0      0   8.05           0\n",
       "   6 │      3      0  29.6421      0      0   8.4583         2\n",
       "   7 │      1      0  54.0         0      0  51.8625         0\n",
       "   8 │      3      0   2.0         3      1  21.075          0\n",
       "   9 │      3      1  27.0         0      2  11.1333         0\n",
       "  10 │      2      1  14.0         1      0  30.0708         1\n",
       "  11 │      3      1   4.0         1      1  16.7            0\n",
       "  ⋮  │   ⋮       ⋮       ⋮       ⋮      ⋮       ⋮        ⋮\n",
       " 880 │      3      0  33.0         0      0   7.8958         0\n",
       " 881 │      3      1  22.0         0      0  10.5167         0\n",
       " 882 │      2      0  28.0         0      0  10.5            0\n",
       " 883 │      3      0  25.0         0      0   7.05           0\n",
       " 884 │      3      1  39.0         0      5  29.125          2\n",
       " 885 │      2      0  27.0         0      0  13.0            0\n",
       " 886 │      1      1  19.0         0      0  30.0            0\n",
       " 887 │      3      1  29.6421      1      2  23.45           0\n",
       " 888 │      1      0  26.0         0      0  30.0            1\n",
       " 889 │      3      0  32.0         0      0   7.75           2\n",
       "\u001b[36m                                               868 rows omitted\u001b[0m"
      ]
     },
     "execution_count": 35,
     "metadata": {},
     "output_type": "execute_result"
    }
   ],
   "source": [
    "targets = select(train_data, Not(:\"Survived\"))"
   ]
  },
  {
   "cell_type": "code",
   "execution_count": 36,
   "id": "2c4bf605",
   "metadata": {},
   "outputs": [
    {
     "data": {
      "text/html": [
       "<div class=\"data-frame\"><p>889 rows × 1 columns</p><table class=\"data-frame\"><thead><tr><th></th><th>Survived</th></tr><tr><th></th><th title=\"Int64\">Int64</th></tr></thead><tbody><tr><th>1</th><td>0</td></tr><tr><th>2</th><td>1</td></tr><tr><th>3</th><td>1</td></tr><tr><th>4</th><td>1</td></tr><tr><th>5</th><td>0</td></tr><tr><th>6</th><td>0</td></tr><tr><th>7</th><td>0</td></tr><tr><th>8</th><td>0</td></tr><tr><th>9</th><td>1</td></tr><tr><th>10</th><td>1</td></tr><tr><th>11</th><td>1</td></tr><tr><th>12</th><td>1</td></tr><tr><th>13</th><td>0</td></tr><tr><th>14</th><td>0</td></tr><tr><th>15</th><td>0</td></tr><tr><th>16</th><td>1</td></tr><tr><th>17</th><td>0</td></tr><tr><th>18</th><td>1</td></tr><tr><th>19</th><td>0</td></tr><tr><th>20</th><td>1</td></tr><tr><th>21</th><td>0</td></tr><tr><th>22</th><td>1</td></tr><tr><th>23</th><td>1</td></tr><tr><th>24</th><td>1</td></tr><tr><th>25</th><td>0</td></tr><tr><th>26</th><td>1</td></tr><tr><th>27</th><td>0</td></tr><tr><th>28</th><td>0</td></tr><tr><th>29</th><td>1</td></tr><tr><th>30</th><td>0</td></tr><tr><th>&vellip;</th><td>&vellip;</td></tr></tbody></table></div>"
      ],
      "text/latex": [
       "\\begin{tabular}{r|c}\n",
       "\t& Survived\\\\\n",
       "\t\\hline\n",
       "\t& Int64\\\\\n",
       "\t\\hline\n",
       "\t1 & 0 \\\\\n",
       "\t2 & 1 \\\\\n",
       "\t3 & 1 \\\\\n",
       "\t4 & 1 \\\\\n",
       "\t5 & 0 \\\\\n",
       "\t6 & 0 \\\\\n",
       "\t7 & 0 \\\\\n",
       "\t8 & 0 \\\\\n",
       "\t9 & 1 \\\\\n",
       "\t10 & 1 \\\\\n",
       "\t11 & 1 \\\\\n",
       "\t12 & 1 \\\\\n",
       "\t13 & 0 \\\\\n",
       "\t14 & 0 \\\\\n",
       "\t15 & 0 \\\\\n",
       "\t16 & 1 \\\\\n",
       "\t17 & 0 \\\\\n",
       "\t18 & 1 \\\\\n",
       "\t19 & 0 \\\\\n",
       "\t20 & 1 \\\\\n",
       "\t21 & 0 \\\\\n",
       "\t22 & 1 \\\\\n",
       "\t23 & 1 \\\\\n",
       "\t24 & 1 \\\\\n",
       "\t25 & 0 \\\\\n",
       "\t26 & 1 \\\\\n",
       "\t27 & 0 \\\\\n",
       "\t28 & 0 \\\\\n",
       "\t29 & 1 \\\\\n",
       "\t30 & 0 \\\\\n",
       "\t$\\dots$ & $\\dots$ \\\\\n",
       "\\end{tabular}\n"
      ],
      "text/plain": [
       "\u001b[1m889×1 DataFrame\u001b[0m\n",
       "\u001b[1m Row \u001b[0m│\u001b[1m Survived \u001b[0m\n",
       "\u001b[1m     \u001b[0m│\u001b[90m Int64    \u001b[0m\n",
       "─────┼──────────\n",
       "   1 │        0\n",
       "   2 │        1\n",
       "   3 │        1\n",
       "   4 │        1\n",
       "   5 │        0\n",
       "   6 │        0\n",
       "   7 │        0\n",
       "   8 │        0\n",
       "   9 │        1\n",
       "  10 │        1\n",
       "  11 │        1\n",
       "  ⋮  │    ⋮\n",
       " 880 │        0\n",
       " 881 │        0\n",
       " 882 │        0\n",
       " 883 │        0\n",
       " 884 │        0\n",
       " 885 │        0\n",
       " 886 │        1\n",
       " 887 │        0\n",
       " 888 │        1\n",
       " 889 │        0\n",
       "\u001b[36m868 rows omitted\u001b[0m"
      ]
     },
     "execution_count": 36,
     "metadata": {},
     "output_type": "execute_result"
    }
   ],
   "source": [
    "labels = select(train_data, (:\"Survived\"))"
   ]
  },
  {
   "cell_type": "code",
   "execution_count": 37,
   "id": "76bfc57d",
   "metadata": {},
   "outputs": [
    {
     "data": {
      "text/plain": [
       "889×7 Matrix{Float64}:\n",
       " 3.0  0.0  22.0     1.0  0.0   7.25    0.0\n",
       " 1.0  1.0  38.0     1.0  0.0  71.2833  1.0\n",
       " 3.0  1.0  26.0     0.0  0.0   7.925   0.0\n",
       " 1.0  1.0  35.0     1.0  0.0  53.1     0.0\n",
       " 3.0  0.0  35.0     0.0  0.0   8.05    0.0\n",
       " 3.0  0.0  29.6421  0.0  0.0   8.4583  2.0\n",
       " 1.0  0.0  54.0     0.0  0.0  51.8625  0.0\n",
       " 3.0  0.0   2.0     3.0  1.0  21.075   0.0\n",
       " 3.0  1.0  27.0     0.0  2.0  11.1333  0.0\n",
       " 2.0  1.0  14.0     1.0  0.0  30.0708  1.0\n",
       " 3.0  1.0   4.0     1.0  1.0  16.7     0.0\n",
       " 1.0  1.0  58.0     0.0  0.0  26.55    0.0\n",
       " 3.0  0.0  20.0     0.0  0.0   8.05    0.0\n",
       " ⋮                             ⋮       \n",
       " 1.0  1.0  56.0     0.0  1.0  83.1583  1.0\n",
       " 2.0  1.0  25.0     0.0  1.0  26.0     0.0\n",
       " 3.0  0.0  33.0     0.0  0.0   7.8958  0.0\n",
       " 3.0  1.0  22.0     0.0  0.0  10.5167  0.0\n",
       " 2.0  0.0  28.0     0.0  0.0  10.5     0.0\n",
       " 3.0  0.0  25.0     0.0  0.0   7.05    0.0\n",
       " 3.0  1.0  39.0     0.0  5.0  29.125   2.0\n",
       " 2.0  0.0  27.0     0.0  0.0  13.0     0.0\n",
       " 1.0  1.0  19.0     0.0  0.0  30.0     0.0\n",
       " 3.0  1.0  29.6421  1.0  2.0  23.45    0.0\n",
       " 1.0  0.0  26.0     0.0  0.0  30.0     1.0\n",
       " 3.0  0.0  32.0     0.0  0.0   7.75    2.0"
      ]
     },
     "execution_count": 37,
     "metadata": {},
     "output_type": "execute_result"
    }
   ],
   "source": [
    "targets=Matrix(targets)"
   ]
  },
  {
   "cell_type": "code",
   "execution_count": 38,
   "id": "e78c4bea",
   "metadata": {},
   "outputs": [
    {
     "data": {
      "text/plain": [
       "889×1 Matrix{Int64}:\n",
       " 0\n",
       " 1\n",
       " 1\n",
       " 1\n",
       " 0\n",
       " 0\n",
       " 0\n",
       " 0\n",
       " 1\n",
       " 1\n",
       " 1\n",
       " 1\n",
       " 0\n",
       " ⋮\n",
       " 1\n",
       " 1\n",
       " 0\n",
       " 0\n",
       " 0\n",
       " 0\n",
       " 0\n",
       " 0\n",
       " 1\n",
       " 0\n",
       " 1\n",
       " 0"
      ]
     },
     "execution_count": 38,
     "metadata": {},
     "output_type": "execute_result"
    }
   ],
   "source": [
    "labels = Matrix(labels)"
   ]
  },
  {
   "cell_type": "code",
   "execution_count": 39,
   "id": "51c93c9c",
   "metadata": {},
   "outputs": [
    {
     "data": {
      "text/plain": [
       "7×889 Matrix{Float64}:\n",
       " 3.0  3.0  3.0  2.0  3.0  1.0  3.0  3.0  …  1.0  1.0  0.0  0.0  0.0  0.0  0.0\n",
       " 1.0  3.0  2.0  3.0  3.0  3.0  2.0  3.0     1.0  0.0  0.0  0.0  0.0  0.0  2.0\n",
       " 3.0  2.0  3.0  1.0  1.0  3.0  3.0  3.0     0.0  0.0  1.0  0.0  0.0  1.0  0.0\n",
       " 1.0  3.0  2.0  3.0  1.0  3.0  3.0  1.0     0.0  1.0  1.0  1.0  0.0  0.0  0.0\n",
       " 3.0  1.0  3.0  3.0  3.0  3.0  3.0  2.0     0.0  0.0  0.0  0.0  1.0  0.0  0.0\n",
       " 3.0  3.0  3.0  3.0  2.0  3.0  3.0  1.0  …  1.0  0.0  0.0  0.0  1.0  0.0  1.0\n",
       " 1.0  3.0  2.0  1.0  1.0  2.0  3.0  1.0     0.0  0.0  0.0  0.0  0.0  0.0  2.0"
      ]
     },
     "execution_count": 39,
     "metadata": {},
     "output_type": "execute_result"
    }
   ],
   "source": [
    "targets = reshape(targets,(7,889))"
   ]
  },
  {
   "cell_type": "code",
   "execution_count": 40,
   "id": "aed6abb0",
   "metadata": {},
   "outputs": [
    {
     "data": {
      "text/plain": [
       "1×889 Matrix{Int64}:\n",
       " 0  1  1  1  0  0  0  0  1  1  1  1  0  …  1  1  0  0  0  0  0  0  1  0  1  0"
      ]
     },
     "execution_count": 40,
     "metadata": {},
     "output_type": "execute_result"
    }
   ],
   "source": [
    "labels = reshape(labels,(1,889))"
   ]
  },
  {
   "cell_type": "code",
   "execution_count": 41,
   "id": "cdfdf82b",
   "metadata": {},
   "outputs": [],
   "source": [
    "using Flux: logitcrossentropy, normalise, onecold, onehotbatch"
   ]
  },
  {
   "cell_type": "code",
   "execution_count": 42,
   "id": "c2c2378c",
   "metadata": {},
   "outputs": [
    {
     "data": {
      "text/plain": [
       "0.5"
      ]
     },
     "execution_count": 42,
     "metadata": {},
     "output_type": "execute_result"
    }
   ],
   "source": [
    "NNlib.sigmoid(0)"
   ]
  },
  {
   "cell_type": "code",
   "execution_count": 43,
   "id": "dc79593c",
   "metadata": {},
   "outputs": [
    {
     "data": {
      "text/plain": [
       "7×889 Matrix{Float64}:\n",
       " -0.316163  -0.316163  -0.316163  …  -0.474612  -0.474612  -0.474612\n",
       " -0.316976  -0.246518  -0.281747     -0.352205  -0.352205  -0.281747\n",
       " -0.28087   -0.328917  -0.28087      -0.425012  -0.376965  -0.425012\n",
       " -0.371573  -0.282601  -0.327087     -0.416059  -0.416059  -0.416059\n",
       " -0.31651   -0.41017   -0.31651      -0.41017   -0.456999  -0.456999\n",
       " -0.249688  -0.249688  -0.249688  …  -0.328388  -0.367737  -0.328388\n",
       " -0.309982  -0.236037  -0.273009     -0.346954  -0.346954  -0.273009"
      ]
     },
     "execution_count": 43,
     "metadata": {},
     "output_type": "execute_result"
    }
   ],
   "source": [
    "normed_targets = normalise(targets, dims=2)"
   ]
  },
  {
   "cell_type": "code",
   "execution_count": 44,
   "id": "9e17a0be",
   "metadata": {},
   "outputs": [
    {
     "data": {
      "text/plain": [
       "593-element Vector{Int64}:\n",
       "   1\n",
       "   4\n",
       "   7\n",
       "  10\n",
       "  13\n",
       "  16\n",
       "  19\n",
       "  22\n",
       "  25\n",
       "  28\n",
       "  31\n",
       "  34\n",
       "  37\n",
       "   ⋮\n",
       " 854\n",
       " 857\n",
       " 860\n",
       " 863\n",
       " 866\n",
       " 869\n",
       " 872\n",
       " 875\n",
       " 878\n",
       " 881\n",
       " 884\n",
       " 887"
      ]
     },
     "execution_count": 44,
     "metadata": {},
     "output_type": "execute_result"
    }
   ],
   "source": [
    "train_indices = [1:3:889 ; 2:3:889]"
   ]
  },
  {
   "cell_type": "code",
   "execution_count": 45,
   "id": "cb6839a5",
   "metadata": {},
   "outputs": [
    {
     "data": {
      "text/plain": [
       "1×593 Matrix{Int64}:\n",
       " 0  1  0  1  0  1  0  1  0  0  0  0  1  …  1  1  0  0  0  0  0  0  1  0  0  0"
      ]
     },
     "execution_count": 45,
     "metadata": {},
     "output_type": "execute_result"
    }
   ],
   "source": [
    "X_train = normed_targets[:, train_indices]\n",
    "y_train = labels[:, train_indices]"
   ]
  },
  {
   "cell_type": "code",
   "execution_count": 46,
   "id": "86e60b2e",
   "metadata": {},
   "outputs": [
    {
     "data": {
      "text/plain": [
       "7×593 Matrix{Float64}:\n",
       " -0.316163  -0.368979  -0.316163  …  -0.421795  -0.421795  -0.474612\n",
       " -0.316976  -0.246518  -0.281747     -0.281747  -0.352205  -0.352205\n",
       " -0.28087   -0.376965  -0.28087      -0.376965  -0.425012  -0.425012\n",
       " -0.371573  -0.282601  -0.282601     -0.416059  -0.371573  -0.416059\n",
       " -0.31651   -0.31651   -0.31651      -0.41017   -0.456999  -0.41017\n",
       " -0.249688  -0.249688  -0.249688  …  -0.367737  -0.367737  -0.328388\n",
       " -0.309982  -0.309982  -0.236037     -0.346954  -0.346954  -0.346954"
      ]
     },
     "execution_count": 46,
     "metadata": {},
     "output_type": "execute_result"
    }
   ],
   "source": [
    "X_train"
   ]
  },
  {
   "cell_type": "code",
   "execution_count": 47,
   "id": "c2e0b29f",
   "metadata": {},
   "outputs": [
    {
     "data": {
      "text/plain": [
       "1×296 Matrix{Int64}:\n",
       " 1  0  1  1  0  1  0  1  0  0  1  0  0  …  1  0  1  1  0  1  1  0  1  0  0  1"
      ]
     },
     "execution_count": 47,
     "metadata": {},
     "output_type": "execute_result"
    }
   ],
   "source": [
    "X_test = normed_targets[:, 3:3:889]\n",
    "y_test = labels[:, 3:3:889]"
   ]
  },
  {
   "cell_type": "code",
   "execution_count": 48,
   "id": "5355cfc6",
   "metadata": {},
   "outputs": [
    {
     "data": {
      "text/plain": [
       "([-0.31616311369646316 -0.3689792729155915 … -0.42179543213471987 -0.4746115913538482; -0.3169760476303043 -0.24651779274503116 … -0.35220517507294086 -0.35220517507294086; … ; -0.24968839294246226 -0.24968839294246226 … -0.36773707519174037 -0.328387514441981; -0.3099817968052739 -0.3099817968052739 … -0.3469542048337939 -0.3469542048337939], [0 1 … 0 0])"
      ]
     },
     "execution_count": 48,
     "metadata": {},
     "output_type": "execute_result"
    }
   ],
   "source": [
    "full_train_data = (X_train, y_train)"
   ]
  },
  {
   "cell_type": "code",
   "execution_count": 49,
   "id": "6ec729de",
   "metadata": {},
   "outputs": [
    {
     "data": {
      "text/plain": [
       "([-0.31616311369646316 -0.42179543213471987 … -0.4746115913538482 -0.4746115913538482; -0.2817469201876677 -0.24651779274503116 … -0.35220517507294086 -0.35220517507294086; … ; -0.24968839294246226 -0.24968839294246226 … -0.36773707519174037 -0.36773707519174037; -0.27300938877675385 -0.27300938877675385 … -0.3469542048337939 -0.3469542048337939], [1 0 … 0 1])"
      ]
     },
     "execution_count": 49,
     "metadata": {},
     "output_type": "execute_result"
    }
   ],
   "source": [
    "testing_data = (X_test,y_test)"
   ]
  },
  {
   "cell_type": "code",
   "execution_count": 50,
   "id": "b098de66",
   "metadata": {},
   "outputs": [
    {
     "data": {
      "text/plain": [
       "7×296 Matrix{Float64}:\n",
       " -0.316163  -0.421795  -0.368979  …  -0.421795  -0.474612  -0.474612\n",
       " -0.281747  -0.246518  -0.246518     -0.352205  -0.352205  -0.352205\n",
       " -0.28087   -0.28087   -0.328917     -0.425012  -0.376965  -0.376965\n",
       " -0.327087  -0.282601  -0.282601     -0.416059  -0.371573  -0.416059\n",
       " -0.31651   -0.31651   -0.31651      -0.41017   -0.456999  -0.456999\n",
       " -0.249688  -0.249688  -0.328388  …  -0.367737  -0.367737  -0.367737\n",
       " -0.273009  -0.273009  -0.236037     -0.346954  -0.346954  -0.346954"
      ]
     },
     "execution_count": 50,
     "metadata": {},
     "output_type": "execute_result"
    }
   ],
   "source": [
    "X_test"
   ]
  },
  {
   "cell_type": "code",
   "execution_count": 51,
   "id": "187fa242",
   "metadata": {},
   "outputs": [
    {
     "data": {
      "text/plain": [
       "([-0.31616311369646316 -0.42179543213471987 … -0.4746115913538482 -0.4746115913538482; -0.2817469201876677 -0.24651779274503116 … -0.35220517507294086 -0.35220517507294086; … ; -0.24968839294246226 -0.24968839294246226 … -0.36773707519174037 -0.36773707519174037; -0.27300938877675385 -0.27300938877675385 … -0.3469542048337939 -0.3469542048337939], [1 0 … 0 1])"
      ]
     },
     "execution_count": 51,
     "metadata": {},
     "output_type": "execute_result"
    }
   ],
   "source": [
    "testing_data"
   ]
  },
  {
   "cell_type": "code",
   "execution_count": 52,
   "id": "12fe6e07",
   "metadata": {},
   "outputs": [
    {
     "data": {
      "text/plain": [
       "pred (generic function with 1 method)"
      ]
     },
     "execution_count": 52,
     "metadata": {},
     "output_type": "execute_result"
    }
   ],
   "source": [
    "pred(x, model) = Int64(round(model(x)[1]))"
   ]
  },
  {
   "cell_type": "code",
   "execution_count": 208,
   "id": "56e205ba",
   "metadata": {},
   "outputs": [
    {
     "data": {
      "text/plain": [
       "Chain(\n",
       "  Dense(7, 64, relu),                   \u001b[90m# 512 parameters\u001b[39m\n",
       "  Dense(64, 128, relu),                 \u001b[90m# 8_320 parameters\u001b[39m\n",
       "  Dense(128, 32, relu),                 \u001b[90m# 4_128 parameters\u001b[39m\n",
       "  Dense(32, 16, relu),                  \u001b[90m# 528 parameters\u001b[39m\n",
       "  Dense(16, 7, relu),                   \u001b[90m# 119 parameters\u001b[39m\n",
       "  Dense(7, 1, σ),                       \u001b[90m# 8 parameters\u001b[39m\n",
       ")\u001b[90m                   # Total: 12 arrays, \u001b[39m13_615 parameters, 53.934 KiB."
      ]
     },
     "execution_count": 208,
     "metadata": {},
     "output_type": "execute_result"
    }
   ],
   "source": [
    "model =  Chain(Dense(7, 64, NNlib.relu),Dense(64,128,NNlib.relu),Dense(128,32,NNlib.relu),Dense(32,16,NNlib.relu),Dense(16,7,NNlib.relu),Dense(7,1,NNlib.sigmoid))"
   ]
  },
  {
   "cell_type": "code",
   "execution_count": 209,
   "id": "77db6730",
   "metadata": {},
   "outputs": [
    {
     "data": {
      "text/plain": [
       "Chain(\n",
       "  Dense(7, 64, relu),                   \u001b[90m# 512 parameters\u001b[39m\n",
       "  Dense(64, 128, relu),                 \u001b[90m# 8_320 parameters\u001b[39m\n",
       "  Dense(128, 32, relu),                 \u001b[90m# 4_128 parameters\u001b[39m\n",
       "  Dense(32, 16, relu),                  \u001b[90m# 528 parameters\u001b[39m\n",
       "  Dense(16, 7, relu),                   \u001b[90m# 119 parameters\u001b[39m\n",
       "  Dense(7, 1, σ),                       \u001b[90m# 8 parameters\u001b[39m\n",
       ")\u001b[90m                   # Total: 12 arrays, \u001b[39m13_615 parameters, 53.934 KiB."
      ]
     },
     "execution_count": 209,
     "metadata": {},
     "output_type": "execute_result"
    }
   ],
   "source": [
    "model"
   ]
  },
  {
   "cell_type": "code",
   "execution_count": 210,
   "id": "e3b80401",
   "metadata": {},
   "outputs": [
    {
     "data": {
      "text/plain": [
       "loss (generic function with 1 method)"
      ]
     },
     "execution_count": 210,
     "metadata": {},
     "output_type": "execute_result"
    }
   ],
   "source": [
    "loss(x, y) = Flux.Losses.binarycrossentropy(model(x), y)"
   ]
  },
  {
   "cell_type": "code",
   "execution_count": 211,
   "id": "b27ee68b",
   "metadata": {},
   "outputs": [
    {
     "data": {
      "text/plain": [
       "ADAM(0.001, (0.9, 0.999), 1.0e-8, IdDict{Any, Any}())"
      ]
     },
     "execution_count": 211,
     "metadata": {},
     "output_type": "execute_result"
    }
   ],
   "source": [
    "using Flux: train!\n",
    "\n",
    "opt = Flux.Optimise.ADAM()"
   ]
  },
  {
   "cell_type": "code",
   "execution_count": 212,
   "id": "87723125",
   "metadata": {},
   "outputs": [
    {
     "data": {
      "text/plain": [
       "Base.Iterators.Take{Base.Iterators.Repeated{Tuple{Matrix{Float64}, Matrix{Int64}}}}(Base.Iterators.Repeated{Tuple{Matrix{Float64}, Matrix{Int64}}}(([-0.31616311369646316 -0.3689792729155915 … -0.42179543213471987 -0.4746115913538482; -0.3169760476303043 -0.24651779274503116 … -0.35220517507294086 -0.35220517507294086; … ; -0.24968839294246226 -0.24968839294246226 … -0.36773707519174037 -0.328387514441981; -0.3099817968052739 -0.3099817968052739 … -0.3469542048337939 -0.3469542048337939], [0 1 … 0 0])), 1000)"
      ]
     },
     "execution_count": 212,
     "metadata": {},
     "output_type": "execute_result"
    }
   ],
   "source": [
    "training_data = Iterators.repeated((X_train, y_train), 1000)"
   ]
  },
  {
   "cell_type": "code",
   "execution_count": 213,
   "id": "631b0765",
   "metadata": {},
   "outputs": [
    {
     "data": {
      "text/plain": [
       "Params([Float32[-0.15897551 0.16507879 … -0.112260826 -0.18296087; -0.058236126 -0.08665043 … -0.14200883 0.043537974; … ; -0.27844587 0.123959094 … 0.2159374 -0.10595812; 0.23032495 0.0269144 … 0.12128666 0.06997636], Float32[0.0, 0.0, 0.0, 0.0, 0.0, 0.0, 0.0, 0.0, 0.0, 0.0  …  0.0, 0.0, 0.0, 0.0, 0.0, 0.0, 0.0, 0.0, 0.0, 0.0], Float32[-0.055694826 -0.17242071 … -0.0774759 -0.050532028; -0.15944983 -0.13685535 … 0.12724657 0.053338565; … ; -0.098181374 -0.07967048 … 0.08329718 -0.048757877; 0.07306805 0.16039287 … 0.045166165 0.1505713], Float32[0.0, 0.0, 0.0, 0.0, 0.0, 0.0, 0.0, 0.0, 0.0, 0.0  …  0.0, 0.0, 0.0, 0.0, 0.0, 0.0, 0.0, 0.0, 0.0, 0.0], Float32[0.111400366 0.17849362 … -0.16399541 -0.045983244; -0.09689419 -0.15032004 … 0.10860812 -0.14321926; … ; 0.11045287 0.15903488 … -0.1782612 0.018339796; -0.10755538 0.14500776 … -0.116420425 -0.057475332], Float32[0.0, 0.0, 0.0, 0.0, 0.0, 0.0, 0.0, 0.0, 0.0, 0.0  …  0.0, 0.0, 0.0, 0.0, 0.0, 0.0, 0.0, 0.0, 0.0, 0.0], Float32[-0.09960556 0.25550953 … -0.21815841 -0.27001095; -0.24254735 0.055845965 … -0.31194028 0.23877811; … ; -0.2143136 0.01342335 … -0.03057071 -0.31920028; 0.3054677 -0.33557016 … 0.023662884 0.2910449], Float32[0.0, 0.0, 0.0, 0.0, 0.0, 0.0, 0.0, 0.0, 0.0, 0.0, 0.0, 0.0, 0.0, 0.0, 0.0, 0.0], Float32[-0.033437163 0.26089835 … 0.50983286 0.27901357; 0.4187923 -0.13370664 … 0.5030817 -0.42523283; … ; -0.2578298 -0.36596215 … 0.19150539 0.4783552; -0.34011638 0.31367862 … 0.2524404 -0.22697951], Float32[0.0, 0.0, 0.0, 0.0, 0.0, 0.0, 0.0], Float32[0.29123774 -0.17936988 … 0.14014885 -0.39925852], Float32[0.0]])"
      ]
     },
     "execution_count": 213,
     "metadata": {},
     "output_type": "execute_result"
    }
   ],
   "source": [
    "parameters = Flux.params(model)"
   ]
  },
  {
   "cell_type": "code",
   "execution_count": 214,
   "id": "0a858d33",
   "metadata": {},
   "outputs": [],
   "source": [
    "train!(loss, parameters, training_data, opt)"
   ]
  },
  {
   "cell_type": "code",
   "execution_count": 215,
   "id": "e2c5f9cc",
   "metadata": {},
   "outputs": [
    {
     "data": {
      "text/plain": [
       "accuracy (generic function with 1 method)"
      ]
     },
     "execution_count": 215,
     "metadata": {},
     "output_type": "execute_result"
    }
   ],
   "source": [
    "accuracy(x, y, model) = mean(round(model(x)) .== (y))"
   ]
  },
  {
   "cell_type": "code",
   "execution_count": 216,
   "id": "71d2e641",
   "metadata": {},
   "outputs": [
    {
     "data": {
      "text/plain": [
       "train (generic function with 1 method)"
      ]
     },
     "execution_count": 216,
     "metadata": {},
     "output_type": "execute_result"
    }
   ],
   "source": [
    "function train(model, train)\n",
    "    # Testing model performance on test data \n",
    "    X_train, y_train = train\n",
    "    total_pred = 0\n",
    "    correct_pred = 0\n",
    "    for i in 1:593\n",
    "        prediction = (pred(X_train[:,i],model))\n",
    "        true_value = y_train[:,i][1]\n",
    "        print(prediction)\n",
    "        print(true_value)\n",
    "        if prediction == true_value\n",
    "            correct_pred +=1\n",
    "        end\n",
    "        total_pred += 1\n",
    "    end\n",
    "    return correct_pred,total_pred\n",
    "\n",
    "    # To avoid confusion, here is the definition of a Confusion Matrix: https://en.wikipedia.org/wiki/Confusion_matrix\n",
    "#     println(\"\\nConfusion Matrix:\\n\")\n",
    "#     display(confusion_matrix(X_test, y_test, model))\n",
    "end"
   ]
  },
  {
   "cell_type": "code",
   "execution_count": 217,
   "id": "abfe6d76",
   "metadata": {},
   "outputs": [
    {
     "name": "stdout",
     "output_type": "stream",
     "text": [
      "0011101100110001000000001101000000000000000000000000011111010000010010111110000010001100110100010000010000000001001100000001010101000000000101000001000100000000010001000011110000111111000011111100001111001111001111111111001111110011000000110000111100110000000011110001000000010000000001110000000001010000110100000111000000010000001100000000000000110101000001000000010101010100000011001111000000000000000101000000001100000000000011001100000000110011110011000000110011110011111100000011111100000011000011110000010000000000010000000001000100000000000111000100000101000010000100100101001100000001000100001100001111111111000000110000111101000101000100000000000000110000110000000000011100000000000100000000010000000000000000000001000000000100010100010001010010000001100011000000111111000000001100001100110011000000110011000011110011000011110000110000001111000100000000001100000100000000010011010101010001010000000011001100000000000000000101110001000000010100010000000001000000000111000001001100001111000001001000000000001111001111110011000000000000001100000011110000110011110011000000000000111100000000110000000000000001000001000001000100010000001110010100000000000100010100000000000001000000"
     ]
    },
    {
     "data": {
      "text/plain": [
       "(488, 593)"
      ]
     },
     "execution_count": 217,
     "metadata": {},
     "output_type": "execute_result"
    }
   ],
   "source": [
    "correct_pred,total_pred = train(model,full_train_data)"
   ]
  },
  {
   "cell_type": "code",
   "execution_count": 218,
   "id": "03de3f0b",
   "metadata": {},
   "outputs": [
    {
     "name": "stdout",
     "output_type": "stream",
     "text": [
      "0.8229342327150084"
     ]
    }
   ],
   "source": [
    "print(correct_pred/total_pred)"
   ]
  },
  {
   "cell_type": "code",
   "execution_count": 219,
   "id": "636b367e",
   "metadata": {},
   "outputs": [
    {
     "data": {
      "text/plain": [
       "test (generic function with 1 method)"
      ]
     },
     "execution_count": 219,
     "metadata": {},
     "output_type": "execute_result"
    }
   ],
   "source": [
    "function test(model, test)\n",
    "    # Testing model performance on test data \n",
    "    X_test, y_test = test\n",
    "    total_pred = 0\n",
    "    correct_pred = 0\n",
    "    for i in 1:296\n",
    "        prediction = (pred(X_test[:,i],model))\n",
    "        true_value = y_test[:,i][1]\n",
    "        print(prediction)\n",
    "        print(true_value)\n",
    "        if prediction == true_value\n",
    "            correct_pred +=1\n",
    "        end\n",
    "        total_pred += 1\n",
    "    end\n",
    "    return correct_pred,total_pred\n",
    "\n",
    "    # To avoid confusion, here is the definition of a Confusion Matrix: https://en.wikipedia.org/wiki/Confusion_matrix\n",
    "#     println(\"\\nConfusion Matrix:\\n\")\n",
    "#     display(confusion_matrix(X_test, y_test, model))\n",
    "end"
   ]
  },
  {
   "cell_type": "code",
   "execution_count": 220,
   "id": "20983ed1",
   "metadata": {},
   "outputs": [
    {
     "name": "stdout",
     "output_type": "stream",
     "text": [
      "0110010100010001000001000000110100010100000100001001110110000000000000000010000001000000000001000000000100000100000010000101000101010001010000010000000000000100000000001101011011101010111010111100001101110110111100001101101010100101101000101011010011101100011101001100000000110100000101010100000101000100000000000000000001010100001000010101010110000000000001010101010000010000000101010100010001000001100001010101110011010000100001001100000100000100000011100011000000000011100001010001000000101001010110001101010000010101000100100000010100100000000000010001010000000001010001010001010001000001"
     ]
    },
    {
     "data": {
      "text/plain": [
       "(167, 296)"
      ]
     },
     "execution_count": 220,
     "metadata": {},
     "output_type": "execute_result"
    }
   ],
   "source": [
    "correct_pred,total_pred = test(model,testing_data)"
   ]
  },
  {
   "cell_type": "code",
   "execution_count": 221,
   "id": "b3fed339",
   "metadata": {},
   "outputs": [
    {
     "name": "stdout",
     "output_type": "stream",
     "text": [
      "0.5641891891891891"
     ]
    }
   ],
   "source": [
    "print(correct_pred/total_pred)"
   ]
  },
  {
   "cell_type": "code",
   "execution_count": 222,
   "id": "9a383762",
   "metadata": {},
   "outputs": [
    {
     "data": {
      "text/plain": [
       "296"
      ]
     },
     "execution_count": 222,
     "metadata": {},
     "output_type": "execute_result"
    }
   ],
   "source": [
    "total_pred"
   ]
  },
  {
   "cell_type": "code",
   "execution_count": 223,
   "id": "3bcb850b",
   "metadata": {},
   "outputs": [
    {
     "data": {
      "text/plain": [
       "167"
      ]
     },
     "execution_count": 223,
     "metadata": {},
     "output_type": "execute_result"
    }
   ],
   "source": [
    "correct_pred"
   ]
  },
  {
   "cell_type": "code",
   "execution_count": null,
   "id": "9a32585f",
   "metadata": {},
   "outputs": [],
   "source": []
  }
 ],
 "metadata": {
  "kernelspec": {
   "display_name": "Julia 1.7.1",
   "language": "julia",
   "name": "julia-1.7"
  },
  "language_info": {
   "file_extension": ".jl",
   "mimetype": "application/julia",
   "name": "julia",
   "version": "1.7.1"
  }
 },
 "nbformat": 4,
 "nbformat_minor": 5
}
