{
 "cells": [
  {
   "cell_type": "code",
   "execution_count": 1,
   "id": "8783742a",
   "metadata": {},
   "outputs": [],
   "source": [
    "using Pkg"
   ]
  },
  {
   "cell_type": "code",
   "execution_count": 2,
   "id": "442ea7dc",
   "metadata": {},
   "outputs": [
    {
     "name": "stderr",
     "output_type": "stream",
     "text": [
      "\u001b[32m\u001b[1m    Updating\u001b[22m\u001b[39m registry at `C:\\Users\\amans\\.julia\\registries\\General.toml`\n",
      "\u001b[32m\u001b[1m   Resolving\u001b[22m\u001b[39m package versions...\n",
      "\u001b[32m\u001b[1m  No Changes\u001b[22m\u001b[39m to `C:\\Users\\amans\\.julia\\environments\\v1.7\\Project.toml`\n",
      "\u001b[32m\u001b[1m  No Changes\u001b[22m\u001b[39m to `C:\\Users\\amans\\.julia\\environments\\v1.7\\Manifest.toml`\n"
     ]
    }
   ],
   "source": [
    "Pkg.add(\"Flux\")"
   ]
  },
  {
   "cell_type": "code",
   "execution_count": 3,
   "id": "e3a80e8b",
   "metadata": {},
   "outputs": [],
   "source": [
    "using Flux"
   ]
  },
  {
   "cell_type": "code",
   "execution_count": 4,
   "id": "10f1863a",
   "metadata": {},
   "outputs": [
    {
     "data": {
      "text/plain": [
       "1×2×3 Array{Float32, 3}:\n",
       "[:, :, 1] =\n",
       " 1.0  1.0\n",
       "\n",
       "[:, :, 2] =\n",
       " 1.0  1.0\n",
       "\n",
       "[:, :, 3] =\n",
       " 1.0  1.0"
      ]
     },
     "execution_count": 4,
     "metadata": {},
     "output_type": "execute_result"
    }
   ],
   "source": [
    "x = ones(Float32,1,2,3)"
   ]
  },
  {
   "cell_type": "code",
   "execution_count": 5,
   "id": "5ab6298c",
   "metadata": {},
   "outputs": [
    {
     "data": {
      "text/plain": [
       "Array{Float32, 3}"
      ]
     },
     "execution_count": 5,
     "metadata": {},
     "output_type": "execute_result"
    }
   ],
   "source": [
    "typeof(x)"
   ]
  },
  {
   "cell_type": "code",
   "execution_count": 6,
   "id": "01bc789f",
   "metadata": {},
   "outputs": [
    {
     "data": {
      "text/plain": [
       "f (generic function with 1 method)"
      ]
     },
     "execution_count": 6,
     "metadata": {},
     "output_type": "execute_result"
    }
   ],
   "source": [
    "f(x) = 3x^2 + 2x + 1"
   ]
  },
  {
   "cell_type": "code",
   "execution_count": 7,
   "id": "c2bf46e7",
   "metadata": {},
   "outputs": [
    {
     "data": {
      "text/plain": [
       "6"
      ]
     },
     "execution_count": 7,
     "metadata": {},
     "output_type": "execute_result"
    }
   ],
   "source": [
    "f(1)"
   ]
  },
  {
   "cell_type": "code",
   "execution_count": 8,
   "id": "c8e4b682",
   "metadata": {},
   "outputs": [
    {
     "data": {
      "text/plain": [
       "df (generic function with 1 method)"
      ]
     },
     "execution_count": 8,
     "metadata": {},
     "output_type": "execute_result"
    }
   ],
   "source": [
    "df(x) = gradient(f,x)[1]"
   ]
  },
  {
   "cell_type": "code",
   "execution_count": 9,
   "id": "c8fae036",
   "metadata": {},
   "outputs": [
    {
     "data": {
      "text/plain": [
       "8.0"
      ]
     },
     "execution_count": 9,
     "metadata": {},
     "output_type": "execute_result"
    }
   ],
   "source": [
    "df(1)"
   ]
  },
  {
   "cell_type": "code",
   "execution_count": 10,
   "id": "7186127d",
   "metadata": {},
   "outputs": [
    {
     "data": {
      "text/plain": [
       "d2f (generic function with 1 method)"
      ]
     },
     "execution_count": 10,
     "metadata": {},
     "output_type": "execute_result"
    }
   ],
   "source": [
    "d2f(x) = gradient(df,x)[1]"
   ]
  },
  {
   "cell_type": "code",
   "execution_count": 11,
   "id": "12c13996",
   "metadata": {},
   "outputs": [
    {
     "data": {
      "text/plain": [
       "6.0"
      ]
     },
     "execution_count": 11,
     "metadata": {},
     "output_type": "execute_result"
    }
   ],
   "source": [
    "d2f(1)"
   ]
  },
  {
   "cell_type": "code",
   "execution_count": 12,
   "id": "60e5b52e",
   "metadata": {},
   "outputs": [
    {
     "data": {
      "text/plain": [
       "f (generic function with 2 methods)"
      ]
     },
     "execution_count": 12,
     "metadata": {},
     "output_type": "execute_result"
    }
   ],
   "source": [
    "f(x,y) = sum((x.-y).^2)"
   ]
  },
  {
   "cell_type": "code",
   "execution_count": 13,
   "id": "7dab6357",
   "metadata": {},
   "outputs": [
    {
     "data": {
      "text/plain": [
       "([0.0, 2.0], [-0.0, -2.0])"
      ]
     },
     "execution_count": 13,
     "metadata": {},
     "output_type": "execute_result"
    }
   ],
   "source": [
    "gradient(f,[2,1],[2,0])"
   ]
  },
  {
   "cell_type": "raw",
   "id": "b2624b79",
   "metadata": {},
   "source": [
    "These gradients are based on x and y. Flux works by instead taking gradients based on the weights and biases that make up the parameters of a model.\n",
    "\n",
    "Machine learning often can have hundreds of parameters, so Flux lets you work with collections of parameters, via the params functions. You can get the gradient of all parameters used in a program without explicitly passing them in."
   ]
  },
  {
   "cell_type": "code",
   "execution_count": 14,
   "id": "efbe6a2e",
   "metadata": {},
   "outputs": [],
   "source": [
    "x= [2,1];"
   ]
  },
  {
   "cell_type": "code",
   "execution_count": 15,
   "id": "0b551c7b",
   "metadata": {},
   "outputs": [],
   "source": [
    "y = [2,0];"
   ]
  },
  {
   "cell_type": "code",
   "execution_count": 16,
   "id": "13a8db9c",
   "metadata": {},
   "outputs": [
    {
     "data": {
      "text/plain": [
       "Grads(...)"
      ]
     },
     "execution_count": 16,
     "metadata": {},
     "output_type": "execute_result"
    }
   ],
   "source": [
    "gs = gradient(params(x,y)) do\n",
    "    f(x,y)\n",
    "end"
   ]
  },
  {
   "cell_type": "code",
   "execution_count": 17,
   "id": "f736f872",
   "metadata": {},
   "outputs": [
    {
     "data": {
      "text/plain": [
       "2-element Vector{Float64}:\n",
       " 0.0\n",
       " 2.0"
      ]
     },
     "execution_count": 17,
     "metadata": {},
     "output_type": "execute_result"
    }
   ],
   "source": [
    "gs[x]"
   ]
  },
  {
   "cell_type": "code",
   "execution_count": 18,
   "id": "aff96c78",
   "metadata": {},
   "outputs": [
    {
     "data": {
      "text/plain": [
       "2-element Vector{Float64}:\n",
       " -0.0\n",
       " -2.0"
      ]
     },
     "execution_count": 18,
     "metadata": {},
     "output_type": "execute_result"
    }
   ],
   "source": [
    "gs[y]"
   ]
  },
  {
   "cell_type": "raw",
   "id": "02baf6a2",
   "metadata": {},
   "source": [
    "Here, gradient takes a zero-argument function; no arguments are necessary because the params tell it what to differentiate.\n",
    "\n",
    "This will come in really handy when dealing with big, complicated models. For now, though, let's start with something simple."
   ]
  },
  {
   "cell_type": "code",
   "execution_count": 19,
   "id": "1120ac32",
   "metadata": {},
   "outputs": [
    {
     "data": {
      "text/plain": [
       "2×5 Matrix{Float64}:\n",
       " 0.761199  0.518721  0.299738  0.819246  0.795295\n",
       " 0.695557  0.294634  0.136187  0.966324  0.556343"
      ]
     },
     "execution_count": 19,
     "metadata": {},
     "output_type": "execute_result"
    }
   ],
   "source": [
    "W = rand(2,5)"
   ]
  },
  {
   "cell_type": "code",
   "execution_count": 20,
   "id": "1e8a1219",
   "metadata": {},
   "outputs": [
    {
     "data": {
      "text/plain": [
       "2-element Vector{Float64}:\n",
       " 0.14996273490197987\n",
       " 0.6003021631713606"
      ]
     },
     "execution_count": 20,
     "metadata": {},
     "output_type": "execute_result"
    }
   ],
   "source": [
    "b = rand(2)"
   ]
  },
  {
   "cell_type": "code",
   "execution_count": 21,
   "id": "e07ddbbc",
   "metadata": {},
   "outputs": [
    {
     "data": {
      "text/plain": [
       "predict (generic function with 1 method)"
      ]
     },
     "execution_count": 21,
     "metadata": {},
     "output_type": "execute_result"
    }
   ],
   "source": [
    "predict(x) = W*x .+ b"
   ]
  },
  {
   "cell_type": "code",
   "execution_count": 22,
   "id": "236571c1",
   "metadata": {},
   "outputs": [
    {
     "data": {
      "text/plain": [
       "loss (generic function with 1 method)"
      ]
     },
     "execution_count": 22,
     "metadata": {},
     "output_type": "execute_result"
    }
   ],
   "source": [
    "function loss(x,y)\n",
    "    y_cap = predict(x)\n",
    "    sum((y .- y_cap).^2)\n",
    "end"
   ]
  },
  {
   "cell_type": "code",
   "execution_count": 23,
   "id": "67075f67",
   "metadata": {},
   "outputs": [
    {
     "data": {
      "text/plain": [
       "([0.7296468340269642, 0.46668665850674407, 0.1263968430225897, 0.8288758645565867, 0.6767460059294579], [0.45303268852343126, 0.5292262928918061])"
      ]
     },
     "execution_count": 23,
     "metadata": {},
     "output_type": "execute_result"
    }
   ],
   "source": [
    "x,y = rand(5),rand(2)"
   ]
  },
  {
   "cell_type": "code",
   "execution_count": 24,
   "id": "69723946",
   "metadata": {},
   "outputs": [
    {
     "data": {
      "text/plain": [
       "5-element Vector{Float64}:\n",
       " 0.7296468340269642\n",
       " 0.46668665850674407\n",
       " 0.1263968430225897\n",
       " 0.8288758645565867\n",
       " 0.6767460059294579"
      ]
     },
     "execution_count": 24,
     "metadata": {},
     "output_type": "execute_result"
    }
   ],
   "source": [
    "x"
   ]
  },
  {
   "cell_type": "code",
   "execution_count": 25,
   "id": "0825b2e2",
   "metadata": {},
   "outputs": [
    {
     "data": {
      "text/plain": [
       "2-element Vector{Float64}:\n",
       " 0.45303268852343126\n",
       " 0.5292262928918061"
      ]
     },
     "execution_count": 25,
     "metadata": {},
     "output_type": "execute_result"
    }
   ],
   "source": [
    "y"
   ]
  },
  {
   "cell_type": "code",
   "execution_count": 26,
   "id": "8f7fc987",
   "metadata": {},
   "outputs": [
    {
     "data": {
      "text/plain": [
       "6.712027970590133"
      ]
     },
     "execution_count": 26,
     "metadata": {},
     "output_type": "execute_result"
    }
   ],
   "source": [
    "loss(x,y)"
   ]
  },
  {
   "cell_type": "raw",
   "id": "cb742355",
   "metadata": {},
   "source": [
    "To improve the prediction we can take the gradients of the loss with respect to W and b and perform gradient descent."
   ]
  },
  {
   "cell_type": "code",
   "execution_count": 27,
   "id": "bddcca99",
   "metadata": {},
   "outputs": [
    {
     "data": {
      "text/plain": [
       "Grads(...)"
      ]
     },
     "execution_count": 27,
     "metadata": {},
     "output_type": "execute_result"
    }
   ],
   "source": [
    "gs = gradient(() -> loss(x,y), params(W,b))"
   ]
  },
  {
   "cell_type": "raw",
   "id": "db7687d4",
   "metadata": {},
   "source": [
    "Now that we have gradients, we can pull them out and update W to train the model."
   ]
  },
  {
   "cell_type": "code",
   "execution_count": 28,
   "id": "006eba2c",
   "metadata": {},
   "outputs": [
    {
     "data": {
      "text/plain": [
       "2×5 Matrix{Float64}:\n",
       " 2.55314  1.633    0.44228  2.90035  2.36803\n",
       " 2.78837  1.78346  0.48303  3.16758  2.58621"
      ]
     },
     "execution_count": 28,
     "metadata": {},
     "output_type": "execute_result"
    }
   ],
   "source": [
    "W̄ = gs[W]"
   ]
  },
  {
   "cell_type": "code",
   "execution_count": 29,
   "id": "dd99b69b",
   "metadata": {},
   "outputs": [
    {
     "data": {
      "text/plain": [
       "2×5 Matrix{Float64}:\n",
       " 0.505886  0.355421  0.25551    0.529211  0.558492\n",
       " 0.41672   0.116288  0.0878837  0.649566  0.297722"
      ]
     },
     "execution_count": 29,
     "metadata": {},
     "output_type": "execute_result"
    }
   ],
   "source": [
    "W .-= 0.1 .* W̄"
   ]
  },
  {
   "cell_type": "code",
   "execution_count": 30,
   "id": "dcb8353c",
   "metadata": {},
   "outputs": [
    {
     "data": {
      "text/plain": [
       "2.561531290621767"
      ]
     },
     "execution_count": 30,
     "metadata": {},
     "output_type": "execute_result"
    }
   ],
   "source": [
    "loss(x,y)"
   ]
  },
  {
   "cell_type": "raw",
   "id": "32808457",
   "metadata": {},
   "source": [
    "The loss has decreased a little, meaning that our prediction x is closer to the target y. If we have some data we can already try training the model.\n",
    "\n",
    "All deep learning in Flux, however complex, is a simple generalisation of this example. Of course, models can look very different – they might have millions of parameters or complex control flow. Let's see how Flux handles more complex models."
   ]
  },
  {
   "cell_type": "raw",
   "id": "ef3a6bd8",
   "metadata": {},
   "source": [
    "Building Layers\n",
    "It's common to create more complex models than the linear regression above. For example, we might want to have two linear layers with a nonlinearity like sigmoid (σ) in between them. In the above style we could write this as:"
   ]
  },
  {
   "cell_type": "code",
   "execution_count": 31,
   "id": "2a2b7dbf",
   "metadata": {},
   "outputs": [
    {
     "data": {
      "text/plain": [
       "layer2 (generic function with 1 method)"
      ]
     },
     "execution_count": 31,
     "metadata": {},
     "output_type": "execute_result"
    }
   ],
   "source": [
    "W1 = rand(3,5)\n",
    "b1 = rand(3)\n",
    "layer1(x) = W1*x .+ b1\n",
    "\n",
    "W2 = rand(2,3)\n",
    "b2 = rand(2)\n",
    "layer2(x) = W2*x .+ b2"
   ]
  },
  {
   "cell_type": "code",
   "execution_count": 33,
   "id": "dc93e58e",
   "metadata": {},
   "outputs": [
    {
     "data": {
      "text/plain": [
       "model (generic function with 1 method)"
      ]
     },
     "execution_count": 33,
     "metadata": {},
     "output_type": "execute_result"
    }
   ],
   "source": [
    "model(x) = layer2(σ.(layer1(x)))"
   ]
  },
  {
   "cell_type": "code",
   "execution_count": 34,
   "id": "a155ccad",
   "metadata": {},
   "outputs": [
    {
     "data": {
      "text/plain": [
       "2-element Vector{Float64}:\n",
       " 2.708607068601554\n",
       " 2.544804321090009"
      ]
     },
     "execution_count": 34,
     "metadata": {},
     "output_type": "execute_result"
    }
   ],
   "source": [
    "model(rand(5))"
   ]
  },
  {
   "cell_type": "raw",
   "id": "4d6d19ba",
   "metadata": {},
   "source": [
    "This works but is fairly unwieldy, with a lot of repetition – especially as we add more layers. One way to factor this out is to create a function that returns linear layers."
   ]
  },
  {
   "cell_type": "code",
   "execution_count": 35,
   "id": "65435776",
   "metadata": {},
   "outputs": [
    {
     "data": {
      "text/plain": [
       "linear (generic function with 1 method)"
      ]
     },
     "execution_count": 35,
     "metadata": {},
     "output_type": "execute_result"
    }
   ],
   "source": [
    "function linear(in,out)\n",
    "    W = randn(out,in)\n",
    "    b = randn(out)\n",
    "    x -> W*x .+ b\n",
    "end"
   ]
  },
  {
   "cell_type": "code",
   "execution_count": 36,
   "id": "b8f9fda4",
   "metadata": {},
   "outputs": [
    {
     "data": {
      "text/plain": [
       "#5 (generic function with 1 method)"
      ]
     },
     "execution_count": 36,
     "metadata": {},
     "output_type": "execute_result"
    }
   ],
   "source": [
    "linear1 = linear(5,3)\n",
    "linear2 = linear(3,2)"
   ]
  },
  {
   "cell_type": "code",
   "execution_count": 37,
   "id": "ae8b5fcd",
   "metadata": {},
   "outputs": [
    {
     "data": {
      "text/plain": [
       "model (generic function with 1 method)"
      ]
     },
     "execution_count": 37,
     "metadata": {},
     "output_type": "execute_result"
    }
   ],
   "source": [
    "model(x) = linear2(σ.(linear1(x)))"
   ]
  },
  {
   "cell_type": "code",
   "execution_count": 38,
   "id": "f1d4ef0b",
   "metadata": {},
   "outputs": [
    {
     "data": {
      "text/plain": [
       "2-element Vector{Float64}:\n",
       " -1.232166461802826\n",
       "  1.0905079003829419"
      ]
     },
     "execution_count": 38,
     "metadata": {},
     "output_type": "execute_result"
    }
   ],
   "source": [
    "model(rand(5))"
   ]
  },
  {
   "cell_type": "raw",
   "id": "66d5016c",
   "metadata": {},
   "source": [
    "Another (equivalent) way is to create a struct that explicitly represents the affine layer."
   ]
  },
  {
   "cell_type": "code",
   "execution_count": 39,
   "id": "effde312",
   "metadata": {},
   "outputs": [
    {
     "data": {
      "text/plain": [
       "5-element Vector{Float64}:\n",
       " -2.0569200043481457\n",
       "  0.5291964258570815\n",
       "  0.022364722343165444\n",
       " -2.1226540250795836\n",
       " -1.6916634276472302"
      ]
     },
     "execution_count": 39,
     "metadata": {},
     "output_type": "execute_result"
    }
   ],
   "source": [
    "struct Affine\n",
    "  W\n",
    "  b\n",
    "end\n",
    "\n",
    "Affine(in::Integer, out::Integer) =\n",
    "  Affine(randn(out, in), randn(out))\n",
    "\n",
    "# Overload call, so the object can be used as a function\n",
    "(m::Affine)(x) = m.W * x .+ m.b\n",
    "\n",
    "a = Affine(10, 5)\n",
    "\n",
    "a(rand(10)) # => 5-element vector"
   ]
  },
  {
   "cell_type": "raw",
   "id": "f8f44405",
   "metadata": {},
   "source": [
    "Congratulations! You just built the Dense layer that comes with Flux. Flux has many interesting layers available, but they're all things you could have built yourself very easily.\n",
    "\n",
    "(There is one small difference with Dense – for convenience it also takes an activation function, like Dense(10, 5, σ).)"
   ]
  },
  {
   "cell_type": "markdown",
   "id": "8c7ea816",
   "metadata": {},
   "source": [
    "# Stacking It Up\n",
    "        \n",
    "It's pretty common to write models that look something like:"
   ]
  },
  {
   "cell_type": "raw",
   "id": "95a817f9",
   "metadata": {},
   "source": [
    "layer1 = Dense(10, 5, σ)\n",
    "# ...\n",
    "model(x) = layer3(layer2(layer1(x)))\n"
   ]
  },
  {
   "cell_type": "raw",
   "id": "61282f0d",
   "metadata": {},
   "source": [
    "For long chains, it might be a bit more intuitive to have a list of layers, like this:"
   ]
  },
  {
   "cell_type": "code",
   "execution_count": 43,
   "id": "3d01b24f",
   "metadata": {},
   "outputs": [
    {
     "data": {
      "text/plain": [
       "2-element Vector{Float64}:\n",
       " 0.30598508147716963\n",
       " 0.6940149185228304"
      ]
     },
     "execution_count": 43,
     "metadata": {},
     "output_type": "execute_result"
    }
   ],
   "source": [
    "layers = [Dense(10, 5, σ), Dense(5, 2), softmax]\n",
    "\n",
    "model(x) = foldl((x, m) -> m(x), layers, init = x)\n",
    "\n",
    "model(rand(10)) # => 2-element vector"
   ]
  },
  {
   "cell_type": "raw",
   "id": "7db0fbbb",
   "metadata": {},
   "source": [
    "Handily, this is also provided for in Flux:"
   ]
  },
  {
   "cell_type": "code",
   "execution_count": 44,
   "id": "9f1cd550",
   "metadata": {},
   "outputs": [
    {
     "data": {
      "text/plain": [
       "2-element Vector{Float64}:\n",
       " 0.6417426727013729\n",
       " 0.35825732729862725"
      ]
     },
     "execution_count": 44,
     "metadata": {},
     "output_type": "execute_result"
    }
   ],
   "source": [
    "model2 = Chain(\n",
    "  Dense(10, 5, σ),\n",
    "  Dense(5, 2),\n",
    "  softmax)\n",
    "\n",
    "model2(rand(10)) # => 2-element vector"
   ]
  },
  {
   "cell_type": "raw",
   "id": "31b4aee0",
   "metadata": {},
   "source": [
    "This quickly starts to look like a high-level deep learning library; yet you can see how it falls out of simple abstractions, and we lose none of the power of Julia code.\n",
    "\n",
    "A nice property of this approach is that because \"models\" are just functions (possibly with trainable parameters), you can also see this as simple function composition."
   ]
  },
  {
   "cell_type": "code",
   "execution_count": 45,
   "id": "40f53492",
   "metadata": {},
   "outputs": [
    {
     "data": {
      "text/plain": [
       "2-element Vector{Float64}:\n",
       "  0.5298847658491741\n",
       " -0.7395216463803215"
      ]
     },
     "execution_count": 45,
     "metadata": {},
     "output_type": "execute_result"
    }
   ],
   "source": [
    "m = Dense(5, 2) ∘ Dense(10, 5, σ)\n",
    "\n",
    "m(rand(10))"
   ]
  },
  {
   "cell_type": "code",
   "execution_count": 46,
   "id": "66fce56f",
   "metadata": {},
   "outputs": [
    {
     "data": {
      "text/plain": [
       "26"
      ]
     },
     "execution_count": 46,
     "metadata": {},
     "output_type": "execute_result"
    }
   ],
   "source": [
    "m = Chain(x -> x^2, x -> x+1)\n",
    "\n",
    "m(5) # => 26"
   ]
  },
  {
   "cell_type": "code",
   "execution_count": 47,
   "id": "ed012d46",
   "metadata": {},
   "outputs": [],
   "source": [
    "Flux.@functor Affine"
   ]
  },
  {
   "cell_type": "code",
   "execution_count": null,
   "id": "258e6fe3",
   "metadata": {},
   "outputs": [],
   "source": []
  }
 ],
 "metadata": {
  "kernelspec": {
   "display_name": "Julia 1.7.1",
   "language": "julia",
   "name": "julia-1.7"
  },
  "language_info": {
   "file_extension": ".jl",
   "mimetype": "application/julia",
   "name": "julia",
   "version": "1.7.1"
  }
 },
 "nbformat": 4,
 "nbformat_minor": 5
}
