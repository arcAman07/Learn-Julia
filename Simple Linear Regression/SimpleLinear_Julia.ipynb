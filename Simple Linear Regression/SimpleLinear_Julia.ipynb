{
 "cells": [
  {
   "cell_type": "code",
   "execution_count": 1,
   "id": "47ce83e0",
   "metadata": {},
   "outputs": [],
   "source": [
    "using Pkg"
   ]
  },
  {
   "cell_type": "code",
   "execution_count": 2,
   "id": "4792a63f",
   "metadata": {},
   "outputs": [
    {
     "name": "stderr",
     "output_type": "stream",
     "text": [
      "\u001b[32m\u001b[1m    Updating\u001b[22m\u001b[39m registry at `C:\\Users\\amans\\.julia\\registries\\General.toml`\n",
      "\u001b[32m\u001b[1m   Resolving\u001b[22m\u001b[39m package versions...\n",
      "\u001b[32m\u001b[1m  No Changes\u001b[22m\u001b[39m to `C:\\Users\\amans\\.julia\\environments\\v1.7\\Project.toml`\n",
      "\u001b[32m\u001b[1m  No Changes\u001b[22m\u001b[39m to `C:\\Users\\amans\\.julia\\environments\\v1.7\\Manifest.toml`\n"
     ]
    }
   ],
   "source": [
    "Pkg.add(\"Flux\")"
   ]
  },
  {
   "cell_type": "code",
   "execution_count": 3,
   "id": "8c697e71",
   "metadata": {},
   "outputs": [
    {
     "name": "stderr",
     "output_type": "stream",
     "text": [
      "\u001b[32m\u001b[1m   Resolving\u001b[22m\u001b[39m package versions...\n",
      "\u001b[32m\u001b[1m  No Changes\u001b[22m\u001b[39m to `C:\\Users\\amans\\.julia\\environments\\v1.7\\Project.toml`\n",
      "\u001b[32m\u001b[1m  No Changes\u001b[22m\u001b[39m to `C:\\Users\\amans\\.julia\\environments\\v1.7\\Manifest.toml`\n"
     ]
    }
   ],
   "source": [
    "Pkg.add(\"BSON\")"
   ]
  },
  {
   "cell_type": "code",
   "execution_count": 4,
   "id": "72675061",
   "metadata": {},
   "outputs": [
    {
     "name": "stderr",
     "output_type": "stream",
     "text": [
      "\u001b[32m\u001b[1m   Resolving\u001b[22m\u001b[39m package versions...\n",
      "\u001b[32m\u001b[1m  No Changes\u001b[22m\u001b[39m to `C:\\Users\\amans\\.julia\\environments\\v1.7\\Project.toml`\n",
      "\u001b[32m\u001b[1m  No Changes\u001b[22m\u001b[39m to `C:\\Users\\amans\\.julia\\environments\\v1.7\\Manifest.toml`\n"
     ]
    }
   ],
   "source": [
    "Pkg.add(\"Printf\")"
   ]
  },
  {
   "cell_type": "code",
   "execution_count": 5,
   "id": "2de8978c",
   "metadata": {},
   "outputs": [],
   "source": [
    "using Printf"
   ]
  },
  {
   "cell_type": "code",
   "execution_count": 6,
   "id": "168564a0",
   "metadata": {},
   "outputs": [],
   "source": [
    "using Flux"
   ]
  },
  {
   "cell_type": "code",
   "execution_count": 7,
   "id": "bb60eca9",
   "metadata": {},
   "outputs": [
    {
     "data": {
      "text/plain": [
       "8-element Vector{Int64}:\n",
       "  1\n",
       "  3\n",
       "  5\n",
       "  7\n",
       "  9\n",
       " 11\n",
       " 13\n",
       " 15"
      ]
     },
     "execution_count": 7,
     "metadata": {},
     "output_type": "execute_result"
    }
   ],
   "source": [
    "X = [1,2,3,4,5,6,7,8]\n",
    "Y = [1,3,5,7,9,11,13,15]"
   ]
  },
  {
   "cell_type": "code",
   "execution_count": 8,
   "id": "750a7495",
   "metadata": {},
   "outputs": [
    {
     "data": {
      "text/plain": [
       "1-element Vector{Float64}:\n",
       " 0.8702741599518351"
      ]
     },
     "execution_count": 8,
     "metadata": {},
     "output_type": "execute_result"
    }
   ],
   "source": [
    "W = rand(1)"
   ]
  },
  {
   "cell_type": "code",
   "execution_count": 9,
   "id": "57cf1432",
   "metadata": {},
   "outputs": [
    {
     "data": {
      "text/plain": [
       "1-element Vector{Float64}:\n",
       " 0.6112001667845487"
      ]
     },
     "execution_count": 9,
     "metadata": {},
     "output_type": "execute_result"
    }
   ],
   "source": [
    "b = rand(1)"
   ]
  },
  {
   "cell_type": "code",
   "execution_count": 10,
   "id": "51c0add1",
   "metadata": {},
   "outputs": [
    {
     "data": {
      "text/plain": [
       "(8,)"
      ]
     },
     "execution_count": 10,
     "metadata": {},
     "output_type": "execute_result"
    }
   ],
   "source": [
    "size(X)"
   ]
  },
  {
   "cell_type": "code",
   "execution_count": 11,
   "id": "ee76ecc0",
   "metadata": {},
   "outputs": [
    {
     "data": {
      "text/plain": [
       "predict (generic function with 1 method)"
      ]
     },
     "execution_count": 11,
     "metadata": {},
     "output_type": "execute_result"
    }
   ],
   "source": [
    "predict(x) = W*x + b"
   ]
  },
  {
   "cell_type": "code",
   "execution_count": 12,
   "id": "eb951fb9",
   "metadata": {},
   "outputs": [
    {
     "data": {
      "text/plain": [
       "(8,)"
      ]
     },
     "execution_count": 12,
     "metadata": {},
     "output_type": "execute_result"
    }
   ],
   "source": [
    "m = size(X)"
   ]
  },
  {
   "cell_type": "code",
   "execution_count": 13,
   "id": "1dacc4f1",
   "metadata": {},
   "outputs": [
    {
     "data": {
      "text/plain": [
       "loss (generic function with 1 method)"
      ]
     },
     "execution_count": 13,
     "metadata": {},
     "output_type": "execute_result"
    }
   ],
   "source": [
    "function loss(x,y)\n",
    "    ŷ = predict(x)[1]\n",
    "    return sum((y - ŷ).^2)/2m[1]\n",
    "end"
   ]
  },
  {
   "cell_type": "code",
   "execution_count": 14,
   "id": "7982acaa",
   "metadata": {},
   "outputs": [
    {
     "data": {
      "text/plain": [
       "0.01680430461459291"
      ]
     },
     "execution_count": 14,
     "metadata": {},
     "output_type": "execute_result"
    }
   ],
   "source": [
    "loss(1,2)"
   ]
  },
  {
   "cell_type": "code",
   "execution_count": 15,
   "id": "6d39e004",
   "metadata": {},
   "outputs": [
    {
     "name": "stdout",
     "output_type": "stream",
     "text": [
      "Epoch:1, Accuracy:0.000000, Loss:1.990343 \n",
      "Epoch:2, Accuracy:0.000000, Loss:0.334569 \n",
      "Epoch:3, Accuracy:0.000000, Loss:0.332408 \n",
      "Epoch:4, Accuracy:0.000000, Loss:0.319190 \n",
      "Epoch:5, Accuracy:0.000000, Loss:0.306316 \n",
      "Epoch:6, Accuracy:0.000000, Loss:0.293959 \n",
      "Epoch:7, Accuracy:0.000000, Loss:0.282100 \n",
      "Epoch:8, Accuracy:0.000000, Loss:0.270719 \n",
      "Epoch:9, Accuracy:0.000000, Loss:0.259798 \n",
      "Epoch:10, Accuracy:0.000000, Loss:0.249317 \n",
      "Epoch:11, Accuracy:0.000000, Loss:0.239259 \n",
      "Epoch:12, Accuracy:0.000000, Loss:0.229606 \n",
      "Epoch:13, Accuracy:0.000000, Loss:0.220344 \n",
      "Epoch:14, Accuracy:0.000000, Loss:0.211454 \n",
      "Epoch:15, Accuracy:0.000000, Loss:0.202924 \n",
      "Epoch:16, Accuracy:0.000000, Loss:0.194737 \n",
      "Epoch:17, Accuracy:0.000000, Loss:0.186881 \n",
      "Epoch:18, Accuracy:0.000000, Loss:0.179342 \n",
      "Epoch:19, Accuracy:0.000000, Loss:0.172107 \n",
      "Epoch:20, Accuracy:0.000000, Loss:0.165164 \n",
      "Epoch:21, Accuracy:0.000000, Loss:0.158501 \n",
      "Epoch:22, Accuracy:0.000000, Loss:0.152106 \n",
      "Epoch:23, Accuracy:0.000000, Loss:0.145970 \n",
      "Epoch:24, Accuracy:0.000000, Loss:0.140081 \n",
      "Epoch:25, Accuracy:0.000000, Loss:0.134430 \n",
      "Epoch:26, Accuracy:0.000000, Loss:0.129007 \n",
      "Epoch:27, Accuracy:0.000000, Loss:0.123802 \n",
      "Epoch:28, Accuracy:0.000000, Loss:0.118808 \n",
      "Epoch:29, Accuracy:0.000000, Loss:0.114015 \n",
      "Epoch:30, Accuracy:0.000000, Loss:0.109415 \n",
      "Epoch:31, Accuracy:0.000000, Loss:0.105001 \n",
      "Epoch:32, Accuracy:0.000000, Loss:0.100765 \n",
      "Epoch:33, Accuracy:0.000000, Loss:0.096700 \n",
      "Epoch:34, Accuracy:0.000000, Loss:0.092799 \n",
      "Epoch:35, Accuracy:0.000000, Loss:0.089055 \n",
      "Epoch:36, Accuracy:0.000000, Loss:0.085462 \n",
      "Epoch:37, Accuracy:0.000000, Loss:0.082015 \n",
      "Epoch:38, Accuracy:0.000000, Loss:0.078706 \n",
      "Epoch:39, Accuracy:0.000000, Loss:0.075531 \n",
      "Epoch:40, Accuracy:0.000000, Loss:0.072484 \n",
      "Epoch:41, Accuracy:0.000000, Loss:0.069560 \n",
      "Epoch:42, Accuracy:0.000000, Loss:0.066753 \n",
      "Epoch:43, Accuracy:0.000000, Loss:0.064060 \n",
      "Epoch:44, Accuracy:0.000000, Loss:0.061476 \n",
      "Epoch:45, Accuracy:0.000000, Loss:0.058996 \n",
      "Epoch:46, Accuracy:0.000000, Loss:0.056616 \n",
      "Epoch:47, Accuracy:0.000000, Loss:0.054332 \n",
      "Epoch:48, Accuracy:0.000000, Loss:0.052140 \n",
      "Epoch:49, Accuracy:0.000000, Loss:0.050037 \n",
      "Epoch:50, Accuracy:0.000000, Loss:0.048018 \n",
      "Epoch:51, Accuracy:0.000000, Loss:0.046081 \n",
      "Epoch:52, Accuracy:0.000000, Loss:0.044222 \n",
      "Epoch:53, Accuracy:0.000000, Loss:0.042438 \n",
      "Epoch:54, Accuracy:0.000000, Loss:0.040726 \n",
      "Epoch:55, Accuracy:0.000000, Loss:0.039083 \n",
      "Epoch:56, Accuracy:0.000000, Loss:0.037506 \n",
      "Epoch:57, Accuracy:0.000000, Loss:0.035993 \n",
      "Epoch:58, Accuracy:0.000000, Loss:0.034541 \n",
      "Epoch:59, Accuracy:0.000000, Loss:0.033147 \n",
      "Epoch:60, Accuracy:0.000000, Loss:0.031810 \n",
      "Epoch:61, Accuracy:0.000000, Loss:0.030527 \n",
      "Epoch:62, Accuracy:0.000000, Loss:0.029295 \n",
      "Epoch:63, Accuracy:0.000000, Loss:0.028114 \n",
      "Epoch:64, Accuracy:0.000000, Loss:0.026979 \n",
      "Epoch:65, Accuracy:0.000000, Loss:0.025891 \n",
      "Epoch:66, Accuracy:0.000000, Loss:0.024846 \n",
      "Epoch:67, Accuracy:0.000000, Loss:0.023844 \n",
      "Epoch:68, Accuracy:0.000000, Loss:0.022882 \n",
      "Epoch:69, Accuracy:0.000000, Loss:0.021959 \n",
      "Epoch:70, Accuracy:0.000000, Loss:0.021073 \n",
      "Epoch:71, Accuracy:0.000000, Loss:0.020223 \n",
      "Epoch:72, Accuracy:0.000000, Loss:0.019407 \n",
      "Epoch:73, Accuracy:0.000000, Loss:0.018624 \n",
      "Epoch:74, Accuracy:0.000000, Loss:0.017873 \n",
      "Epoch:75, Accuracy:0.000000, Loss:0.017152 \n",
      "Epoch:76, Accuracy:0.000000, Loss:0.016460 \n",
      "Epoch:77, Accuracy:0.000000, Loss:0.015796 \n",
      "Epoch:78, Accuracy:0.000000, Loss:0.015159 \n",
      "Epoch:79, Accuracy:0.000000, Loss:0.014547 \n",
      "Epoch:80, Accuracy:0.000000, Loss:0.013960 \n",
      "Epoch:81, Accuracy:0.000000, Loss:0.013397 \n",
      "Epoch:82, Accuracy:0.000000, Loss:0.012857 \n",
      "Epoch:83, Accuracy:0.000000, Loss:0.012338 \n",
      "Epoch:84, Accuracy:0.000000, Loss:0.011840 \n",
      "Epoch:85, Accuracy:0.000000, Loss:0.011363 \n",
      "Epoch:86, Accuracy:0.000000, Loss:0.010904 \n",
      "Epoch:87, Accuracy:0.000000, Loss:0.010464 \n",
      "Epoch:88, Accuracy:0.000000, Loss:0.010042 \n",
      "Epoch:89, Accuracy:0.000000, Loss:0.009637 \n",
      "Epoch:90, Accuracy:0.000000, Loss:0.009248 \n",
      "Epoch:91, Accuracy:0.000000, Loss:0.008875 \n",
      "Epoch:92, Accuracy:0.000000, Loss:0.008517 \n",
      "Epoch:93, Accuracy:0.000000, Loss:0.008173 \n",
      "Epoch:94, Accuracy:0.000000, Loss:0.007844 \n",
      "Epoch:95, Accuracy:0.000000, Loss:0.007527 \n",
      "Epoch:96, Accuracy:0.000000, Loss:0.007224 \n",
      "Epoch:97, Accuracy:0.000000, Loss:0.006932 \n",
      "Epoch:98, Accuracy:0.000000, Loss:0.006653 \n",
      "Epoch:99, Accuracy:0.000000, Loss:0.006384 \n",
      "Epoch:100, Accuracy:0.000000, Loss:0.006127 \n"
     ]
    }
   ],
   "source": [
    "for epoch in 1:100\n",
    "    tot_loss = 0\n",
    "    iteration_total = 0\n",
    "    correct_pred = 0\n",
    "    for i in 1:8\n",
    "        iteration_total += 1\n",
    "        x = X[i]\n",
    "        y = Y[i]\n",
    "        prediction = predict(x)\n",
    "        if prediction[1] == y\n",
    "            correct_pred += 1\n",
    "        end\n",
    "        pred_loss = loss(x,y)\n",
    "        tot_loss += pred_loss\n",
    "        gs = gradient(() -> loss(x,y), params(W,b))\n",
    "        W̄ = gs[W]\n",
    "        W -= 0.1 .* W̄\n",
    "        bias = gs[b]\n",
    "        b -= 0.1 .*bias\n",
    "    end\n",
    "    accuracy = correct_pred/iteration_total\n",
    "    @printf(\"Epoch:%d, Accuracy:%f, Loss:%f \",epoch,accuracy,tot_loss)\n",
    "    println()\n",
    "end"
   ]
  },
  {
   "cell_type": "code",
   "execution_count": 16,
   "id": "c6cdc0dc",
   "metadata": {},
   "outputs": [
    {
     "data": {
      "text/plain": [
       "1-element Vector{Float64}:\n",
       " 1.9695706891435023"
      ]
     },
     "execution_count": 16,
     "metadata": {},
     "output_type": "execute_result"
    }
   ],
   "source": [
    "W"
   ]
  },
  {
   "cell_type": "code",
   "execution_count": 17,
   "id": "97fbd7fe",
   "metadata": {},
   "outputs": [
    {
     "data": {
      "text/plain": [
       "1-element Vector{Float64}:\n",
       " -0.7680305727808788"
      ]
     },
     "execution_count": 17,
     "metadata": {},
     "output_type": "execute_result"
    }
   ],
   "source": [
    "b"
   ]
  },
  {
   "cell_type": "code",
   "execution_count": 19,
   "id": "6159d0ac",
   "metadata": {},
   "outputs": [],
   "source": [
    "using BSON: @save"
   ]
  },
  {
   "cell_type": "code",
   "execution_count": null,
   "id": "73da1857",
   "metadata": {},
   "outputs": [],
   "source": []
  }
 ],
 "metadata": {
  "kernelspec": {
   "display_name": "Julia 1.7.1",
   "language": "julia",
   "name": "julia-1.7"
  },
  "language_info": {
   "file_extension": ".jl",
   "mimetype": "application/julia",
   "name": "julia",
   "version": "1.7.1"
  }
 },
 "nbformat": 4,
 "nbformat_minor": 5
}
