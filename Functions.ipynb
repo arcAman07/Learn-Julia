{
 "cells": [
  {
   "cell_type": "raw",
   "id": "7e4c338c",
   "metadata": {},
   "source": [
    "Functions\n",
    "Topics:\n",
    "\n",
    "How to declare a function\n",
    "Duck-typing in Julia\n",
    "Mutating vs. non-mutating functions\n",
    "Some higher order functions\n",
    "How to declare a function\n",
    "Julia gives us a few different ways to write a function. The first requires the function and end keywords"
   ]
  },
  {
   "cell_type": "markdown",
   "id": "96652619",
   "metadata": {},
   "source": [
    "# How to declare a function"
   ]
  },
  {
   "cell_type": "raw",
   "id": "fb9d682c",
   "metadata": {},
   "source": [
    "Julia gives us a few different ways to write a function. The first requires the function and end keywords"
   ]
  },
  {
   "cell_type": "code",
   "execution_count": 1,
   "id": "1c899ab3",
   "metadata": {},
   "outputs": [
    {
     "data": {
      "text/plain": [
       "sayhi (generic function with 1 method)"
      ]
     },
     "execution_count": 1,
     "metadata": {},
     "output_type": "execute_result"
    }
   ],
   "source": [
    "function sayhi(name)\n",
    "    println(\"My name is $name and I am a god\")\n",
    "end"
   ]
  },
  {
   "cell_type": "code",
   "execution_count": 2,
   "id": "ae7bad71",
   "metadata": {},
   "outputs": [
    {
     "data": {
      "text/plain": [
       "f (generic function with 1 method)"
      ]
     },
     "execution_count": 2,
     "metadata": {},
     "output_type": "execute_result"
    }
   ],
   "source": [
    "function f(x)\n",
    "    return x^2\n",
    "end"
   ]
  },
  {
   "cell_type": "code",
   "execution_count": 3,
   "id": "45e20e96",
   "metadata": {},
   "outputs": [
    {
     "data": {
      "text/plain": [
       "100"
      ]
     },
     "execution_count": 3,
     "metadata": {},
     "output_type": "execute_result"
    }
   ],
   "source": [
    "f(10)"
   ]
  },
  {
   "cell_type": "code",
   "execution_count": 4,
   "id": "9277293a",
   "metadata": {},
   "outputs": [
    {
     "name": "stdout",
     "output_type": "stream",
     "text": [
      "My name is Aman and I am a god\n"
     ]
    }
   ],
   "source": [
    "sayhi(\"Aman\")"
   ]
  },
  {
   "cell_type": "raw",
   "id": "9cbff613",
   "metadata": {},
   "source": [
    "Alternatively, we could have declared either of these functions in a single line"
   ]
  },
  {
   "cell_type": "code",
   "execution_count": 5,
   "id": "de04ef95",
   "metadata": {},
   "outputs": [
    {
     "data": {
      "text/plain": [
       "sayhi2 (generic function with 1 method)"
      ]
     },
     "execution_count": 5,
     "metadata": {},
     "output_type": "execute_result"
    }
   ],
   "source": [
    "sayhi2(name) = println(\"Hi $name, it's great to see you!\")"
   ]
  },
  {
   "cell_type": "code",
   "execution_count": 7,
   "id": "a7ecde2c",
   "metadata": {},
   "outputs": [
    {
     "name": "stdout",
     "output_type": "stream",
     "text": [
      "Hi aman, it's great to see you!\n"
     ]
    }
   ],
   "source": [
    "sayhi2(\"aman\")"
   ]
  },
  {
   "cell_type": "code",
   "execution_count": 8,
   "id": "43ed3f0c",
   "metadata": {},
   "outputs": [
    {
     "data": {
      "text/plain": [
       "f2 (generic function with 1 method)"
      ]
     },
     "execution_count": 8,
     "metadata": {},
     "output_type": "execute_result"
    }
   ],
   "source": [
    "f2(x) = x^2"
   ]
  },
  {
   "cell_type": "code",
   "execution_count": 9,
   "id": "35b31105",
   "metadata": {},
   "outputs": [
    {
     "data": {
      "text/plain": [
       "1764"
      ]
     },
     "execution_count": 9,
     "metadata": {},
     "output_type": "execute_result"
    }
   ],
   "source": [
    "f2(42)"
   ]
  },
  {
   "cell_type": "raw",
   "id": "c2af482c",
   "metadata": {},
   "source": [
    "Finally, we could have declared these as \"anonymous\" functions"
   ]
  },
  {
   "cell_type": "code",
   "execution_count": 11,
   "id": "c47fde4a",
   "metadata": {},
   "outputs": [
    {
     "data": {
      "text/plain": [
       "#1 (generic function with 1 method)"
      ]
     },
     "execution_count": 11,
     "metadata": {},
     "output_type": "execute_result"
    }
   ],
   "source": [
    "sayhi3 = name -> println(\"Hi $name, it's great to see you!\")"
   ]
  },
  {
   "cell_type": "code",
   "execution_count": 12,
   "id": "4c84b80d",
   "metadata": {},
   "outputs": [
    {
     "data": {
      "text/plain": [
       "#3 (generic function with 1 method)"
      ]
     },
     "execution_count": 12,
     "metadata": {},
     "output_type": "execute_result"
    }
   ],
   "source": [
    "f3 = x -> x^2"
   ]
  },
  {
   "cell_type": "code",
   "execution_count": 13,
   "id": "dae72f6f",
   "metadata": {},
   "outputs": [
    {
     "name": "stdout",
     "output_type": "stream",
     "text": [
      "Hi Chewbacca, it's great to see you!\n"
     ]
    }
   ],
   "source": [
    "sayhi3(\"Chewbacca\")"
   ]
  },
  {
   "cell_type": "code",
   "execution_count": 14,
   "id": "837d34a6",
   "metadata": {},
   "outputs": [
    {
     "data": {
      "text/plain": [
       "1764"
      ]
     },
     "execution_count": 14,
     "metadata": {},
     "output_type": "execute_result"
    }
   ],
   "source": [
    "f3(42)"
   ]
  },
  {
   "cell_type": "raw",
   "id": "9b878c4c",
   "metadata": {},
   "source": [
    "Duck-typing in Julia\n",
    "\"If it quacks like a duck, it's a duck.\"\n",
    "\n",
    "Julia functions will just work on whatever inputs make sense.\n",
    "\n",
    "For example, sayhi works on the name of this minor tv character, written as an integer..."
   ]
  },
  {
   "cell_type": "code",
   "execution_count": 17,
   "id": "37d9c24a",
   "metadata": {},
   "outputs": [
    {
     "name": "stdout",
     "output_type": "stream",
     "text": [
      "My name is 55595472 and I am a god\n"
     ]
    }
   ],
   "source": [
    "sayhi(55595472)"
   ]
  },
  {
   "cell_type": "code",
   "execution_count": 18,
   "id": "c82f683c",
   "metadata": {},
   "outputs": [
    {
     "data": {
      "text/plain": [
       "3×3 Matrix{Float64}:\n",
       " 0.385264  0.256316  0.462952\n",
       " 0.907816  0.755937  0.513532\n",
       " 0.106502  0.792384  0.310017"
      ]
     },
     "execution_count": 18,
     "metadata": {},
     "output_type": "execute_result"
    }
   ],
   "source": [
    "A = rand(3, 3)\n",
    "A"
   ]
  },
  {
   "cell_type": "code",
   "execution_count": 19,
   "id": "31cb7a5d",
   "metadata": {},
   "outputs": [
    {
     "data": {
      "text/plain": [
       "3×3 Matrix{Float64}:\n",
       " 0.430421  0.659344  0.453508\n",
       " 1.09069   1.21104   0.967677\n",
       " 0.793388  0.871944  0.552331"
      ]
     },
     "execution_count": 19,
     "metadata": {},
     "output_type": "execute_result"
    }
   ],
   "source": [
    "f(A)"
   ]
  },
  {
   "cell_type": "raw",
   "id": "89c5e3ec",
   "metadata": {},
   "source": [
    "f will also work on a string like \"hi\" because * is defined for string inputs as string concatenation."
   ]
  },
  {
   "cell_type": "code",
   "execution_count": 20,
   "id": "8996d605",
   "metadata": {},
   "outputs": [
    {
     "data": {
      "text/plain": [
       "\"Hi Hi \""
      ]
     },
     "execution_count": 20,
     "metadata": {},
     "output_type": "execute_result"
    }
   ],
   "source": [
    "f(\"Hi \")"
   ]
  },
  {
   "cell_type": "raw",
   "id": "5cfda67b",
   "metadata": {},
   "source": [
    "On the other hand, f will not work on a vector. Unlike A^2, which is well-defined, the meaning of v^2 for a vector, v, is not a well-defined algebraic operation."
   ]
  },
  {
   "cell_type": "code",
   "execution_count": 25,
   "id": "b95f9fac",
   "metadata": {},
   "outputs": [
    {
     "data": {
      "text/plain": [
       "3-element Vector{Float64}:\n",
       " 0.48029415886774174\n",
       " 0.45753037292126764\n",
       " 0.05030281123904001"
      ]
     },
     "execution_count": 25,
     "metadata": {},
     "output_type": "execute_result"
    }
   ],
   "source": [
    "v = rand(3)"
   ]
  },
  {
   "cell_type": "code",
   "execution_count": 26,
   "id": "f34977fc",
   "metadata": {},
   "outputs": [
    {
     "ename": "LoadError",
     "evalue": "MethodError: no method matching ^(::Vector{Float64}, ::Int64)\n\u001b[0mClosest candidates are:\n\u001b[0m  ^(\u001b[91m::Union{AbstractChar, AbstractString}\u001b[39m, ::Integer) at C:\\Users\\amans\\AppData\\Local\\Programs\\Julia-1.7.1\\share\\julia\\base\\strings\\basic.jl:721\n\u001b[0m  ^(\u001b[91m::Complex{<:AbstractFloat}\u001b[39m, ::Integer) at C:\\Users\\amans\\AppData\\Local\\Programs\\Julia-1.7.1\\share\\julia\\base\\complex.jl:839\n\u001b[0m  ^(\u001b[91m::Complex{<:Integer}\u001b[39m, ::Integer) at C:\\Users\\amans\\AppData\\Local\\Programs\\Julia-1.7.1\\share\\julia\\base\\complex.jl:841\n\u001b[0m  ...",
     "output_type": "error",
     "traceback": [
      "MethodError: no method matching ^(::Vector{Float64}, ::Int64)\n\u001b[0mClosest candidates are:\n\u001b[0m  ^(\u001b[91m::Union{AbstractChar, AbstractString}\u001b[39m, ::Integer) at C:\\Users\\amans\\AppData\\Local\\Programs\\Julia-1.7.1\\share\\julia\\base\\strings\\basic.jl:721\n\u001b[0m  ^(\u001b[91m::Complex{<:AbstractFloat}\u001b[39m, ::Integer) at C:\\Users\\amans\\AppData\\Local\\Programs\\Julia-1.7.1\\share\\julia\\base\\complex.jl:839\n\u001b[0m  ^(\u001b[91m::Complex{<:Integer}\u001b[39m, ::Integer) at C:\\Users\\amans\\AppData\\Local\\Programs\\Julia-1.7.1\\share\\julia\\base\\complex.jl:841\n\u001b[0m  ...",
      "",
      "Stacktrace:",
      " [1] literal_pow",
      "   @ .\\intfuncs.jl:325 [inlined]",
      " [2] f(x::Vector{Float64})",
      "   @ Main .\\In[2]:2",
      " [3] top-level scope",
      "   @ In[26]:2",
      " [4] eval",
      "   @ .\\boot.jl:373 [inlined]",
      " [5] include_string(mapexpr::typeof(REPL.softscope), mod::Module, code::String, filename::String)",
      "   @ Base .\\loading.jl:1196"
     ]
    }
   ],
   "source": [
    "# This won't work\n",
    "f(v)"
   ]
  },
  {
   "cell_type": "raw",
   "id": "5558a734",
   "metadata": {},
   "source": [
    "Mutating vs. non-mutating functions\n",
    "By convention, functions followed by ! alter their contents and functions lacking ! do not.\n",
    "\n",
    "For example, let's look at the difference between sort and sort!."
   ]
  },
  {
   "cell_type": "code",
   "execution_count": 27,
   "id": "22eed046",
   "metadata": {},
   "outputs": [
    {
     "data": {
      "text/plain": [
       "3-element Vector{Int64}:\n",
       " 3\n",
       " 5\n",
       " 2"
      ]
     },
     "execution_count": 27,
     "metadata": {},
     "output_type": "execute_result"
    }
   ],
   "source": [
    "v = [3,5,2]"
   ]
  },
  {
   "cell_type": "code",
   "execution_count": 28,
   "id": "415a1b15",
   "metadata": {},
   "outputs": [
    {
     "data": {
      "text/plain": [
       "3-element Vector{Int64}:\n",
       " 2\n",
       " 3\n",
       " 5"
      ]
     },
     "execution_count": 28,
     "metadata": {},
     "output_type": "execute_result"
    }
   ],
   "source": [
    "sort(v)"
   ]
  },
  {
   "cell_type": "code",
   "execution_count": 29,
   "id": "14be6a08",
   "metadata": {},
   "outputs": [
    {
     "data": {
      "text/plain": [
       "3-element Vector{Int64}:\n",
       " 3\n",
       " 5\n",
       " 2"
      ]
     },
     "execution_count": 29,
     "metadata": {},
     "output_type": "execute_result"
    }
   ],
   "source": [
    "v"
   ]
  },
  {
   "cell_type": "code",
   "execution_count": 31,
   "id": "3107ac25",
   "metadata": {},
   "outputs": [
    {
     "data": {
      "text/plain": [
       "3-element Vector{Int64}:\n",
       " 2\n",
       " 3\n",
       " 5"
      ]
     },
     "execution_count": 31,
     "metadata": {},
     "output_type": "execute_result"
    }
   ],
   "source": [
    "sort!(v)"
   ]
  },
  {
   "cell_type": "code",
   "execution_count": 32,
   "id": "c171675e",
   "metadata": {},
   "outputs": [
    {
     "data": {
      "text/plain": [
       "3-element Vector{Int64}:\n",
       " 2\n",
       " 3\n",
       " 5"
      ]
     },
     "execution_count": 32,
     "metadata": {},
     "output_type": "execute_result"
    }
   ],
   "source": [
    "v"
   ]
  },
  {
   "cell_type": "raw",
   "id": "cfa15ef1",
   "metadata": {},
   "source": [
    "sort(v) returns a sorted array that contains the same elements as v, but v is left unchanged.\n",
    "\n",
    "\n",
    "On the other hand, when we run sort!(v), the contents of v are sorted within the array v."
   ]
  },
  {
   "cell_type": "markdown",
   "id": "4028d3fc",
   "metadata": {},
   "source": [
    "# Some higher order functions\n",
    "map"
   ]
  },
  {
   "cell_type": "code",
   "execution_count": null,
   "id": "b0cec224",
   "metadata": {},
   "outputs": [],
   "source": [
    "map is a \"higher-order\" function in Julia that takes a function as one of its input arguments. map then applies that function to every element of the data structure you pass it. For example, executing\n",
    "\n",
    "map(f, [1, 2, 3])\n",
    "will give you an output array where the function f has been applied to all elements of [1, 2, 3]\n",
    "\n",
    "[f(1), f(2), f(3)]"
   ]
  },
  {
   "cell_type": "code",
   "execution_count": null,
   "id": "b1fcc2ff",
   "metadata": {},
   "outputs": [],
   "source": [
    "map(f, [1, 2, 3])"
   ]
  },
  {
   "cell_type": "raw",
   "id": "8f87f0f4",
   "metadata": {},
   "source": [
    "Here we've squared all the elements of the vector [1, 2, 3], rather than squaring the vector [1, 2, 3].\n",
    "\n",
    "To do this, we could have passed to map an anonymous function rather than a named function, such as"
   ]
  },
  {
   "cell_type": "code",
   "execution_count": null,
   "id": "a8b5e300",
   "metadata": {},
   "outputs": [],
   "source": [
    "map(x -> x^3, [1, 2, 3])"
   ]
  },
  {
   "cell_type": "code",
   "execution_count": null,
   "id": "e882121c",
   "metadata": {},
   "outputs": [],
   "source": [
    "broadcast\n",
    "broadcast is another higher-order function like map. broadcast is a generalization of map, so it can do every thing map can do and more. The syntax for calling broadcast is the same as for calling map"
   ]
  },
  {
   "cell_type": "code",
   "execution_count": 33,
   "id": "df05ab90",
   "metadata": {},
   "outputs": [
    {
     "data": {
      "text/plain": [
       "3-element Vector{Int64}:\n",
       " 1\n",
       " 4\n",
       " 9"
      ]
     },
     "execution_count": 33,
     "metadata": {},
     "output_type": "execute_result"
    }
   ],
   "source": [
    "broadcast(f,[1,2,3])"
   ]
  },
  {
   "cell_type": "raw",
   "id": "93c7cc53",
   "metadata": {},
   "source": [
    "Some syntactic sugar for calling broadcast is to place a . between the name of the function you want to broadcast and its input arguments. For example,\n",
    "\n",
    "broadcast(f, [1, 2, 3])\n",
    "is the same as"
   ]
  },
  {
   "cell_type": "code",
   "execution_count": null,
   "id": "760e9242",
   "metadata": {},
   "outputs": [],
   "source": [
    "f.([1, 2, 3])"
   ]
  },
  {
   "cell_type": "raw",
   "id": "b2521c3b",
   "metadata": {},
   "source": [
    "Notice again how different this is from calling\n",
    "\n",
    "f([1, 2, 3])\n",
    "We can square every element of a vector, but we can't square a vector!\n",
    "\n",
    "To drive home the point, let's look at the difference between\n",
    "\n",
    "f(A)\n",
    "and\n",
    "\n",
    "f.(A)\n",
    "for a matrix A:"
   ]
  },
  {
   "cell_type": "code",
   "execution_count": 34,
   "id": "f7a05ab5",
   "metadata": {},
   "outputs": [
    {
     "data": {
      "text/plain": [
       "add_one (generic function with 1 method)"
      ]
     },
     "execution_count": 34,
     "metadata": {},
     "output_type": "execute_result"
    }
   ],
   "source": [
    "function add_one(x)\n",
    "    return x+1\n",
    "end"
   ]
  },
  {
   "cell_type": "code",
   "execution_count": 35,
   "id": "b964d3bc",
   "metadata": {},
   "outputs": [
    {
     "data": {
      "text/plain": [
       "2"
      ]
     },
     "execution_count": 35,
     "metadata": {},
     "output_type": "execute_result"
    }
   ],
   "source": [
    "add_one(1)"
   ]
  },
  {
   "cell_type": "code",
   "execution_count": 37,
   "id": "2527c5eb",
   "metadata": {},
   "outputs": [
    {
     "data": {
      "text/plain": [
       "add_two (generic function with 1 method)"
      ]
     },
     "execution_count": 37,
     "metadata": {},
     "output_type": "execute_result"
    }
   ],
   "source": [
    "add_two(x) = x+1"
   ]
  },
  {
   "cell_type": "code",
   "execution_count": 38,
   "id": "5bff7639",
   "metadata": {},
   "outputs": [
    {
     "data": {
      "text/plain": [
       "3"
      ]
     },
     "execution_count": 38,
     "metadata": {},
     "output_type": "execute_result"
    }
   ],
   "source": [
    "add_two(2)"
   ]
  },
  {
   "cell_type": "code",
   "execution_count": 41,
   "id": "58b070c6",
   "metadata": {},
   "outputs": [
    {
     "data": {
      "text/plain": [
       "#5 (generic function with 1 method)"
      ]
     },
     "execution_count": 41,
     "metadata": {},
     "output_type": "execute_result"
    }
   ],
   "source": [
    "add_three = x -> x +1"
   ]
  },
  {
   "cell_type": "code",
   "execution_count": 42,
   "id": "6bfcfcd5",
   "metadata": {},
   "outputs": [
    {
     "data": {
      "text/plain": [
       "6"
      ]
     },
     "execution_count": 42,
     "metadata": {},
     "output_type": "execute_result"
    }
   ],
   "source": [
    "add_three(5)"
   ]
  },
  {
   "cell_type": "code",
   "execution_count": 43,
   "id": "5b583d8c",
   "metadata": {},
   "outputs": [
    {
     "data": {
      "text/plain": [
       "3×3 Matrix{Int64}:\n",
       " 1  2  3\n",
       " 4  5  6\n",
       " 7  8  9"
      ]
     },
     "execution_count": 43,
     "metadata": {},
     "output_type": "execute_result"
    }
   ],
   "source": [
    "A = [i + 3*j for j in 0:2, i in 1:3]"
   ]
  },
  {
   "cell_type": "code",
   "execution_count": 44,
   "id": "715c4f3d",
   "metadata": {},
   "outputs": [
    {
     "data": {
      "text/plain": [
       "Matrix{Int64} (alias for Array{Int64, 2})"
      ]
     },
     "execution_count": 44,
     "metadata": {},
     "output_type": "execute_result"
    }
   ],
   "source": [
    "typeof(A)"
   ]
  },
  {
   "cell_type": "code",
   "execution_count": 45,
   "id": "8ac04ade",
   "metadata": {},
   "outputs": [
    {
     "data": {
      "text/plain": [
       "3×3 Matrix{Int64}:\n",
       " 2  3   4\n",
       " 5  6   7\n",
       " 8  9  10"
      ]
     },
     "execution_count": 45,
     "metadata": {},
     "output_type": "execute_result"
    }
   ],
   "source": [
    "map(add_one,A)"
   ]
  },
  {
   "cell_type": "code",
   "execution_count": 47,
   "id": "cd9f3a12",
   "metadata": {},
   "outputs": [
    {
     "data": {
      "text/plain": [
       "3×3 Matrix{Int64}:\n",
       " 2  3   4\n",
       " 5  6   7\n",
       " 8  9  10"
      ]
     },
     "execution_count": 47,
     "metadata": {},
     "output_type": "execute_result"
    }
   ],
   "source": [
    "broadcast(add_two,A)"
   ]
  },
  {
   "cell_type": "code",
   "execution_count": 49,
   "id": "253a9512",
   "metadata": {},
   "outputs": [
    {
     "data": {
      "text/plain": [
       "3×3 Matrix{Int64}:\n",
       " 2  3   4\n",
       " 5  6   7\n",
       " 8  9  10"
      ]
     },
     "execution_count": 49,
     "metadata": {},
     "output_type": "execute_result"
    }
   ],
   "source": [
    "A2 = add_three.(A)"
   ]
  },
  {
   "cell_type": "code",
   "execution_count": 50,
   "id": "6a9e2b4b",
   "metadata": {},
   "outputs": [
    {
     "data": {
      "text/plain": [
       "3×3 Matrix{Int64}:\n",
       " 2  3   4\n",
       " 5  6   7\n",
       " 8  9  10"
      ]
     },
     "execution_count": 50,
     "metadata": {},
     "output_type": "execute_result"
    }
   ],
   "source": [
    "A2"
   ]
  }
 ],
 "metadata": {
  "kernelspec": {
   "display_name": "Julia 1.7.1",
   "language": "julia",
   "name": "julia-1.7"
  },
  "language_info": {
   "file_extension": ".jl",
   "mimetype": "application/julia",
   "name": "julia",
   "version": "1.7.1"
  }
 },
 "nbformat": 4,
 "nbformat_minor": 5
}
