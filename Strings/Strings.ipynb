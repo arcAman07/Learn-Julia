{
 "cells": [
  {
   "cell_type": "code",
   "execution_count": 1,
   "id": "86a4b198",
   "metadata": {},
   "outputs": [
    {
     "data": {
      "text/plain": [
       "\"I am Aman\""
      ]
     },
     "execution_count": 1,
     "metadata": {},
     "output_type": "execute_result"
    }
   ],
   "source": [
    "s = \"I am Aman\""
   ]
  },
  {
   "cell_type": "code",
   "execution_count": 2,
   "id": "4ecf89b1",
   "metadata": {},
   "outputs": [],
   "source": [
    "# Another way of representing a string"
   ]
  },
  {
   "cell_type": "code",
   "execution_count": 3,
   "id": "dfe47bec",
   "metadata": {},
   "outputs": [
    {
     "data": {
      "text/plain": [
       "\"I am a God\""
      ]
     },
     "execution_count": 3,
     "metadata": {},
     "output_type": "execute_result"
    }
   ],
   "source": [
    "s2 = \"\"\"I am a God\"\"\""
   ]
  },
  {
   "cell_type": "code",
   "execution_count": 4,
   "id": "7404c13a",
   "metadata": {},
   "outputs": [
    {
     "ename": "LoadError",
     "evalue": "syntax: cannot juxtapose string literal",
     "output_type": "error",
     "traceback": [
      "syntax: cannot juxtapose string literal",
      "",
      "Stacktrace:",
      " [1] top-level scope",
      "   @ In[4]:1",
      " [2] eval",
      "   @ .\\boot.jl:373 [inlined]",
      " [3] include_string(mapexpr::typeof(REPL.softscope), mod::Module, code::String, filename::String)",
      "   @ Base .\\loading.jl:1196"
     ]
    }
   ],
   "source": [
    "\"Here, we get an \"error\" because it's ambiguous where this string ends \""
   ]
  },
  {
   "cell_type": "code",
   "execution_count": 5,
   "id": "3519e790",
   "metadata": {},
   "outputs": [
    {
     "data": {
      "text/plain": [
       "\"Look, Mom, no \\\"errors\\\"!!! \""
      ]
     },
     "execution_count": 5,
     "metadata": {},
     "output_type": "execute_result"
    }
   ],
   "source": [
    "\"\"\"Look, Mom, no \"errors\"!!! \"\"\""
   ]
  },
  {
   "cell_type": "code",
   "execution_count": 6,
   "id": "d96a33c3",
   "metadata": {},
   "outputs": [
    {
     "data": {
      "text/plain": [
       "Char"
      ]
     },
     "execution_count": 6,
     "metadata": {},
     "output_type": "execute_result"
    }
   ],
   "source": [
    "typeof('a')"
   ]
  },
  {
   "cell_type": "code",
   "execution_count": 7,
   "id": "e26ae016",
   "metadata": {},
   "outputs": [
    {
     "ename": "LoadError",
     "evalue": "syntax: character literal contains multiple characters",
     "output_type": "error",
     "traceback": [
      "syntax: character literal contains multiple characters",
      "",
      "Stacktrace:",
      " [1] top-level scope",
      "   @ In[7]:1",
      " [2] eval",
      "   @ .\\boot.jl:373 [inlined]",
      " [3] include_string(mapexpr::typeof(REPL.softscope), mod::Module, code::String, filename::String)",
      "   @ Base .\\loading.jl:1196"
     ]
    }
   ],
   "source": [
    "'We will get an error here'"
   ]
  },
  {
   "cell_type": "code",
   "execution_count": 8,
   "id": "7689c573",
   "metadata": {},
   "outputs": [
    {
     "data": {
      "text/plain": [
       "7"
      ]
     },
     "execution_count": 8,
     "metadata": {},
     "output_type": "execute_result"
    }
   ],
   "source": [
    "name = \"Aman\"\n",
    "age = 19\n",
    "fav_number = 7"
   ]
  },
  {
   "cell_type": "code",
   "execution_count": 9,
   "id": "93477ca5",
   "metadata": {},
   "outputs": [
    {
     "name": "stdout",
     "output_type": "stream",
     "text": [
      "My name is Aman, 19 years old and having 7 as my favourite number\n"
     ]
    }
   ],
   "source": [
    "println(\"My name is $name, $age years old and having $fav_number as my favourite number\")"
   ]
  },
  {
   "cell_type": "code",
   "execution_count": 14,
   "id": "9e21dc94",
   "metadata": {},
   "outputs": [
    {
     "data": {
      "text/plain": [
       "2"
      ]
     },
     "execution_count": 14,
     "metadata": {},
     "output_type": "execute_result"
    }
   ],
   "source": [
    "s3 = \"I am Aman \"\n",
    "s4 = \"and I am a God\"\n",
    "num_no = 2"
   ]
  },
  {
   "cell_type": "code",
   "execution_count": 15,
   "id": "de4f169a",
   "metadata": {},
   "outputs": [
    {
     "data": {
      "text/plain": [
       "\"I am Aman and I am a God\""
      ]
     },
     "execution_count": 15,
     "metadata": {},
     "output_type": "execute_result"
    }
   ],
   "source": [
    "string(s3,s4)"
   ]
  },
  {
   "cell_type": "code",
   "execution_count": 17,
   "id": "1793e08a",
   "metadata": {},
   "outputs": [
    {
     "data": {
      "text/plain": [
       "\"I dont know 2 but its greater than 1\""
      ]
     },
     "execution_count": 17,
     "metadata": {},
     "output_type": "execute_result"
    }
   ],
   "source": [
    "string(\"I dont know \",num_no,\" but its greater than 1\")"
   ]
  },
  {
   "cell_type": "code",
   "execution_count": 18,
   "id": "afc0698c",
   "metadata": {},
   "outputs": [
    {
     "data": {
      "text/plain": [
       "\"I am Aman and I am a God\""
      ]
     },
     "execution_count": 18,
     "metadata": {},
     "output_type": "execute_result"
    }
   ],
   "source": [
    "s3 * s4"
   ]
  },
  {
   "cell_type": "code",
   "execution_count": 20,
   "id": "f373fd6f",
   "metadata": {},
   "outputs": [
    {
     "data": {
      "text/plain": [
       "\"7\""
      ]
     },
     "execution_count": 20,
     "metadata": {},
     "output_type": "execute_result"
    }
   ],
   "source": [
    "a = 3\n",
    "b = 4\n",
    "c = string(a,\" + \",b)\n",
    "d = string(a+b)"
   ]
  },
  {
   "cell_type": "code",
   "execution_count": 21,
   "id": "7573b939",
   "metadata": {},
   "outputs": [
    {
     "data": {
      "text/plain": [
       "\"3 + 4\""
      ]
     },
     "execution_count": 21,
     "metadata": {},
     "output_type": "execute_result"
    }
   ],
   "source": [
    "c"
   ]
  },
  {
   "cell_type": "code",
   "execution_count": 22,
   "id": "912c0c72",
   "metadata": {},
   "outputs": [
    {
     "data": {
      "text/plain": [
       "\"7\""
      ]
     },
     "execution_count": 22,
     "metadata": {},
     "output_type": "execute_result"
    }
   ],
   "source": [
    "d"
   ]
  },
  {
   "cell_type": "code",
   "execution_count": null,
   "id": "057764bf",
   "metadata": {},
   "outputs": [],
   "source": []
  }
 ],
 "metadata": {
  "kernelspec": {
   "display_name": "Julia 1.7.1",
   "language": "julia",
   "name": "julia-1.7"
  },
  "language_info": {
   "file_extension": ".jl",
   "mimetype": "application/julia",
   "name": "julia",
   "version": "1.7.1"
  }
 },
 "nbformat": 4,
 "nbformat_minor": 5
}
